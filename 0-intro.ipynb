{
 "cells": [
  {
   "cell_type": "markdown",
   "metadata": {},
   "source": [
    "# Data Visualization Workshop"
   ]
  },
  {
   "cell_type": "markdown",
   "metadata": {},
   "source": [
    "## Format\n",
    "- Six sessions (each Tuesday of February and first half of March)\n",
    "  - Same time (11am - 12:30pm)\n",
    "  - Same place (VKC Library, MMR)\n",
    "\n",
    "\n",
    "- Each session lasts approximately one hour\n",
    " - 30 minutes for the first sub-topic\n",
    " - 5 minutes break\n",
    " - 30 minutes for the second sub-topic\n",
    " - Up to 30 minutes afterwards for any questions or extra topics\n",
    "- Questions are encouraged during the workshop!\n",
    "- Will cover as much of the essential content as time allows. The interested atendee is invited to read the rest at home.\n",
    "\n",
    "\n",
    "- Each session presents concepts and exemplifies their use\n",
    "  - Exercises (marked with 💪) help solidify your understanding\n",
    "  - Tips (marked with ℹ️) give useful advice about discussed concepts\n",
    "  - Trivia (marked with 👾) list some fun tidbits\n",
    "- Missed a section or wish to check your solutions? Filled notebooks will be included\n",
    "\n",
    "- Most up to date versions of all files always available at https://github.com/stefan-niculae/viz-workshop"
   ]
  },
  {
   "cell_type": "markdown",
   "metadata": {},
   "source": [
    "## Content\n",
    "\n",
    "1. **Environment**\n",
    "   - Python basics\n",
    "   - Jupyter environment\n",
    "   - (extra) environment setup from scratch\n",
    "2. **Data manipulation**\n",
    "   - Numpy arrays\n",
    "   - Pandas dataframes\n",
    "3. **Plotting**\n",
    "   - Fundamental charts (in Matplotlib)\n",
    "   - Advanced charts (including Seaborn)\n",
    "   - (extra) specialized charts (including geospatial and networks)\n",
    "4. **Interactivity**\n",
    "   - Interactive charts (using Plotly)\n",
    "   - Visualization web app (using Dash)\n",
    "   - (extra) integrating web elements (using Flask)\n",
    "5. **Practical tips**\n",
    "   - Dataset cleaning and preparation\n",
    "   - Common fallacies and best practices\n",
    "   - (extra) exploration of good and bad examples of popular charts\n",
    "6. **Putting it all together**\n",
    "   - Exploring a real dataset\n",
    "   - Conveying a message with your visualization"
   ]
  },
  {
   "cell_type": "markdown",
   "metadata": {},
   "source": [
    "## Audience\n",
    "\n",
    "- **No programming experience (in Python)**: we'll start from scratch but make sure to pay attention in the beginning!\n",
    "- **Python/Pandas experience**: might want to skip the first two workshops, but you could always learn new tricks!\n",
    "- **Plotting in Python experience**: might learn some tips, or interesting packages!"
   ]
  },
  {
   "cell_type": "markdown",
   "metadata": {},
   "source": [
    "## Facilitator: Stefan\n",
    "\n",
    "- stefan.niculae@usc.edu — please reach out with any questions or concerns\n",
    "- academic research experience and data science/research engineering industry experience\n",
    "- included concepts my (former) colleagues and I use most frequently, found most useful and keep coming back to"
   ]
  }
 ],
 "metadata": {
  "kernelspec": {
   "display_name": "Python 3",
   "language": "python",
   "name": "python3"
  },
  "language_info": {
   "codemirror_mode": {
    "name": "ipython",
    "version": 3
   },
   "file_extension": ".py",
   "mimetype": "text/x-python",
   "name": "python",
   "nbconvert_exporter": "python",
   "pygments_lexer": "ipython3",
   "version": "3.7.0"
  }
 },
 "nbformat": 4,
 "nbformat_minor": 2
}
