{
 "cells": [
  {
   "cell_type": "markdown",
   "metadata": {},
   "source": [
    "# Data wrangling"
   ]
  },
  {
   "cell_type": "markdown",
   "metadata": {},
   "source": [
    "TODO: intro"
   ]
  },
  {
   "cell_type": "markdown",
   "metadata": {},
   "source": [
    "### Table of contents\n",
    "\n",
    "- Numpy arrays\n",
    " - creation\n",
    "   - randomness\n",
    " - accessing\n",
    " - operations\n",
    " - broadcasting\n",
    "\n",
    "\n",
    "\n",
    "- Pandas dataframes\n",
    " - creation\n",
    " - accessing\n",
    " - extension\n",
    " - missing values\n",
    " - deletion\n",
    " - operations\n",
    " - aggregation\n",
    " - loading and saving\n",
    "\n",
    "\n",
    "- Further reading"
   ]
  },
  {
   "cell_type": "markdown",
   "metadata": {},
   "source": [
    "TODO: links"
   ]
  },
  {
   "cell_type": "markdown",
   "metadata": {},
   "source": [
    "TODO: exercises"
   ]
  },
  {
   "cell_type": "markdown",
   "metadata": {},
   "source": [
    "## Arrays"
   ]
  },
  {
   "cell_type": "markdown",
   "metadata": {},
   "source": [
    "- **Numpy**: numeric computation\n",
    " - array operations\n",
    " - masking\n",
    " - smoothening filter"
   ]
  },
  {
   "cell_type": "markdown",
   "metadata": {},
   "source": [
    "won't touch any linear algebra topics (matrix multiplication, etc)"
   ]
  },
  {
   "cell_type": "code",
   "execution_count": 2,
   "metadata": {},
   "outputs": [],
   "source": [
    "import numpy as np"
   ]
  },
  {
   "cell_type": "markdown",
   "metadata": {},
   "source": [
    "usually homogenous\n",
    "\n",
    "must have all dimensions equal, can't have \n",
    "```\n",
    "[\n",
    " [1,2,3], \n",
    " [1,2]\n",
    "]\n",
    "```"
   ]
  },
  {
   "cell_type": "code",
   "execution_count": 3,
   "metadata": {},
   "outputs": [],
   "source": [
    "squares = np.array([0, 1, 4, 9, 16, 25, 36])"
   ]
  },
  {
   "cell_type": "markdown",
   "metadata": {},
   "source": [
    "## accessing"
   ]
  },
  {
   "cell_type": "markdown",
   "metadata": {},
   "source": [
    "like lists"
   ]
  },
  {
   "cell_type": "code",
   "execution_count": 4,
   "metadata": {},
   "outputs": [
    {
     "data": {
      "text/plain": [
       "array([25,  4,  1])"
      ]
     },
     "execution_count": 4,
     "metadata": {},
     "output_type": "execute_result"
    }
   ],
   "source": [
    "indices = [5, 2, 1]\n",
    "squares[indices]  # can also access using multiple indices"
   ]
  },
  {
   "cell_type": "code",
   "execution_count": 5,
   "metadata": {},
   "outputs": [
    {
     "data": {
      "text/plain": [
       "array([100, 101, 104, 109, 116, 125, 136])"
      ]
     },
     "execution_count": 5,
     "metadata": {},
     "output_type": "execute_result"
    }
   ],
   "source": [
    "squares + 100"
   ]
  },
  {
   "cell_type": "code",
   "execution_count": 6,
   "metadata": {},
   "outputs": [
    {
     "data": {
      "text/plain": [
       "array([  0,   1,   8,  27,  64, 125, 216, 343, 512, 729])"
      ]
     },
     "execution_count": 6,
     "metadata": {},
     "output_type": "execute_result"
    }
   ],
   "source": [
    "np.arange(10) ** 3"
   ]
  },
  {
   "cell_type": "markdown",
   "metadata": {},
   "source": [
    "---"
   ]
  },
  {
   "cell_type": "code",
   "execution_count": 7,
   "metadata": {},
   "outputs": [],
   "source": [
    "mask = (squares > 5)"
   ]
  },
  {
   "cell_type": "code",
   "execution_count": 8,
   "metadata": {},
   "outputs": [
    {
     "data": {
      "text/plain": [
       "array([False, False, False,  True,  True,  True,  True])"
      ]
     },
     "execution_count": 8,
     "metadata": {},
     "output_type": "execute_result"
    }
   ],
   "source": [
    "mask"
   ]
  },
  {
   "cell_type": "code",
   "execution_count": 9,
   "metadata": {},
   "outputs": [
    {
     "data": {
      "text/plain": [
       "array([ 9, 16, 25, 36])"
      ]
     },
     "execution_count": 9,
     "metadata": {},
     "output_type": "execute_result"
    }
   ],
   "source": [
    "squares[mask]"
   ]
  },
  {
   "cell_type": "markdown",
   "metadata": {},
   "source": [
    "---"
   ]
  },
  {
   "cell_type": "code",
   "execution_count": 10,
   "metadata": {},
   "outputs": [],
   "source": [
    "# arrays can be n-dimensional\n",
    "m = np.array([\n",
    "    [5, 2, 3],\n",
    "    [4, 5, 1],\n",
    "    [7, 1, 2],\n",
    "    [6, 2, 9]\n",
    "])"
   ]
  },
  {
   "cell_type": "code",
   "execution_count": 11,
   "metadata": {},
   "outputs": [
    {
     "data": {
      "text/plain": [
       "(4, 3)"
      ]
     },
     "execution_count": 11,
     "metadata": {},
     "output_type": "execute_result"
    }
   ],
   "source": [
    "m.shape"
   ]
  },
  {
   "cell_type": "code",
   "execution_count": 12,
   "metadata": {},
   "outputs": [
    {
     "data": {
      "text/plain": [
       "array([[50, 20, 30],\n",
       "       [40, 50, 10],\n",
       "       [70, 10, 20],\n",
       "       [60, 20, 90]])"
      ]
     },
     "execution_count": 12,
     "metadata": {},
     "output_type": "execute_result"
    }
   ],
   "source": [
    "m * 10"
   ]
  },
  {
   "cell_type": "code",
   "execution_count": 13,
   "metadata": {},
   "outputs": [
    {
     "data": {
      "text/plain": [
       "array([[5, 2, 3],\n",
       "       [4, 5, 1]])"
      ]
     },
     "execution_count": 13,
     "metadata": {},
     "output_type": "execute_result"
    }
   ],
   "source": [
    "m[:2]  # first two rows"
   ]
  },
  {
   "cell_type": "code",
   "execution_count": 14,
   "metadata": {},
   "outputs": [
    {
     "data": {
      "text/plain": [
       "array([[5, 2],\n",
       "       [4, 5],\n",
       "       [7, 1],\n",
       "       [6, 2]])"
      ]
     },
     "execution_count": 14,
     "metadata": {},
     "output_type": "execute_result"
    }
   ],
   "source": [
    "m[:, :2]  # all rows, first two columns"
   ]
  },
  {
   "cell_type": "code",
   "execution_count": 15,
   "metadata": {},
   "outputs": [
    {
     "data": {
      "text/plain": [
       "array([[5, 2],\n",
       "       [4, 5]])"
      ]
     },
     "execution_count": 15,
     "metadata": {},
     "output_type": "execute_result"
    }
   ],
   "source": [
    "m[:2, :2]  # first two rows of the first two columns"
   ]
  },
  {
   "cell_type": "markdown",
   "metadata": {},
   "source": [
    "---"
   ]
  },
  {
   "cell_type": "markdown",
   "metadata": {},
   "source": [
    "reshaping"
   ]
  },
  {
   "cell_type": "code",
   "execution_count": 16,
   "metadata": {},
   "outputs": [],
   "source": [
    "a = np.arange(12)"
   ]
  },
  {
   "cell_type": "code",
   "execution_count": 17,
   "metadata": {},
   "outputs": [
    {
     "data": {
      "text/plain": [
       "array([ 0,  1,  2,  3,  4,  5,  6,  7,  8,  9, 10, 11])"
      ]
     },
     "execution_count": 17,
     "metadata": {},
     "output_type": "execute_result"
    }
   ],
   "source": [
    "a"
   ]
  },
  {
   "cell_type": "code",
   "execution_count": 18,
   "metadata": {},
   "outputs": [
    {
     "data": {
      "text/plain": [
       "array([[ 0,  1,  2],\n",
       "       [ 3,  4,  5],\n",
       "       [ 6,  7,  8],\n",
       "       [ 9, 10, 11]])"
      ]
     },
     "execution_count": 18,
     "metadata": {},
     "output_type": "execute_result"
    }
   ],
   "source": [
    "a.reshape(4, 3)  # 4 rows, 3 columns"
   ]
  },
  {
   "cell_type": "markdown",
   "metadata": {},
   "source": [
    "---"
   ]
  },
  {
   "cell_type": "markdown",
   "metadata": {},
   "source": [
    "more than two dimensions"
   ]
  },
  {
   "cell_type": "code",
   "execution_count": 19,
   "metadata": {},
   "outputs": [],
   "source": [
    "R = [1, 0, 0]  # red\n",
    "B = [0, 0, 1]  # blue\n",
    "W = [1, 1, 1]  # white"
   ]
  },
  {
   "cell_type": "code",
   "execution_count": 20,
   "metadata": {},
   "outputs": [],
   "source": [
    "picture = np.array([\n",
    "    [B, B, R, R],\n",
    "    [B, B, W, W],\n",
    "    [R, R, R, R],\n",
    "    [W, W, W, W],\n",
    "    [R, R, R, R],\n",
    "    [W, W, W, W],\n",
    "])"
   ]
  },
  {
   "cell_type": "code",
   "execution_count": 21,
   "metadata": {},
   "outputs": [
    {
     "data": {
      "text/plain": [
       "array([[[0, 0, 1],\n",
       "        [0, 0, 1],\n",
       "        [1, 0, 0],\n",
       "        [1, 0, 0]],\n",
       "\n",
       "       [[0, 0, 1],\n",
       "        [0, 0, 1],\n",
       "        [1, 1, 1],\n",
       "        [1, 1, 1]],\n",
       "\n",
       "       [[1, 0, 0],\n",
       "        [1, 0, 0],\n",
       "        [1, 0, 0],\n",
       "        [1, 0, 0]],\n",
       "\n",
       "       [[1, 1, 1],\n",
       "        [1, 1, 1],\n",
       "        [1, 1, 1],\n",
       "        [1, 1, 1]],\n",
       "\n",
       "       [[1, 0, 0],\n",
       "        [1, 0, 0],\n",
       "        [1, 0, 0],\n",
       "        [1, 0, 0]],\n",
       "\n",
       "       [[1, 1, 1],\n",
       "        [1, 1, 1],\n",
       "        [1, 1, 1],\n",
       "        [1, 1, 1]]])"
      ]
     },
     "execution_count": 21,
     "metadata": {},
     "output_type": "execute_result"
    }
   ],
   "source": [
    "picture"
   ]
  },
  {
   "cell_type": "code",
   "execution_count": 22,
   "metadata": {},
   "outputs": [
    {
     "data": {
      "text/plain": [
       "(6, 4, 3)"
      ]
     },
     "execution_count": 22,
     "metadata": {},
     "output_type": "execute_result"
    }
   ],
   "source": [
    "picture.shape  # rank is the number of dimensions, three in this case"
   ]
  },
  {
   "cell_type": "markdown",
   "metadata": {},
   "source": [
    "most functions allow you to specify an axis"
   ]
  },
  {
   "cell_type": "code",
   "execution_count": 23,
   "metadata": {},
   "outputs": [
    {
     "data": {
      "text/plain": [
       "44"
      ]
     },
     "execution_count": 23,
     "metadata": {},
     "output_type": "execute_result"
    }
   ],
   "source": [
    "picture.sum()  # overall"
   ]
  },
  {
   "cell_type": "markdown",
   "metadata": {},
   "source": [
    "TODO: exemplify axis in 2D"
   ]
  },
  {
   "cell_type": "code",
   "execution_count": 24,
   "metadata": {},
   "outputs": [
    {
     "data": {
      "text/plain": [
       "array([[4, 2, 4],\n",
       "       [4, 2, 4],\n",
       "       [6, 3, 3],\n",
       "       [6, 3, 3]])"
      ]
     },
     "execution_count": 24,
     "metadata": {},
     "output_type": "execute_result"
    }
   ],
   "source": [
    "picture.sum(axis=0)  # sum of each column"
   ]
  },
  {
   "cell_type": "code",
   "execution_count": 25,
   "metadata": {},
   "outputs": [
    {
     "data": {
      "text/plain": [
       "array([[2, 0, 2],\n",
       "       [2, 2, 4],\n",
       "       [4, 0, 0],\n",
       "       [4, 4, 4],\n",
       "       [4, 0, 0],\n",
       "       [4, 4, 4]])"
      ]
     },
     "execution_count": 25,
     "metadata": {},
     "output_type": "execute_result"
    }
   ],
   "source": [
    "picture.sum(axis=1)  # sum of each row"
   ]
  },
  {
   "cell_type": "code",
   "execution_count": 26,
   "metadata": {},
   "outputs": [
    {
     "data": {
      "text/plain": [
       "array([[1, 1, 1, 1],\n",
       "       [1, 1, 3, 3],\n",
       "       [1, 1, 1, 1],\n",
       "       [3, 3, 3, 3],\n",
       "       [1, 1, 1, 1],\n",
       "       [3, 3, 3, 3]])"
      ]
     },
     "execution_count": 26,
     "metadata": {},
     "output_type": "execute_result"
    }
   ],
   "source": [
    "picture.sum(axis=2)  # the sum of all three color channels"
   ]
  },
  {
   "cell_type": "markdown",
   "metadata": {},
   "source": [
    "---"
   ]
  },
  {
   "cell_type": "markdown",
   "metadata": {},
   "source": [
    "### Broadcasting"
   ]
  },
  {
   "cell_type": "code",
   "execution_count": 27,
   "metadata": {},
   "outputs": [
    {
     "data": {
      "text/plain": [
       "array([[[0, 0, 1],\n",
       "        [0, 0, 1],\n",
       "        [1, 0, 0],\n",
       "        [1, 0, 0]],\n",
       "\n",
       "       [[0, 0, 1],\n",
       "        [0, 0, 1],\n",
       "        [1, 1, 1],\n",
       "        [1, 1, 1]],\n",
       "\n",
       "       [[1, 0, 0],\n",
       "        [1, 0, 0],\n",
       "        [1, 0, 0],\n",
       "        [1, 0, 0]],\n",
       "\n",
       "       [[1, 1, 1],\n",
       "        [1, 1, 1],\n",
       "        [1, 1, 1],\n",
       "        [1, 1, 1]],\n",
       "\n",
       "       [[1, 0, 0],\n",
       "        [1, 0, 0],\n",
       "        [1, 0, 0],\n",
       "        [1, 0, 0]],\n",
       "\n",
       "       [[1, 1, 1],\n",
       "        [1, 1, 1],\n",
       "        [1, 1, 1],\n",
       "        [1, 1, 1]]])"
      ]
     },
     "execution_count": 27,
     "metadata": {},
     "output_type": "execute_result"
    }
   ],
   "source": [
    "picture"
   ]
  },
  {
   "cell_type": "code",
   "execution_count": 28,
   "metadata": {},
   "outputs": [
    {
     "data": {
      "text/plain": [
       "array([[[10, 10, 11],\n",
       "        [10, 10, 11],\n",
       "        [11, 10, 10],\n",
       "        [11, 10, 10]],\n",
       "\n",
       "       [[10, 10, 11],\n",
       "        [10, 10, 11],\n",
       "        [11, 11, 11],\n",
       "        [11, 11, 11]],\n",
       "\n",
       "       [[11, 10, 10],\n",
       "        [11, 10, 10],\n",
       "        [11, 10, 10],\n",
       "        [11, 10, 10]],\n",
       "\n",
       "       [[11, 11, 11],\n",
       "        [11, 11, 11],\n",
       "        [11, 11, 11],\n",
       "        [11, 11, 11]],\n",
       "\n",
       "       [[11, 10, 10],\n",
       "        [11, 10, 10],\n",
       "        [11, 10, 10],\n",
       "        [11, 10, 10]],\n",
       "\n",
       "       [[11, 11, 11],\n",
       "        [11, 11, 11],\n",
       "        [11, 11, 11],\n",
       "        [11, 11, 11]]])"
      ]
     },
     "execution_count": 28,
     "metadata": {},
     "output_type": "execute_result"
    }
   ],
   "source": [
    "picture + 10  # add 10 to each element"
   ]
  },
  {
   "cell_type": "code",
   "execution_count": 29,
   "metadata": {},
   "outputs": [
    {
     "data": {
      "text/plain": [
       "array([[[10,  0,  1],\n",
       "        [10,  0,  1],\n",
       "        [11,  0,  0],\n",
       "        [11,  0,  0]],\n",
       "\n",
       "       [[10,  0,  1],\n",
       "        [10,  0,  1],\n",
       "        [11,  1,  1],\n",
       "        [11,  1,  1]],\n",
       "\n",
       "       [[11,  0,  0],\n",
       "        [11,  0,  0],\n",
       "        [11,  0,  0],\n",
       "        [11,  0,  0]],\n",
       "\n",
       "       [[11,  1,  1],\n",
       "        [11,  1,  1],\n",
       "        [11,  1,  1],\n",
       "        [11,  1,  1]],\n",
       "\n",
       "       [[11,  0,  0],\n",
       "        [11,  0,  0],\n",
       "        [11,  0,  0],\n",
       "        [11,  0,  0]],\n",
       "\n",
       "       [[11,  1,  1],\n",
       "        [11,  1,  1],\n",
       "        [11,  1,  1],\n",
       "        [11,  1,  1]]])"
      ]
     },
     "execution_count": 29,
     "metadata": {},
     "output_type": "execute_result"
    }
   ],
   "source": [
    "picture + [10, 0, 0]  # add 10 to the Red channel of every pixel"
   ]
  },
  {
   "cell_type": "code",
   "execution_count": 30,
   "metadata": {},
   "outputs": [
    {
     "data": {
      "text/plain": [
       "array([[[10,  0,  1],\n",
       "        [10,  0,  1],\n",
       "        [ 1,  0, 10],\n",
       "        [ 1,  0, 10]],\n",
       "\n",
       "       [[10,  0,  1],\n",
       "        [10,  0,  1],\n",
       "        [ 1,  1, 11],\n",
       "        [ 1,  1, 11]],\n",
       "\n",
       "       [[11,  0,  0],\n",
       "        [11,  0,  0],\n",
       "        [ 1,  0, 10],\n",
       "        [ 1,  0, 10]],\n",
       "\n",
       "       [[11,  1,  1],\n",
       "        [11,  1,  1],\n",
       "        [ 1,  1, 11],\n",
       "        [ 1,  1, 11]],\n",
       "\n",
       "       [[11,  0,  0],\n",
       "        [11,  0,  0],\n",
       "        [ 1,  0, 10],\n",
       "        [ 1,  0, 10]],\n",
       "\n",
       "       [[11,  1,  1],\n",
       "        [11,  1,  1],\n",
       "        [ 1,  1, 11],\n",
       "        [ 1,  1, 11]]])"
      ]
     },
     "execution_count": 30,
     "metadata": {},
     "output_type": "execute_result"
    }
   ],
   "source": [
    "picture + [\n",
    "    [10, 0,  0],\n",
    "    [10, 0,  0],\n",
    "    [0,  0, 10],\n",
    "    [0,  0, 10],\n",
    "]  # add this to each horizontal line of pixels in the picture"
   ]
  },
  {
   "cell_type": "markdown",
   "metadata": {},
   "source": [
    "TODO: dtype"
   ]
  },
  {
   "cell_type": "markdown",
   "metadata": {},
   "source": [
    "---"
   ]
  },
  {
   "cell_type": "markdown",
   "metadata": {},
   "source": [
    "## creating"
   ]
  },
  {
   "cell_type": "code",
   "execution_count": 31,
   "metadata": {},
   "outputs": [
    {
     "data": {
      "text/plain": [
       "array([1., 1., 1., 1.])"
      ]
     },
     "execution_count": 31,
     "metadata": {},
     "output_type": "execute_result"
    }
   ],
   "source": [
    "np.ones(4)"
   ]
  },
  {
   "cell_type": "code",
   "execution_count": 32,
   "metadata": {},
   "outputs": [
    {
     "data": {
      "text/plain": [
       "array([[0., 0.],\n",
       "       [0., 0.],\n",
       "       [0., 0.]])"
      ]
     },
     "execution_count": 32,
     "metadata": {},
     "output_type": "execute_result"
    }
   ],
   "source": [
    "np.zeros((3, 2))"
   ]
  },
  {
   "cell_type": "code",
   "execution_count": 33,
   "metadata": {},
   "outputs": [
    {
     "data": {
      "text/plain": [
       "array([0, 0, 0, 0, 0, 0, 0])"
      ]
     },
     "execution_count": 33,
     "metadata": {},
     "output_type": "execute_result"
    }
   ],
   "source": [
    "np.zeros_like(squares)"
   ]
  },
  {
   "cell_type": "code",
   "execution_count": 34,
   "metadata": {},
   "outputs": [
    {
     "data": {
      "text/plain": [
       "array([ 0.,  1.,  4.,  9., 16., 25., 36.])"
      ]
     },
     "execution_count": 34,
     "metadata": {},
     "output_type": "execute_result"
    }
   ],
   "source": [
    "# conversion\n",
    "squares.astype(float)"
   ]
  },
  {
   "cell_type": "markdown",
   "metadata": {},
   "source": [
    "TODO: asarray, copy and deepcopy explanations"
   ]
  },
  {
   "cell_type": "code",
   "execution_count": 35,
   "metadata": {},
   "outputs": [
    {
     "data": {
      "text/plain": [
       "[0, 1, 2, 3, 4, 5, 6, 7, 8, 9]"
      ]
     },
     "execution_count": 35,
     "metadata": {},
     "output_type": "execute_result"
    }
   ],
   "source": [
    "list(range(10))"
   ]
  },
  {
   "cell_type": "code",
   "execution_count": 36,
   "metadata": {},
   "outputs": [
    {
     "data": {
      "text/plain": [
       "array([0, 1, 2, 3, 4, 5, 6, 7, 8, 9])"
      ]
     },
     "execution_count": 36,
     "metadata": {},
     "output_type": "execute_result"
    }
   ],
   "source": [
    "np.arange(10)  # same as built-in range, but result comes out as a numpy array"
   ]
  },
  {
   "cell_type": "code",
   "execution_count": 37,
   "metadata": {},
   "outputs": [
    {
     "data": {
      "text/plain": [
       "array([ 0. ,  1.5,  3. ,  4.5,  6. ,  7.5,  9. , 10.5, 12. , 13.5, 15. ])"
      ]
     },
     "execution_count": 37,
     "metadata": {},
     "output_type": "execute_result"
    }
   ],
   "source": [
    "np.linspace(start=0, stop=15, num=11)  # like \"range\" but allows for non-integer increments"
   ]
  },
  {
   "cell_type": "markdown",
   "metadata": {},
   "source": [
    "TODO: np.sin"
   ]
  },
  {
   "cell_type": "markdown",
   "metadata": {},
   "source": [
    "## Randomness"
   ]
  },
  {
   "cell_type": "code",
   "execution_count": 38,
   "metadata": {},
   "outputs": [],
   "source": [
    "np.random.seed(123)  # allows reproducibility of results"
   ]
  },
  {
   "cell_type": "code",
   "execution_count": 39,
   "metadata": {},
   "outputs": [
    {
     "data": {
      "text/plain": [
       "array([[0.69646919, 0.28613933],\n",
       "       [0.22685145, 0.55131477],\n",
       "       [0.71946897, 0.42310646],\n",
       "       [0.9807642 , 0.68482974]])"
      ]
     },
     "execution_count": 39,
     "metadata": {},
     "output_type": "execute_result"
    }
   ],
   "source": [
    "np.random.rand(4, 2)  # uniformly distributed [0, 1]"
   ]
  },
  {
   "cell_type": "code",
   "execution_count": 40,
   "metadata": {},
   "outputs": [
    {
     "data": {
      "text/plain": [
       "array([-2.42667924, -0.42891263,  1.26593626])"
      ]
     },
     "execution_count": 40,
     "metadata": {},
     "output_type": "execute_result"
    }
   ],
   "source": [
    "np.random.randn(3)  # standard normal distribution ~N(0, 1)"
   ]
  },
  {
   "cell_type": "code",
   "execution_count": 41,
   "metadata": {},
   "outputs": [
    {
     "data": {
      "text/plain": [
       "array([3, 4, 0])"
      ]
     },
     "execution_count": 41,
     "metadata": {},
     "output_type": "execute_result"
    }
   ],
   "source": [
    "np.random.randint(0, 10, size=3)"
   ]
  },
  {
   "cell_type": "code",
   "execution_count": 42,
   "metadata": {},
   "outputs": [
    {
     "data": {
      "text/plain": [
       "array(['red', 'red', 'green', 'blue', 'red'], dtype='<U5')"
      ]
     },
     "execution_count": 42,
     "metadata": {},
     "output_type": "execute_result"
    }
   ],
   "source": [
    "np.random.choice(['red', 'green', 'blue'], size=5)"
   ]
  },
  {
   "cell_type": "code",
   "execution_count": 43,
   "metadata": {},
   "outputs": [
    {
     "data": {
      "text/plain": [
       "array([2, 4, 1])"
      ]
     },
     "execution_count": 43,
     "metadata": {},
     "output_type": "execute_result"
    }
   ],
   "source": [
    "np.random.permutation([4, 2, 1])"
   ]
  },
  {
   "cell_type": "markdown",
   "metadata": {},
   "source": [
    "## operations"
   ]
  },
  {
   "cell_type": "markdown",
   "metadata": {},
   "source": [
    "a+b\n",
    "\n",
    "~a\n",
    "-a"
   ]
  },
  {
   "cell_type": "markdown",
   "metadata": {},
   "source": [
    "a.sum()\n",
    "a.std()\n",
    "a.max"
   ]
  },
  {
   "cell_type": "markdown",
   "metadata": {},
   "source": [
    "a.argmin"
   ]
  },
  {
   "cell_type": "markdown",
   "metadata": {},
   "source": [
    "m.T"
   ]
  },
  {
   "cell_type": "markdown",
   "metadata": {},
   "source": [
    "## Dataframes"
   ]
  },
  {
   "cell_type": "markdown",
   "metadata": {},
   "source": [
    "- **Pandas**: powerful dataframes\n",
    " - pivoting\n",
    " - grouping"
   ]
  },
  {
   "cell_type": "code",
   "execution_count": 44,
   "metadata": {},
   "outputs": [],
   "source": [
    "import pandas as pd"
   ]
  },
  {
   "cell_type": "code",
   "execution_count": 45,
   "metadata": {},
   "outputs": [],
   "source": [
    "# like matrix, but made for labeled data, and with functionality built in"
   ]
  },
  {
   "cell_type": "code",
   "execution_count": 46,
   "metadata": {},
   "outputs": [],
   "source": [
    "students = pd.DataFrame({\n",
    "    'height':    np.random.randint(150, 200, size=5),\n",
    "    'weight':    np.random.randint(50,  100, size=5),\n",
    "    'graduated': np.random.random(size=5) > .5,  # same as np.random.randint(0, 1, size=10).astype(bool)\n",
    "})"
   ]
  },
  {
   "cell_type": "code",
   "execution_count": 47,
   "metadata": {},
   "outputs": [
    {
     "data": {
      "text/html": [
       "<div>\n",
       "<style scoped>\n",
       "    .dataframe tbody tr th:only-of-type {\n",
       "        vertical-align: middle;\n",
       "    }\n",
       "\n",
       "    .dataframe tbody tr th {\n",
       "        vertical-align: top;\n",
       "    }\n",
       "\n",
       "    .dataframe thead th {\n",
       "        text-align: right;\n",
       "    }\n",
       "</style>\n",
       "<table border=\"1\" class=\"dataframe\">\n",
       "  <thead>\n",
       "    <tr style=\"text-align: right;\">\n",
       "      <th></th>\n",
       "      <th>height</th>\n",
       "      <th>weight</th>\n",
       "      <th>graduated</th>\n",
       "    </tr>\n",
       "  </thead>\n",
       "  <tbody>\n",
       "    <tr>\n",
       "      <th>0</th>\n",
       "      <td>197</td>\n",
       "      <td>78</td>\n",
       "      <td>False</td>\n",
       "    </tr>\n",
       "    <tr>\n",
       "      <th>1</th>\n",
       "      <td>198</td>\n",
       "      <td>88</td>\n",
       "      <td>False</td>\n",
       "    </tr>\n",
       "    <tr>\n",
       "      <th>2</th>\n",
       "      <td>157</td>\n",
       "      <td>83</td>\n",
       "      <td>True</td>\n",
       "    </tr>\n",
       "    <tr>\n",
       "      <th>3</th>\n",
       "      <td>191</td>\n",
       "      <td>71</td>\n",
       "      <td>False</td>\n",
       "    </tr>\n",
       "    <tr>\n",
       "      <th>4</th>\n",
       "      <td>185</td>\n",
       "      <td>80</td>\n",
       "      <td>False</td>\n",
       "    </tr>\n",
       "  </tbody>\n",
       "</table>\n",
       "</div>"
      ],
      "text/plain": [
       "   height  weight  graduated\n",
       "0     197      78      False\n",
       "1     198      88      False\n",
       "2     157      83       True\n",
       "3     191      71      False\n",
       "4     185      80      False"
      ]
     },
     "execution_count": 47,
     "metadata": {},
     "output_type": "execute_result"
    }
   ],
   "source": [
    "students"
   ]
  },
  {
   "cell_type": "code",
   "execution_count": 48,
   "metadata": {},
   "outputs": [],
   "source": [
    "students.index = list('abcde')  # it is implicitly indexed by numbers, but we can change that"
   ]
  },
  {
   "cell_type": "code",
   "execution_count": 49,
   "metadata": {},
   "outputs": [
    {
     "data": {
      "text/html": [
       "<div>\n",
       "<style scoped>\n",
       "    .dataframe tbody tr th:only-of-type {\n",
       "        vertical-align: middle;\n",
       "    }\n",
       "\n",
       "    .dataframe tbody tr th {\n",
       "        vertical-align: top;\n",
       "    }\n",
       "\n",
       "    .dataframe thead th {\n",
       "        text-align: right;\n",
       "    }\n",
       "</style>\n",
       "<table border=\"1\" class=\"dataframe\">\n",
       "  <thead>\n",
       "    <tr style=\"text-align: right;\">\n",
       "      <th></th>\n",
       "      <th>height</th>\n",
       "      <th>weight</th>\n",
       "      <th>graduated</th>\n",
       "    </tr>\n",
       "  </thead>\n",
       "  <tbody>\n",
       "    <tr>\n",
       "      <th>a</th>\n",
       "      <td>197</td>\n",
       "      <td>78</td>\n",
       "      <td>False</td>\n",
       "    </tr>\n",
       "    <tr>\n",
       "      <th>b</th>\n",
       "      <td>198</td>\n",
       "      <td>88</td>\n",
       "      <td>False</td>\n",
       "    </tr>\n",
       "    <tr>\n",
       "      <th>c</th>\n",
       "      <td>157</td>\n",
       "      <td>83</td>\n",
       "      <td>True</td>\n",
       "    </tr>\n",
       "    <tr>\n",
       "      <th>d</th>\n",
       "      <td>191</td>\n",
       "      <td>71</td>\n",
       "      <td>False</td>\n",
       "    </tr>\n",
       "    <tr>\n",
       "      <th>e</th>\n",
       "      <td>185</td>\n",
       "      <td>80</td>\n",
       "      <td>False</td>\n",
       "    </tr>\n",
       "  </tbody>\n",
       "</table>\n",
       "</div>"
      ],
      "text/plain": [
       "   height  weight  graduated\n",
       "a     197      78      False\n",
       "b     198      88      False\n",
       "c     157      83       True\n",
       "d     191      71      False\n",
       "e     185      80      False"
      ]
     },
     "execution_count": 49,
     "metadata": {},
     "output_type": "execute_result"
    }
   ],
   "source": [
    "students"
   ]
  },
  {
   "cell_type": "code",
   "execution_count": 50,
   "metadata": {},
   "outputs": [
    {
     "data": {
      "text/plain": [
       "5"
      ]
     },
     "execution_count": 50,
     "metadata": {},
     "output_type": "execute_result"
    }
   ],
   "source": [
    "len(students)"
   ]
  },
  {
   "cell_type": "code",
   "execution_count": 51,
   "metadata": {},
   "outputs": [
    {
     "data": {
      "text/plain": [
       "height       int64\n",
       "weight       int64\n",
       "graduated     bool\n",
       "dtype: object"
      ]
     },
     "execution_count": 51,
     "metadata": {},
     "output_type": "execute_result"
    }
   ],
   "source": [
    "students.dtypes"
   ]
  },
  {
   "cell_type": "code",
   "execution_count": 52,
   "metadata": {},
   "outputs": [
    {
     "data": {
      "text/plain": [
       "a    197.0\n",
       "b    198.0\n",
       "c    157.0\n",
       "d    191.0\n",
       "e    185.0\n",
       "Name: height, dtype: float64"
      ]
     },
     "execution_count": 52,
     "metadata": {},
     "output_type": "execute_result"
    }
   ],
   "source": [
    "students.height.astype(float)"
   ]
  },
  {
   "cell_type": "markdown",
   "metadata": {},
   "source": [
    "### Accessing"
   ]
  },
  {
   "cell_type": "code",
   "execution_count": 53,
   "metadata": {},
   "outputs": [
    {
     "data": {
      "text/plain": [
       "height         197\n",
       "weight          78\n",
       "graduated    False\n",
       "Name: a, dtype: object"
      ]
     },
     "execution_count": 53,
     "metadata": {},
     "output_type": "execute_result"
    }
   ],
   "source": [
    "students.loc['a']  # we can now acess either by their name"
   ]
  },
  {
   "cell_type": "code",
   "execution_count": 54,
   "metadata": {},
   "outputs": [
    {
     "data": {
      "text/plain": [
       "height         197\n",
       "weight          78\n",
       "graduated    False\n",
       "Name: a, dtype: object"
      ]
     },
     "execution_count": 54,
     "metadata": {},
     "output_type": "execute_result"
    }
   ],
   "source": [
    "students.iloc[0]  # or by their position"
   ]
  },
  {
   "cell_type": "code",
   "execution_count": 55,
   "metadata": {},
   "outputs": [
    {
     "data": {
      "text/html": [
       "<div>\n",
       "<style scoped>\n",
       "    .dataframe tbody tr th:only-of-type {\n",
       "        vertical-align: middle;\n",
       "    }\n",
       "\n",
       "    .dataframe tbody tr th {\n",
       "        vertical-align: top;\n",
       "    }\n",
       "\n",
       "    .dataframe thead th {\n",
       "        text-align: right;\n",
       "    }\n",
       "</style>\n",
       "<table border=\"1\" class=\"dataframe\">\n",
       "  <thead>\n",
       "    <tr style=\"text-align: right;\">\n",
       "      <th></th>\n",
       "      <th>height</th>\n",
       "      <th>weight</th>\n",
       "      <th>graduated</th>\n",
       "    </tr>\n",
       "  </thead>\n",
       "  <tbody>\n",
       "    <tr>\n",
       "      <th>a</th>\n",
       "      <td>197</td>\n",
       "      <td>78</td>\n",
       "      <td>False</td>\n",
       "    </tr>\n",
       "    <tr>\n",
       "      <th>b</th>\n",
       "      <td>198</td>\n",
       "      <td>88</td>\n",
       "      <td>False</td>\n",
       "    </tr>\n",
       "    <tr>\n",
       "      <th>c</th>\n",
       "      <td>157</td>\n",
       "      <td>83</td>\n",
       "      <td>True</td>\n",
       "    </tr>\n",
       "  </tbody>\n",
       "</table>\n",
       "</div>"
      ],
      "text/plain": [
       "   height  weight  graduated\n",
       "a     197      78      False\n",
       "b     198      88      False\n",
       "c     157      83       True"
      ]
     },
     "execution_count": 55,
     "metadata": {},
     "output_type": "execute_result"
    }
   ],
   "source": [
    "students[:3]"
   ]
  },
  {
   "cell_type": "code",
   "execution_count": 56,
   "metadata": {},
   "outputs": [
    {
     "data": {
      "text/plain": [
       "a    False\n",
       "b    False\n",
       "c     True\n",
       "d    False\n",
       "e    False\n",
       "Name: graduated, dtype: bool"
      ]
     },
     "execution_count": 56,
     "metadata": {},
     "output_type": "execute_result"
    }
   ],
   "source": [
    "students.graduated  # we can also access column-wise"
   ]
  },
  {
   "cell_type": "code",
   "execution_count": 57,
   "metadata": {},
   "outputs": [
    {
     "data": {
      "text/html": [
       "<div>\n",
       "<style scoped>\n",
       "    .dataframe tbody tr th:only-of-type {\n",
       "        vertical-align: middle;\n",
       "    }\n",
       "\n",
       "    .dataframe tbody tr th {\n",
       "        vertical-align: top;\n",
       "    }\n",
       "\n",
       "    .dataframe thead th {\n",
       "        text-align: right;\n",
       "    }\n",
       "</style>\n",
       "<table border=\"1\" class=\"dataframe\">\n",
       "  <thead>\n",
       "    <tr style=\"text-align: right;\">\n",
       "      <th></th>\n",
       "      <th>weight</th>\n",
       "      <th>height</th>\n",
       "    </tr>\n",
       "  </thead>\n",
       "  <tbody>\n",
       "    <tr>\n",
       "      <th>a</th>\n",
       "      <td>78</td>\n",
       "      <td>197</td>\n",
       "    </tr>\n",
       "    <tr>\n",
       "      <th>b</th>\n",
       "      <td>88</td>\n",
       "      <td>198</td>\n",
       "    </tr>\n",
       "    <tr>\n",
       "      <th>c</th>\n",
       "      <td>83</td>\n",
       "      <td>157</td>\n",
       "    </tr>\n",
       "    <tr>\n",
       "      <th>d</th>\n",
       "      <td>71</td>\n",
       "      <td>191</td>\n",
       "    </tr>\n",
       "    <tr>\n",
       "      <th>e</th>\n",
       "      <td>80</td>\n",
       "      <td>185</td>\n",
       "    </tr>\n",
       "  </tbody>\n",
       "</table>\n",
       "</div>"
      ],
      "text/plain": [
       "   weight  height\n",
       "a      78     197\n",
       "b      88     198\n",
       "c      83     157\n",
       "d      71     191\n",
       "e      80     185"
      ]
     },
     "execution_count": 57,
     "metadata": {},
     "output_type": "execute_result"
    }
   ],
   "source": [
    "columns = ['weight', 'height']\n",
    "students[columns]"
   ]
  },
  {
   "cell_type": "code",
   "execution_count": 58,
   "metadata": {},
   "outputs": [
    {
     "data": {
      "text/html": [
       "<div>\n",
       "<style scoped>\n",
       "    .dataframe tbody tr th:only-of-type {\n",
       "        vertical-align: middle;\n",
       "    }\n",
       "\n",
       "    .dataframe tbody tr th {\n",
       "        vertical-align: top;\n",
       "    }\n",
       "\n",
       "    .dataframe thead th {\n",
       "        text-align: right;\n",
       "    }\n",
       "</style>\n",
       "<table border=\"1\" class=\"dataframe\">\n",
       "  <thead>\n",
       "    <tr style=\"text-align: right;\">\n",
       "      <th></th>\n",
       "      <th>height</th>\n",
       "      <th>weight</th>\n",
       "      <th>graduated</th>\n",
       "    </tr>\n",
       "  </thead>\n",
       "  <tbody>\n",
       "    <tr>\n",
       "      <th>c</th>\n",
       "      <td>157</td>\n",
       "      <td>83</td>\n",
       "      <td>True</td>\n",
       "    </tr>\n",
       "  </tbody>\n",
       "</table>\n",
       "</div>"
      ],
      "text/plain": [
       "   height  weight  graduated\n",
       "c     157      83       True"
      ]
     },
     "execution_count": 58,
     "metadata": {},
     "output_type": "execute_result"
    }
   ],
   "source": [
    "students[students.graduated]  # use the boolean column as a mask"
   ]
  },
  {
   "cell_type": "code",
   "execution_count": 59,
   "metadata": {},
   "outputs": [
    {
     "name": "stdout",
     "output_type": "stream",
     "text": [
      "height\n",
      "weight\n",
      "graduated\n"
     ]
    }
   ],
   "source": [
    "for column in students:\n",
    "    print(column)"
   ]
  },
  {
   "cell_type": "code",
   "execution_count": 60,
   "metadata": {},
   "outputs": [
    {
     "name": "stdout",
     "output_type": "stream",
     "text": [
      "a 197\n",
      "b 198\n",
      "c 157\n",
      "d 191\n",
      "e 185\n"
     ]
    }
   ],
   "source": [
    "for student, rows in students.iterrows():\n",
    "    print(student, rows.height)"
   ]
  },
  {
   "cell_type": "markdown",
   "metadata": {},
   "source": [
    "### Adding"
   ]
  },
  {
   "cell_type": "code",
   "execution_count": 61,
   "metadata": {},
   "outputs": [],
   "source": [
    "students.loc['x'] = (170, 70, True)  # adding a new row"
   ]
  },
  {
   "cell_type": "code",
   "execution_count": 62,
   "metadata": {},
   "outputs": [
    {
     "data": {
      "text/html": [
       "<div>\n",
       "<style scoped>\n",
       "    .dataframe tbody tr th:only-of-type {\n",
       "        vertical-align: middle;\n",
       "    }\n",
       "\n",
       "    .dataframe tbody tr th {\n",
       "        vertical-align: top;\n",
       "    }\n",
       "\n",
       "    .dataframe thead th {\n",
       "        text-align: right;\n",
       "    }\n",
       "</style>\n",
       "<table border=\"1\" class=\"dataframe\">\n",
       "  <thead>\n",
       "    <tr style=\"text-align: right;\">\n",
       "      <th></th>\n",
       "      <th>height</th>\n",
       "      <th>weight</th>\n",
       "      <th>graduated</th>\n",
       "    </tr>\n",
       "  </thead>\n",
       "  <tbody>\n",
       "    <tr>\n",
       "      <th>a</th>\n",
       "      <td>197</td>\n",
       "      <td>78</td>\n",
       "      <td>False</td>\n",
       "    </tr>\n",
       "    <tr>\n",
       "      <th>b</th>\n",
       "      <td>198</td>\n",
       "      <td>88</td>\n",
       "      <td>False</td>\n",
       "    </tr>\n",
       "    <tr>\n",
       "      <th>c</th>\n",
       "      <td>157</td>\n",
       "      <td>83</td>\n",
       "      <td>True</td>\n",
       "    </tr>\n",
       "    <tr>\n",
       "      <th>d</th>\n",
       "      <td>191</td>\n",
       "      <td>71</td>\n",
       "      <td>False</td>\n",
       "    </tr>\n",
       "    <tr>\n",
       "      <th>e</th>\n",
       "      <td>185</td>\n",
       "      <td>80</td>\n",
       "      <td>False</td>\n",
       "    </tr>\n",
       "    <tr>\n",
       "      <th>x</th>\n",
       "      <td>170</td>\n",
       "      <td>70</td>\n",
       "      <td>True</td>\n",
       "    </tr>\n",
       "  </tbody>\n",
       "</table>\n",
       "</div>"
      ],
      "text/plain": [
       "   height  weight  graduated\n",
       "a     197      78      False\n",
       "b     198      88      False\n",
       "c     157      83       True\n",
       "d     191      71      False\n",
       "e     185      80      False\n",
       "x     170      70       True"
      ]
     },
     "execution_count": 62,
     "metadata": {},
     "output_type": "execute_result"
    }
   ],
   "source": [
    "students"
   ]
  },
  {
   "cell_type": "code",
   "execution_count": 63,
   "metadata": {},
   "outputs": [],
   "source": [
    "students['age'] = np.random.randint(18, 24, size=6)  # adding a new column"
   ]
  },
  {
   "cell_type": "code",
   "execution_count": 64,
   "metadata": {},
   "outputs": [
    {
     "data": {
      "text/html": [
       "<div>\n",
       "<style scoped>\n",
       "    .dataframe tbody tr th:only-of-type {\n",
       "        vertical-align: middle;\n",
       "    }\n",
       "\n",
       "    .dataframe tbody tr th {\n",
       "        vertical-align: top;\n",
       "    }\n",
       "\n",
       "    .dataframe thead th {\n",
       "        text-align: right;\n",
       "    }\n",
       "</style>\n",
       "<table border=\"1\" class=\"dataframe\">\n",
       "  <thead>\n",
       "    <tr style=\"text-align: right;\">\n",
       "      <th></th>\n",
       "      <th>height</th>\n",
       "      <th>weight</th>\n",
       "      <th>graduated</th>\n",
       "      <th>age</th>\n",
       "    </tr>\n",
       "  </thead>\n",
       "  <tbody>\n",
       "    <tr>\n",
       "      <th>a</th>\n",
       "      <td>197</td>\n",
       "      <td>78</td>\n",
       "      <td>False</td>\n",
       "      <td>20</td>\n",
       "    </tr>\n",
       "    <tr>\n",
       "      <th>b</th>\n",
       "      <td>198</td>\n",
       "      <td>88</td>\n",
       "      <td>False</td>\n",
       "      <td>20</td>\n",
       "    </tr>\n",
       "    <tr>\n",
       "      <th>c</th>\n",
       "      <td>157</td>\n",
       "      <td>83</td>\n",
       "      <td>True</td>\n",
       "      <td>20</td>\n",
       "    </tr>\n",
       "    <tr>\n",
       "      <th>d</th>\n",
       "      <td>191</td>\n",
       "      <td>71</td>\n",
       "      <td>False</td>\n",
       "      <td>23</td>\n",
       "    </tr>\n",
       "    <tr>\n",
       "      <th>e</th>\n",
       "      <td>185</td>\n",
       "      <td>80</td>\n",
       "      <td>False</td>\n",
       "      <td>20</td>\n",
       "    </tr>\n",
       "    <tr>\n",
       "      <th>x</th>\n",
       "      <td>170</td>\n",
       "      <td>70</td>\n",
       "      <td>True</td>\n",
       "      <td>22</td>\n",
       "    </tr>\n",
       "  </tbody>\n",
       "</table>\n",
       "</div>"
      ],
      "text/plain": [
       "   height  weight  graduated  age\n",
       "a     197      78      False   20\n",
       "b     198      88      False   20\n",
       "c     157      83       True   20\n",
       "d     191      71      False   23\n",
       "e     185      80      False   20\n",
       "x     170      70       True   22"
      ]
     },
     "execution_count": 64,
     "metadata": {},
     "output_type": "execute_result"
    }
   ],
   "source": [
    "students"
   ]
  },
  {
   "cell_type": "code",
   "execution_count": 65,
   "metadata": {},
   "outputs": [],
   "source": [
    "# create a column based on another\n",
    "students['can_ride'] = (students.height > 170)  # \"you must be this tall to ride the roller coaster\""
   ]
  },
  {
   "cell_type": "code",
   "execution_count": 66,
   "metadata": {},
   "outputs": [
    {
     "data": {
      "text/html": [
       "<div>\n",
       "<style scoped>\n",
       "    .dataframe tbody tr th:only-of-type {\n",
       "        vertical-align: middle;\n",
       "    }\n",
       "\n",
       "    .dataframe tbody tr th {\n",
       "        vertical-align: top;\n",
       "    }\n",
       "\n",
       "    .dataframe thead th {\n",
       "        text-align: right;\n",
       "    }\n",
       "</style>\n",
       "<table border=\"1\" class=\"dataframe\">\n",
       "  <thead>\n",
       "    <tr style=\"text-align: right;\">\n",
       "      <th></th>\n",
       "      <th>height</th>\n",
       "      <th>weight</th>\n",
       "      <th>graduated</th>\n",
       "      <th>age</th>\n",
       "      <th>can_ride</th>\n",
       "    </tr>\n",
       "  </thead>\n",
       "  <tbody>\n",
       "    <tr>\n",
       "      <th>a</th>\n",
       "      <td>197</td>\n",
       "      <td>78</td>\n",
       "      <td>False</td>\n",
       "      <td>20</td>\n",
       "      <td>True</td>\n",
       "    </tr>\n",
       "    <tr>\n",
       "      <th>b</th>\n",
       "      <td>198</td>\n",
       "      <td>88</td>\n",
       "      <td>False</td>\n",
       "      <td>20</td>\n",
       "      <td>True</td>\n",
       "    </tr>\n",
       "    <tr>\n",
       "      <th>c</th>\n",
       "      <td>157</td>\n",
       "      <td>83</td>\n",
       "      <td>True</td>\n",
       "      <td>20</td>\n",
       "      <td>False</td>\n",
       "    </tr>\n",
       "    <tr>\n",
       "      <th>d</th>\n",
       "      <td>191</td>\n",
       "      <td>71</td>\n",
       "      <td>False</td>\n",
       "      <td>23</td>\n",
       "      <td>True</td>\n",
       "    </tr>\n",
       "    <tr>\n",
       "      <th>e</th>\n",
       "      <td>185</td>\n",
       "      <td>80</td>\n",
       "      <td>False</td>\n",
       "      <td>20</td>\n",
       "      <td>True</td>\n",
       "    </tr>\n",
       "    <tr>\n",
       "      <th>x</th>\n",
       "      <td>170</td>\n",
       "      <td>70</td>\n",
       "      <td>True</td>\n",
       "      <td>22</td>\n",
       "      <td>False</td>\n",
       "    </tr>\n",
       "  </tbody>\n",
       "</table>\n",
       "</div>"
      ],
      "text/plain": [
       "   height  weight  graduated  age  can_ride\n",
       "a     197      78      False   20      True\n",
       "b     198      88      False   20      True\n",
       "c     157      83       True   20     False\n",
       "d     191      71      False   23      True\n",
       "e     185      80      False   20      True\n",
       "x     170      70       True   22     False"
      ]
     },
     "execution_count": 66,
     "metadata": {},
     "output_type": "execute_result"
    }
   ],
   "source": [
    "students"
   ]
  },
  {
   "cell_type": "markdown",
   "metadata": {},
   "source": [
    "---"
   ]
  },
  {
   "cell_type": "code",
   "execution_count": 67,
   "metadata": {},
   "outputs": [],
   "source": [
    "new_students = pd.DataFrame({\n",
    "    'height': [160, 180],\n",
    "    'weight': [ 60,  80],\n",
    "})"
   ]
  },
  {
   "cell_type": "code",
   "execution_count": 68,
   "metadata": {},
   "outputs": [
    {
     "data": {
      "text/html": [
       "<div>\n",
       "<style scoped>\n",
       "    .dataframe tbody tr th:only-of-type {\n",
       "        vertical-align: middle;\n",
       "    }\n",
       "\n",
       "    .dataframe tbody tr th {\n",
       "        vertical-align: top;\n",
       "    }\n",
       "\n",
       "    .dataframe thead th {\n",
       "        text-align: right;\n",
       "    }\n",
       "</style>\n",
       "<table border=\"1\" class=\"dataframe\">\n",
       "  <thead>\n",
       "    <tr style=\"text-align: right;\">\n",
       "      <th></th>\n",
       "      <th>height</th>\n",
       "      <th>weight</th>\n",
       "    </tr>\n",
       "  </thead>\n",
       "  <tbody>\n",
       "    <tr>\n",
       "      <th>0</th>\n",
       "      <td>160</td>\n",
       "      <td>60</td>\n",
       "    </tr>\n",
       "    <tr>\n",
       "      <th>1</th>\n",
       "      <td>180</td>\n",
       "      <td>80</td>\n",
       "    </tr>\n",
       "  </tbody>\n",
       "</table>\n",
       "</div>"
      ],
      "text/plain": [
       "   height  weight\n",
       "0     160      60\n",
       "1     180      80"
      ]
     },
     "execution_count": 68,
     "metadata": {},
     "output_type": "execute_result"
    }
   ],
   "source": [
    "new_students"
   ]
  },
  {
   "cell_type": "code",
   "execution_count": 69,
   "metadata": {},
   "outputs": [
    {
     "data": {
      "text/html": [
       "<div>\n",
       "<style scoped>\n",
       "    .dataframe tbody tr th:only-of-type {\n",
       "        vertical-align: middle;\n",
       "    }\n",
       "\n",
       "    .dataframe tbody tr th {\n",
       "        vertical-align: top;\n",
       "    }\n",
       "\n",
       "    .dataframe thead th {\n",
       "        text-align: right;\n",
       "    }\n",
       "</style>\n",
       "<table border=\"1\" class=\"dataframe\">\n",
       "  <thead>\n",
       "    <tr style=\"text-align: right;\">\n",
       "      <th></th>\n",
       "      <th>height</th>\n",
       "      <th>weight</th>\n",
       "      <th>graduated</th>\n",
       "      <th>age</th>\n",
       "      <th>can_ride</th>\n",
       "    </tr>\n",
       "  </thead>\n",
       "  <tbody>\n",
       "    <tr>\n",
       "      <th>a</th>\n",
       "      <td>197</td>\n",
       "      <td>78</td>\n",
       "      <td>False</td>\n",
       "      <td>20.0</td>\n",
       "      <td>True</td>\n",
       "    </tr>\n",
       "    <tr>\n",
       "      <th>b</th>\n",
       "      <td>198</td>\n",
       "      <td>88</td>\n",
       "      <td>False</td>\n",
       "      <td>20.0</td>\n",
       "      <td>True</td>\n",
       "    </tr>\n",
       "    <tr>\n",
       "      <th>c</th>\n",
       "      <td>157</td>\n",
       "      <td>83</td>\n",
       "      <td>True</td>\n",
       "      <td>20.0</td>\n",
       "      <td>False</td>\n",
       "    </tr>\n",
       "    <tr>\n",
       "      <th>d</th>\n",
       "      <td>191</td>\n",
       "      <td>71</td>\n",
       "      <td>False</td>\n",
       "      <td>23.0</td>\n",
       "      <td>True</td>\n",
       "    </tr>\n",
       "    <tr>\n",
       "      <th>e</th>\n",
       "      <td>185</td>\n",
       "      <td>80</td>\n",
       "      <td>False</td>\n",
       "      <td>20.0</td>\n",
       "      <td>True</td>\n",
       "    </tr>\n",
       "    <tr>\n",
       "      <th>x</th>\n",
       "      <td>170</td>\n",
       "      <td>70</td>\n",
       "      <td>True</td>\n",
       "      <td>22.0</td>\n",
       "      <td>False</td>\n",
       "    </tr>\n",
       "    <tr>\n",
       "      <th>0</th>\n",
       "      <td>160</td>\n",
       "      <td>60</td>\n",
       "      <td>NaN</td>\n",
       "      <td>NaN</td>\n",
       "      <td>NaN</td>\n",
       "    </tr>\n",
       "    <tr>\n",
       "      <th>1</th>\n",
       "      <td>180</td>\n",
       "      <td>80</td>\n",
       "      <td>NaN</td>\n",
       "      <td>NaN</td>\n",
       "      <td>NaN</td>\n",
       "    </tr>\n",
       "  </tbody>\n",
       "</table>\n",
       "</div>"
      ],
      "text/plain": [
       "   height  weight graduated   age can_ride\n",
       "a     197      78     False  20.0     True\n",
       "b     198      88     False  20.0     True\n",
       "c     157      83      True  20.0    False\n",
       "d     191      71     False  23.0     True\n",
       "e     185      80     False  20.0     True\n",
       "x     170      70      True  22.0    False\n",
       "0     160      60       NaN   NaN      NaN\n",
       "1     180      80       NaN   NaN      NaN"
      ]
     },
     "execution_count": 69,
     "metadata": {},
     "output_type": "execute_result"
    }
   ],
   "source": [
    "students = pd.concat([students, new_students], sort=False)\n",
    "students"
   ]
  },
  {
   "cell_type": "code",
   "execution_count": 70,
   "metadata": {},
   "outputs": [],
   "source": [
    "n_students = len(students)\n",
    "new_info = pd.DataFrame({\n",
    "    'fav_number':   np.random.randint(0, 100, size=n_students),\n",
    "    'fav_icecream': np.random.choice(['vanilla', 'chocolate', 'strawberry'], size=n_students),\n",
    "})\n",
    "new_info.index = students.index"
   ]
  },
  {
   "cell_type": "code",
   "execution_count": 71,
   "metadata": {},
   "outputs": [
    {
     "data": {
      "text/html": [
       "<div>\n",
       "<style scoped>\n",
       "    .dataframe tbody tr th:only-of-type {\n",
       "        vertical-align: middle;\n",
       "    }\n",
       "\n",
       "    .dataframe tbody tr th {\n",
       "        vertical-align: top;\n",
       "    }\n",
       "\n",
       "    .dataframe thead th {\n",
       "        text-align: right;\n",
       "    }\n",
       "</style>\n",
       "<table border=\"1\" class=\"dataframe\">\n",
       "  <thead>\n",
       "    <tr style=\"text-align: right;\">\n",
       "      <th></th>\n",
       "      <th>fav_number</th>\n",
       "      <th>fav_icecream</th>\n",
       "    </tr>\n",
       "  </thead>\n",
       "  <tbody>\n",
       "    <tr>\n",
       "      <th>a</th>\n",
       "      <td>15</td>\n",
       "      <td>strawberry</td>\n",
       "    </tr>\n",
       "    <tr>\n",
       "      <th>b</th>\n",
       "      <td>27</td>\n",
       "      <td>vanilla</td>\n",
       "    </tr>\n",
       "    <tr>\n",
       "      <th>c</th>\n",
       "      <td>30</td>\n",
       "      <td>strawberry</td>\n",
       "    </tr>\n",
       "    <tr>\n",
       "      <th>d</th>\n",
       "      <td>52</td>\n",
       "      <td>chocolate</td>\n",
       "    </tr>\n",
       "    <tr>\n",
       "      <th>e</th>\n",
       "      <td>70</td>\n",
       "      <td>strawberry</td>\n",
       "    </tr>\n",
       "    <tr>\n",
       "      <th>x</th>\n",
       "      <td>26</td>\n",
       "      <td>chocolate</td>\n",
       "    </tr>\n",
       "    <tr>\n",
       "      <th>0</th>\n",
       "      <td>80</td>\n",
       "      <td>chocolate</td>\n",
       "    </tr>\n",
       "    <tr>\n",
       "      <th>1</th>\n",
       "      <td>6</td>\n",
       "      <td>strawberry</td>\n",
       "    </tr>\n",
       "  </tbody>\n",
       "</table>\n",
       "</div>"
      ],
      "text/plain": [
       "   fav_number fav_icecream\n",
       "a          15   strawberry\n",
       "b          27      vanilla\n",
       "c          30   strawberry\n",
       "d          52    chocolate\n",
       "e          70   strawberry\n",
       "x          26    chocolate\n",
       "0          80    chocolate\n",
       "1           6   strawberry"
      ]
     },
     "execution_count": 71,
     "metadata": {},
     "output_type": "execute_result"
    }
   ],
   "source": [
    "new_info"
   ]
  },
  {
   "cell_type": "code",
   "execution_count": 72,
   "metadata": {},
   "outputs": [
    {
     "data": {
      "text/html": [
       "<div>\n",
       "<style scoped>\n",
       "    .dataframe tbody tr th:only-of-type {\n",
       "        vertical-align: middle;\n",
       "    }\n",
       "\n",
       "    .dataframe tbody tr th {\n",
       "        vertical-align: top;\n",
       "    }\n",
       "\n",
       "    .dataframe thead th {\n",
       "        text-align: right;\n",
       "    }\n",
       "</style>\n",
       "<table border=\"1\" class=\"dataframe\">\n",
       "  <thead>\n",
       "    <tr style=\"text-align: right;\">\n",
       "      <th></th>\n",
       "      <th>height</th>\n",
       "      <th>weight</th>\n",
       "      <th>graduated</th>\n",
       "      <th>age</th>\n",
       "      <th>can_ride</th>\n",
       "      <th>fav_number</th>\n",
       "      <th>fav_icecream</th>\n",
       "    </tr>\n",
       "  </thead>\n",
       "  <tbody>\n",
       "    <tr>\n",
       "      <th>a</th>\n",
       "      <td>197</td>\n",
       "      <td>78</td>\n",
       "      <td>False</td>\n",
       "      <td>20.0</td>\n",
       "      <td>True</td>\n",
       "      <td>15</td>\n",
       "      <td>strawberry</td>\n",
       "    </tr>\n",
       "    <tr>\n",
       "      <th>b</th>\n",
       "      <td>198</td>\n",
       "      <td>88</td>\n",
       "      <td>False</td>\n",
       "      <td>20.0</td>\n",
       "      <td>True</td>\n",
       "      <td>27</td>\n",
       "      <td>vanilla</td>\n",
       "    </tr>\n",
       "    <tr>\n",
       "      <th>c</th>\n",
       "      <td>157</td>\n",
       "      <td>83</td>\n",
       "      <td>True</td>\n",
       "      <td>20.0</td>\n",
       "      <td>False</td>\n",
       "      <td>30</td>\n",
       "      <td>strawberry</td>\n",
       "    </tr>\n",
       "    <tr>\n",
       "      <th>d</th>\n",
       "      <td>191</td>\n",
       "      <td>71</td>\n",
       "      <td>False</td>\n",
       "      <td>23.0</td>\n",
       "      <td>True</td>\n",
       "      <td>52</td>\n",
       "      <td>chocolate</td>\n",
       "    </tr>\n",
       "    <tr>\n",
       "      <th>e</th>\n",
       "      <td>185</td>\n",
       "      <td>80</td>\n",
       "      <td>False</td>\n",
       "      <td>20.0</td>\n",
       "      <td>True</td>\n",
       "      <td>70</td>\n",
       "      <td>strawberry</td>\n",
       "    </tr>\n",
       "    <tr>\n",
       "      <th>x</th>\n",
       "      <td>170</td>\n",
       "      <td>70</td>\n",
       "      <td>True</td>\n",
       "      <td>22.0</td>\n",
       "      <td>False</td>\n",
       "      <td>26</td>\n",
       "      <td>chocolate</td>\n",
       "    </tr>\n",
       "    <tr>\n",
       "      <th>0</th>\n",
       "      <td>160</td>\n",
       "      <td>60</td>\n",
       "      <td>NaN</td>\n",
       "      <td>NaN</td>\n",
       "      <td>NaN</td>\n",
       "      <td>80</td>\n",
       "      <td>chocolate</td>\n",
       "    </tr>\n",
       "    <tr>\n",
       "      <th>1</th>\n",
       "      <td>180</td>\n",
       "      <td>80</td>\n",
       "      <td>NaN</td>\n",
       "      <td>NaN</td>\n",
       "      <td>NaN</td>\n",
       "      <td>6</td>\n",
       "      <td>strawberry</td>\n",
       "    </tr>\n",
       "  </tbody>\n",
       "</table>\n",
       "</div>"
      ],
      "text/plain": [
       "   height  weight graduated   age can_ride  fav_number fav_icecream\n",
       "a     197      78     False  20.0     True          15   strawberry\n",
       "b     198      88     False  20.0     True          27      vanilla\n",
       "c     157      83      True  20.0    False          30   strawberry\n",
       "d     191      71     False  23.0     True          52    chocolate\n",
       "e     185      80     False  20.0     True          70   strawberry\n",
       "x     170      70      True  22.0    False          26    chocolate\n",
       "0     160      60       NaN   NaN      NaN          80    chocolate\n",
       "1     180      80       NaN   NaN      NaN           6   strawberry"
      ]
     },
     "execution_count": 72,
     "metadata": {},
     "output_type": "execute_result"
    }
   ],
   "source": [
    "students = students.merge(new_info, left_index=True, right_index=True)\n",
    "students"
   ]
  },
  {
   "cell_type": "markdown",
   "metadata": {},
   "source": [
    "---"
   ]
  },
  {
   "cell_type": "markdown",
   "metadata": {},
   "source": [
    "### missing values"
   ]
  },
  {
   "cell_type": "code",
   "execution_count": 73,
   "metadata": {},
   "outputs": [
    {
     "data": {
      "text/html": [
       "<style  type=\"text/css\" >\n",
       "    #T_95946c0e_2d16_11e9_8b01_f218981e0dbarow6_col2 {\n",
       "            background-color:  red;\n",
       "        }    #T_95946c0e_2d16_11e9_8b01_f218981e0dbarow6_col3 {\n",
       "            background-color:  red;\n",
       "        }    #T_95946c0e_2d16_11e9_8b01_f218981e0dbarow6_col4 {\n",
       "            background-color:  red;\n",
       "        }    #T_95946c0e_2d16_11e9_8b01_f218981e0dbarow7_col2 {\n",
       "            background-color:  red;\n",
       "        }    #T_95946c0e_2d16_11e9_8b01_f218981e0dbarow7_col3 {\n",
       "            background-color:  red;\n",
       "        }    #T_95946c0e_2d16_11e9_8b01_f218981e0dbarow7_col4 {\n",
       "            background-color:  red;\n",
       "        }</style>  \n",
       "<table id=\"T_95946c0e_2d16_11e9_8b01_f218981e0dba\" > \n",
       "<thead>    <tr> \n",
       "        <th class=\"blank level0\" ></th> \n",
       "        <th class=\"col_heading level0 col0\" >height</th> \n",
       "        <th class=\"col_heading level0 col1\" >weight</th> \n",
       "        <th class=\"col_heading level0 col2\" >graduated</th> \n",
       "        <th class=\"col_heading level0 col3\" >age</th> \n",
       "        <th class=\"col_heading level0 col4\" >can_ride</th> \n",
       "        <th class=\"col_heading level0 col5\" >fav_number</th> \n",
       "        <th class=\"col_heading level0 col6\" >fav_icecream</th> \n",
       "    </tr></thead> \n",
       "<tbody>    <tr> \n",
       "        <th id=\"T_95946c0e_2d16_11e9_8b01_f218981e0dbalevel0_row0\" class=\"row_heading level0 row0\" >a</th> \n",
       "        <td id=\"T_95946c0e_2d16_11e9_8b01_f218981e0dbarow0_col0\" class=\"data row0 col0\" >197</td> \n",
       "        <td id=\"T_95946c0e_2d16_11e9_8b01_f218981e0dbarow0_col1\" class=\"data row0 col1\" >78</td> \n",
       "        <td id=\"T_95946c0e_2d16_11e9_8b01_f218981e0dbarow0_col2\" class=\"data row0 col2\" >False</td> \n",
       "        <td id=\"T_95946c0e_2d16_11e9_8b01_f218981e0dbarow0_col3\" class=\"data row0 col3\" >20</td> \n",
       "        <td id=\"T_95946c0e_2d16_11e9_8b01_f218981e0dbarow0_col4\" class=\"data row0 col4\" >True</td> \n",
       "        <td id=\"T_95946c0e_2d16_11e9_8b01_f218981e0dbarow0_col5\" class=\"data row0 col5\" >15</td> \n",
       "        <td id=\"T_95946c0e_2d16_11e9_8b01_f218981e0dbarow0_col6\" class=\"data row0 col6\" >strawberry</td> \n",
       "    </tr>    <tr> \n",
       "        <th id=\"T_95946c0e_2d16_11e9_8b01_f218981e0dbalevel0_row1\" class=\"row_heading level0 row1\" >b</th> \n",
       "        <td id=\"T_95946c0e_2d16_11e9_8b01_f218981e0dbarow1_col0\" class=\"data row1 col0\" >198</td> \n",
       "        <td id=\"T_95946c0e_2d16_11e9_8b01_f218981e0dbarow1_col1\" class=\"data row1 col1\" >88</td> \n",
       "        <td id=\"T_95946c0e_2d16_11e9_8b01_f218981e0dbarow1_col2\" class=\"data row1 col2\" >False</td> \n",
       "        <td id=\"T_95946c0e_2d16_11e9_8b01_f218981e0dbarow1_col3\" class=\"data row1 col3\" >20</td> \n",
       "        <td id=\"T_95946c0e_2d16_11e9_8b01_f218981e0dbarow1_col4\" class=\"data row1 col4\" >True</td> \n",
       "        <td id=\"T_95946c0e_2d16_11e9_8b01_f218981e0dbarow1_col5\" class=\"data row1 col5\" >27</td> \n",
       "        <td id=\"T_95946c0e_2d16_11e9_8b01_f218981e0dbarow1_col6\" class=\"data row1 col6\" >vanilla</td> \n",
       "    </tr>    <tr> \n",
       "        <th id=\"T_95946c0e_2d16_11e9_8b01_f218981e0dbalevel0_row2\" class=\"row_heading level0 row2\" >c</th> \n",
       "        <td id=\"T_95946c0e_2d16_11e9_8b01_f218981e0dbarow2_col0\" class=\"data row2 col0\" >157</td> \n",
       "        <td id=\"T_95946c0e_2d16_11e9_8b01_f218981e0dbarow2_col1\" class=\"data row2 col1\" >83</td> \n",
       "        <td id=\"T_95946c0e_2d16_11e9_8b01_f218981e0dbarow2_col2\" class=\"data row2 col2\" >True</td> \n",
       "        <td id=\"T_95946c0e_2d16_11e9_8b01_f218981e0dbarow2_col3\" class=\"data row2 col3\" >20</td> \n",
       "        <td id=\"T_95946c0e_2d16_11e9_8b01_f218981e0dbarow2_col4\" class=\"data row2 col4\" >False</td> \n",
       "        <td id=\"T_95946c0e_2d16_11e9_8b01_f218981e0dbarow2_col5\" class=\"data row2 col5\" >30</td> \n",
       "        <td id=\"T_95946c0e_2d16_11e9_8b01_f218981e0dbarow2_col6\" class=\"data row2 col6\" >strawberry</td> \n",
       "    </tr>    <tr> \n",
       "        <th id=\"T_95946c0e_2d16_11e9_8b01_f218981e0dbalevel0_row3\" class=\"row_heading level0 row3\" >d</th> \n",
       "        <td id=\"T_95946c0e_2d16_11e9_8b01_f218981e0dbarow3_col0\" class=\"data row3 col0\" >191</td> \n",
       "        <td id=\"T_95946c0e_2d16_11e9_8b01_f218981e0dbarow3_col1\" class=\"data row3 col1\" >71</td> \n",
       "        <td id=\"T_95946c0e_2d16_11e9_8b01_f218981e0dbarow3_col2\" class=\"data row3 col2\" >False</td> \n",
       "        <td id=\"T_95946c0e_2d16_11e9_8b01_f218981e0dbarow3_col3\" class=\"data row3 col3\" >23</td> \n",
       "        <td id=\"T_95946c0e_2d16_11e9_8b01_f218981e0dbarow3_col4\" class=\"data row3 col4\" >True</td> \n",
       "        <td id=\"T_95946c0e_2d16_11e9_8b01_f218981e0dbarow3_col5\" class=\"data row3 col5\" >52</td> \n",
       "        <td id=\"T_95946c0e_2d16_11e9_8b01_f218981e0dbarow3_col6\" class=\"data row3 col6\" >chocolate</td> \n",
       "    </tr>    <tr> \n",
       "        <th id=\"T_95946c0e_2d16_11e9_8b01_f218981e0dbalevel0_row4\" class=\"row_heading level0 row4\" >e</th> \n",
       "        <td id=\"T_95946c0e_2d16_11e9_8b01_f218981e0dbarow4_col0\" class=\"data row4 col0\" >185</td> \n",
       "        <td id=\"T_95946c0e_2d16_11e9_8b01_f218981e0dbarow4_col1\" class=\"data row4 col1\" >80</td> \n",
       "        <td id=\"T_95946c0e_2d16_11e9_8b01_f218981e0dbarow4_col2\" class=\"data row4 col2\" >False</td> \n",
       "        <td id=\"T_95946c0e_2d16_11e9_8b01_f218981e0dbarow4_col3\" class=\"data row4 col3\" >20</td> \n",
       "        <td id=\"T_95946c0e_2d16_11e9_8b01_f218981e0dbarow4_col4\" class=\"data row4 col4\" >True</td> \n",
       "        <td id=\"T_95946c0e_2d16_11e9_8b01_f218981e0dbarow4_col5\" class=\"data row4 col5\" >70</td> \n",
       "        <td id=\"T_95946c0e_2d16_11e9_8b01_f218981e0dbarow4_col6\" class=\"data row4 col6\" >strawberry</td> \n",
       "    </tr>    <tr> \n",
       "        <th id=\"T_95946c0e_2d16_11e9_8b01_f218981e0dbalevel0_row5\" class=\"row_heading level0 row5\" >x</th> \n",
       "        <td id=\"T_95946c0e_2d16_11e9_8b01_f218981e0dbarow5_col0\" class=\"data row5 col0\" >170</td> \n",
       "        <td id=\"T_95946c0e_2d16_11e9_8b01_f218981e0dbarow5_col1\" class=\"data row5 col1\" >70</td> \n",
       "        <td id=\"T_95946c0e_2d16_11e9_8b01_f218981e0dbarow5_col2\" class=\"data row5 col2\" >True</td> \n",
       "        <td id=\"T_95946c0e_2d16_11e9_8b01_f218981e0dbarow5_col3\" class=\"data row5 col3\" >22</td> \n",
       "        <td id=\"T_95946c0e_2d16_11e9_8b01_f218981e0dbarow5_col4\" class=\"data row5 col4\" >False</td> \n",
       "        <td id=\"T_95946c0e_2d16_11e9_8b01_f218981e0dbarow5_col5\" class=\"data row5 col5\" >26</td> \n",
       "        <td id=\"T_95946c0e_2d16_11e9_8b01_f218981e0dbarow5_col6\" class=\"data row5 col6\" >chocolate</td> \n",
       "    </tr>    <tr> \n",
       "        <th id=\"T_95946c0e_2d16_11e9_8b01_f218981e0dbalevel0_row6\" class=\"row_heading level0 row6\" >0</th> \n",
       "        <td id=\"T_95946c0e_2d16_11e9_8b01_f218981e0dbarow6_col0\" class=\"data row6 col0\" >160</td> \n",
       "        <td id=\"T_95946c0e_2d16_11e9_8b01_f218981e0dbarow6_col1\" class=\"data row6 col1\" >60</td> \n",
       "        <td id=\"T_95946c0e_2d16_11e9_8b01_f218981e0dbarow6_col2\" class=\"data row6 col2\" >nan</td> \n",
       "        <td id=\"T_95946c0e_2d16_11e9_8b01_f218981e0dbarow6_col3\" class=\"data row6 col3\" >nan</td> \n",
       "        <td id=\"T_95946c0e_2d16_11e9_8b01_f218981e0dbarow6_col4\" class=\"data row6 col4\" >nan</td> \n",
       "        <td id=\"T_95946c0e_2d16_11e9_8b01_f218981e0dbarow6_col5\" class=\"data row6 col5\" >80</td> \n",
       "        <td id=\"T_95946c0e_2d16_11e9_8b01_f218981e0dbarow6_col6\" class=\"data row6 col6\" >chocolate</td> \n",
       "    </tr>    <tr> \n",
       "        <th id=\"T_95946c0e_2d16_11e9_8b01_f218981e0dbalevel0_row7\" class=\"row_heading level0 row7\" >1</th> \n",
       "        <td id=\"T_95946c0e_2d16_11e9_8b01_f218981e0dbarow7_col0\" class=\"data row7 col0\" >180</td> \n",
       "        <td id=\"T_95946c0e_2d16_11e9_8b01_f218981e0dbarow7_col1\" class=\"data row7 col1\" >80</td> \n",
       "        <td id=\"T_95946c0e_2d16_11e9_8b01_f218981e0dbarow7_col2\" class=\"data row7 col2\" >nan</td> \n",
       "        <td id=\"T_95946c0e_2d16_11e9_8b01_f218981e0dbarow7_col3\" class=\"data row7 col3\" >nan</td> \n",
       "        <td id=\"T_95946c0e_2d16_11e9_8b01_f218981e0dbarow7_col4\" class=\"data row7 col4\" >nan</td> \n",
       "        <td id=\"T_95946c0e_2d16_11e9_8b01_f218981e0dbarow7_col5\" class=\"data row7 col5\" >6</td> \n",
       "        <td id=\"T_95946c0e_2d16_11e9_8b01_f218981e0dbarow7_col6\" class=\"data row7 col6\" >strawberry</td> \n",
       "    </tr></tbody> \n",
       "</table> "
      ],
      "text/plain": [
       "<pandas.io.formats.style.Styler at 0x11d7ef320>"
      ]
     },
     "execution_count": 73,
     "metadata": {},
     "output_type": "execute_result"
    }
   ],
   "source": [
    "students.style.highlight_null()"
   ]
  },
  {
   "cell_type": "code",
   "execution_count": 74,
   "metadata": {},
   "outputs": [
    {
     "data": {
      "text/html": [
       "<div>\n",
       "<style scoped>\n",
       "    .dataframe tbody tr th:only-of-type {\n",
       "        vertical-align: middle;\n",
       "    }\n",
       "\n",
       "    .dataframe tbody tr th {\n",
       "        vertical-align: top;\n",
       "    }\n",
       "\n",
       "    .dataframe thead th {\n",
       "        text-align: right;\n",
       "    }\n",
       "</style>\n",
       "<table border=\"1\" class=\"dataframe\">\n",
       "  <thead>\n",
       "    <tr style=\"text-align: right;\">\n",
       "      <th></th>\n",
       "      <th>height</th>\n",
       "      <th>weight</th>\n",
       "      <th>graduated</th>\n",
       "      <th>age</th>\n",
       "      <th>can_ride</th>\n",
       "      <th>fav_number</th>\n",
       "      <th>fav_icecream</th>\n",
       "    </tr>\n",
       "  </thead>\n",
       "  <tbody>\n",
       "    <tr>\n",
       "      <th>a</th>\n",
       "      <td>False</td>\n",
       "      <td>False</td>\n",
       "      <td>False</td>\n",
       "      <td>False</td>\n",
       "      <td>False</td>\n",
       "      <td>False</td>\n",
       "      <td>False</td>\n",
       "    </tr>\n",
       "    <tr>\n",
       "      <th>b</th>\n",
       "      <td>False</td>\n",
       "      <td>False</td>\n",
       "      <td>False</td>\n",
       "      <td>False</td>\n",
       "      <td>False</td>\n",
       "      <td>False</td>\n",
       "      <td>False</td>\n",
       "    </tr>\n",
       "    <tr>\n",
       "      <th>c</th>\n",
       "      <td>False</td>\n",
       "      <td>False</td>\n",
       "      <td>False</td>\n",
       "      <td>False</td>\n",
       "      <td>False</td>\n",
       "      <td>False</td>\n",
       "      <td>False</td>\n",
       "    </tr>\n",
       "    <tr>\n",
       "      <th>d</th>\n",
       "      <td>False</td>\n",
       "      <td>False</td>\n",
       "      <td>False</td>\n",
       "      <td>False</td>\n",
       "      <td>False</td>\n",
       "      <td>False</td>\n",
       "      <td>False</td>\n",
       "    </tr>\n",
       "    <tr>\n",
       "      <th>e</th>\n",
       "      <td>False</td>\n",
       "      <td>False</td>\n",
       "      <td>False</td>\n",
       "      <td>False</td>\n",
       "      <td>False</td>\n",
       "      <td>False</td>\n",
       "      <td>False</td>\n",
       "    </tr>\n",
       "    <tr>\n",
       "      <th>x</th>\n",
       "      <td>False</td>\n",
       "      <td>False</td>\n",
       "      <td>False</td>\n",
       "      <td>False</td>\n",
       "      <td>False</td>\n",
       "      <td>False</td>\n",
       "      <td>False</td>\n",
       "    </tr>\n",
       "    <tr>\n",
       "      <th>0</th>\n",
       "      <td>False</td>\n",
       "      <td>False</td>\n",
       "      <td>True</td>\n",
       "      <td>True</td>\n",
       "      <td>True</td>\n",
       "      <td>False</td>\n",
       "      <td>False</td>\n",
       "    </tr>\n",
       "    <tr>\n",
       "      <th>1</th>\n",
       "      <td>False</td>\n",
       "      <td>False</td>\n",
       "      <td>True</td>\n",
       "      <td>True</td>\n",
       "      <td>True</td>\n",
       "      <td>False</td>\n",
       "      <td>False</td>\n",
       "    </tr>\n",
       "  </tbody>\n",
       "</table>\n",
       "</div>"
      ],
      "text/plain": [
       "   height  weight  graduated    age  can_ride  fav_number  fav_icecream\n",
       "a   False   False      False  False     False       False         False\n",
       "b   False   False      False  False     False       False         False\n",
       "c   False   False      False  False     False       False         False\n",
       "d   False   False      False  False     False       False         False\n",
       "e   False   False      False  False     False       False         False\n",
       "x   False   False      False  False     False       False         False\n",
       "0   False   False       True   True      True       False         False\n",
       "1   False   False       True   True      True       False         False"
      ]
     },
     "execution_count": 74,
     "metadata": {},
     "output_type": "execute_result"
    }
   ],
   "source": [
    "pd.isna(students)"
   ]
  },
  {
   "cell_type": "code",
   "execution_count": 75,
   "metadata": {},
   "outputs": [
    {
     "data": {
      "text/plain": [
       "a    False\n",
       "b    False\n",
       "c    False\n",
       "d    False\n",
       "e    False\n",
       "x    False\n",
       "0     True\n",
       "1     True\n",
       "Name: age, dtype: bool"
      ]
     },
     "execution_count": 75,
     "metadata": {},
     "output_type": "execute_result"
    }
   ],
   "source": [
    "pd.isna(students.age)"
   ]
  },
  {
   "cell_type": "code",
   "execution_count": 76,
   "metadata": {},
   "outputs": [
    {
     "data": {
      "text/html": [
       "<div>\n",
       "<style scoped>\n",
       "    .dataframe tbody tr th:only-of-type {\n",
       "        vertical-align: middle;\n",
       "    }\n",
       "\n",
       "    .dataframe tbody tr th {\n",
       "        vertical-align: top;\n",
       "    }\n",
       "\n",
       "    .dataframe thead th {\n",
       "        text-align: right;\n",
       "    }\n",
       "</style>\n",
       "<table border=\"1\" class=\"dataframe\">\n",
       "  <thead>\n",
       "    <tr style=\"text-align: right;\">\n",
       "      <th></th>\n",
       "      <th>height</th>\n",
       "      <th>weight</th>\n",
       "      <th>graduated</th>\n",
       "      <th>age</th>\n",
       "      <th>can_ride</th>\n",
       "      <th>fav_number</th>\n",
       "      <th>fav_icecream</th>\n",
       "    </tr>\n",
       "  </thead>\n",
       "  <tbody>\n",
       "    <tr>\n",
       "      <th>a</th>\n",
       "      <td>197</td>\n",
       "      <td>78</td>\n",
       "      <td>False</td>\n",
       "      <td>20.0</td>\n",
       "      <td>True</td>\n",
       "      <td>15</td>\n",
       "      <td>strawberry</td>\n",
       "    </tr>\n",
       "    <tr>\n",
       "      <th>b</th>\n",
       "      <td>198</td>\n",
       "      <td>88</td>\n",
       "      <td>False</td>\n",
       "      <td>20.0</td>\n",
       "      <td>True</td>\n",
       "      <td>27</td>\n",
       "      <td>vanilla</td>\n",
       "    </tr>\n",
       "    <tr>\n",
       "      <th>c</th>\n",
       "      <td>157</td>\n",
       "      <td>83</td>\n",
       "      <td>True</td>\n",
       "      <td>20.0</td>\n",
       "      <td>False</td>\n",
       "      <td>30</td>\n",
       "      <td>strawberry</td>\n",
       "    </tr>\n",
       "    <tr>\n",
       "      <th>d</th>\n",
       "      <td>191</td>\n",
       "      <td>71</td>\n",
       "      <td>False</td>\n",
       "      <td>23.0</td>\n",
       "      <td>True</td>\n",
       "      <td>52</td>\n",
       "      <td>chocolate</td>\n",
       "    </tr>\n",
       "    <tr>\n",
       "      <th>e</th>\n",
       "      <td>185</td>\n",
       "      <td>80</td>\n",
       "      <td>False</td>\n",
       "      <td>20.0</td>\n",
       "      <td>True</td>\n",
       "      <td>70</td>\n",
       "      <td>strawberry</td>\n",
       "    </tr>\n",
       "    <tr>\n",
       "      <th>x</th>\n",
       "      <td>170</td>\n",
       "      <td>70</td>\n",
       "      <td>True</td>\n",
       "      <td>22.0</td>\n",
       "      <td>False</td>\n",
       "      <td>26</td>\n",
       "      <td>chocolate</td>\n",
       "    </tr>\n",
       "  </tbody>\n",
       "</table>\n",
       "</div>"
      ],
      "text/plain": [
       "   height  weight graduated   age can_ride  fav_number fav_icecream\n",
       "a     197      78     False  20.0     True          15   strawberry\n",
       "b     198      88     False  20.0     True          27      vanilla\n",
       "c     157      83      True  20.0    False          30   strawberry\n",
       "d     191      71     False  23.0     True          52    chocolate\n",
       "e     185      80     False  20.0     True          70   strawberry\n",
       "x     170      70      True  22.0    False          26    chocolate"
      ]
     },
     "execution_count": 76,
     "metadata": {},
     "output_type": "execute_result"
    }
   ],
   "source": [
    "students.dropna()"
   ]
  },
  {
   "cell_type": "code",
   "execution_count": 77,
   "metadata": {},
   "outputs": [
    {
     "data": {
      "text/html": [
       "<div>\n",
       "<style scoped>\n",
       "    .dataframe tbody tr th:only-of-type {\n",
       "        vertical-align: middle;\n",
       "    }\n",
       "\n",
       "    .dataframe tbody tr th {\n",
       "        vertical-align: top;\n",
       "    }\n",
       "\n",
       "    .dataframe thead th {\n",
       "        text-align: right;\n",
       "    }\n",
       "</style>\n",
       "<table border=\"1\" class=\"dataframe\">\n",
       "  <thead>\n",
       "    <tr style=\"text-align: right;\">\n",
       "      <th></th>\n",
       "      <th>height</th>\n",
       "      <th>weight</th>\n",
       "      <th>graduated</th>\n",
       "      <th>age</th>\n",
       "      <th>can_ride</th>\n",
       "      <th>fav_number</th>\n",
       "      <th>fav_icecream</th>\n",
       "    </tr>\n",
       "  </thead>\n",
       "  <tbody>\n",
       "    <tr>\n",
       "      <th>a</th>\n",
       "      <td>197</td>\n",
       "      <td>78</td>\n",
       "      <td>False</td>\n",
       "      <td>20.0</td>\n",
       "      <td>True</td>\n",
       "      <td>15</td>\n",
       "      <td>strawberry</td>\n",
       "    </tr>\n",
       "    <tr>\n",
       "      <th>b</th>\n",
       "      <td>198</td>\n",
       "      <td>88</td>\n",
       "      <td>False</td>\n",
       "      <td>20.0</td>\n",
       "      <td>True</td>\n",
       "      <td>27</td>\n",
       "      <td>vanilla</td>\n",
       "    </tr>\n",
       "    <tr>\n",
       "      <th>c</th>\n",
       "      <td>157</td>\n",
       "      <td>83</td>\n",
       "      <td>True</td>\n",
       "      <td>20.0</td>\n",
       "      <td>False</td>\n",
       "      <td>30</td>\n",
       "      <td>strawberry</td>\n",
       "    </tr>\n",
       "    <tr>\n",
       "      <th>d</th>\n",
       "      <td>191</td>\n",
       "      <td>71</td>\n",
       "      <td>False</td>\n",
       "      <td>23.0</td>\n",
       "      <td>True</td>\n",
       "      <td>52</td>\n",
       "      <td>chocolate</td>\n",
       "    </tr>\n",
       "    <tr>\n",
       "      <th>e</th>\n",
       "      <td>185</td>\n",
       "      <td>80</td>\n",
       "      <td>False</td>\n",
       "      <td>20.0</td>\n",
       "      <td>True</td>\n",
       "      <td>70</td>\n",
       "      <td>strawberry</td>\n",
       "    </tr>\n",
       "    <tr>\n",
       "      <th>x</th>\n",
       "      <td>170</td>\n",
       "      <td>70</td>\n",
       "      <td>True</td>\n",
       "      <td>22.0</td>\n",
       "      <td>False</td>\n",
       "      <td>26</td>\n",
       "      <td>chocolate</td>\n",
       "    </tr>\n",
       "    <tr>\n",
       "      <th>0</th>\n",
       "      <td>160</td>\n",
       "      <td>60</td>\n",
       "      <td>False</td>\n",
       "      <td>20.0</td>\n",
       "      <td>False</td>\n",
       "      <td>80</td>\n",
       "      <td>chocolate</td>\n",
       "    </tr>\n",
       "    <tr>\n",
       "      <th>1</th>\n",
       "      <td>180</td>\n",
       "      <td>80</td>\n",
       "      <td>False</td>\n",
       "      <td>20.0</td>\n",
       "      <td>False</td>\n",
       "      <td>6</td>\n",
       "      <td>strawberry</td>\n",
       "    </tr>\n",
       "  </tbody>\n",
       "</table>\n",
       "</div>"
      ],
      "text/plain": [
       "   height  weight  graduated   age  can_ride  fav_number fav_icecream\n",
       "a     197      78      False  20.0      True          15   strawberry\n",
       "b     198      88      False  20.0      True          27      vanilla\n",
       "c     157      83       True  20.0     False          30   strawberry\n",
       "d     191      71      False  23.0      True          52    chocolate\n",
       "e     185      80      False  20.0      True          70   strawberry\n",
       "x     170      70       True  22.0     False          26    chocolate\n",
       "0     160      60      False  20.0     False          80    chocolate\n",
       "1     180      80      False  20.0     False           6   strawberry"
      ]
     },
     "execution_count": 77,
     "metadata": {},
     "output_type": "execute_result"
    }
   ],
   "source": [
    "students.fillna({\n",
    "    'graduated': False,\n",
    "    'can_ride':  False,\n",
    "    'age':       20,\n",
    "})"
   ]
  },
  {
   "cell_type": "markdown",
   "metadata": {},
   "source": [
    "---"
   ]
  },
  {
   "cell_type": "markdown",
   "metadata": {},
   "source": [
    "### Deleting"
   ]
  },
  {
   "cell_type": "markdown",
   "metadata": {},
   "source": [
    "TODO: mutability and inplace"
   ]
  },
  {
   "cell_type": "code",
   "execution_count": 78,
   "metadata": {},
   "outputs": [
    {
     "data": {
      "text/html": [
       "<div>\n",
       "<style scoped>\n",
       "    .dataframe tbody tr th:only-of-type {\n",
       "        vertical-align: middle;\n",
       "    }\n",
       "\n",
       "    .dataframe tbody tr th {\n",
       "        vertical-align: top;\n",
       "    }\n",
       "\n",
       "    .dataframe thead th {\n",
       "        text-align: right;\n",
       "    }\n",
       "</style>\n",
       "<table border=\"1\" class=\"dataframe\">\n",
       "  <thead>\n",
       "    <tr style=\"text-align: right;\">\n",
       "      <th></th>\n",
       "      <th>weight</th>\n",
       "      <th>graduated</th>\n",
       "      <th>age</th>\n",
       "      <th>can_ride</th>\n",
       "      <th>fav_number</th>\n",
       "      <th>fav_icecream</th>\n",
       "    </tr>\n",
       "  </thead>\n",
       "  <tbody>\n",
       "    <tr>\n",
       "      <th>a</th>\n",
       "      <td>78</td>\n",
       "      <td>False</td>\n",
       "      <td>20.0</td>\n",
       "      <td>True</td>\n",
       "      <td>15</td>\n",
       "      <td>strawberry</td>\n",
       "    </tr>\n",
       "    <tr>\n",
       "      <th>b</th>\n",
       "      <td>88</td>\n",
       "      <td>False</td>\n",
       "      <td>20.0</td>\n",
       "      <td>True</td>\n",
       "      <td>27</td>\n",
       "      <td>vanilla</td>\n",
       "    </tr>\n",
       "    <tr>\n",
       "      <th>c</th>\n",
       "      <td>83</td>\n",
       "      <td>True</td>\n",
       "      <td>20.0</td>\n",
       "      <td>False</td>\n",
       "      <td>30</td>\n",
       "      <td>strawberry</td>\n",
       "    </tr>\n",
       "    <tr>\n",
       "      <th>d</th>\n",
       "      <td>71</td>\n",
       "      <td>False</td>\n",
       "      <td>23.0</td>\n",
       "      <td>True</td>\n",
       "      <td>52</td>\n",
       "      <td>chocolate</td>\n",
       "    </tr>\n",
       "    <tr>\n",
       "      <th>e</th>\n",
       "      <td>80</td>\n",
       "      <td>False</td>\n",
       "      <td>20.0</td>\n",
       "      <td>True</td>\n",
       "      <td>70</td>\n",
       "      <td>strawberry</td>\n",
       "    </tr>\n",
       "    <tr>\n",
       "      <th>x</th>\n",
       "      <td>70</td>\n",
       "      <td>True</td>\n",
       "      <td>22.0</td>\n",
       "      <td>False</td>\n",
       "      <td>26</td>\n",
       "      <td>chocolate</td>\n",
       "    </tr>\n",
       "    <tr>\n",
       "      <th>0</th>\n",
       "      <td>60</td>\n",
       "      <td>NaN</td>\n",
       "      <td>NaN</td>\n",
       "      <td>NaN</td>\n",
       "      <td>80</td>\n",
       "      <td>chocolate</td>\n",
       "    </tr>\n",
       "    <tr>\n",
       "      <th>1</th>\n",
       "      <td>80</td>\n",
       "      <td>NaN</td>\n",
       "      <td>NaN</td>\n",
       "      <td>NaN</td>\n",
       "      <td>6</td>\n",
       "      <td>strawberry</td>\n",
       "    </tr>\n",
       "  </tbody>\n",
       "</table>\n",
       "</div>"
      ],
      "text/plain": [
       "   weight graduated   age can_ride  fav_number fav_icecream\n",
       "a      78     False  20.0     True          15   strawberry\n",
       "b      88     False  20.0     True          27      vanilla\n",
       "c      83      True  20.0    False          30   strawberry\n",
       "d      71     False  23.0     True          52    chocolate\n",
       "e      80     False  20.0     True          70   strawberry\n",
       "x      70      True  22.0    False          26    chocolate\n",
       "0      60       NaN   NaN      NaN          80    chocolate\n",
       "1      80       NaN   NaN      NaN           6   strawberry"
      ]
     },
     "execution_count": 78,
     "metadata": {},
     "output_type": "execute_result"
    }
   ],
   "source": [
    "students.drop('height', axis=1)  # delete entire columns"
   ]
  },
  {
   "cell_type": "code",
   "execution_count": 79,
   "metadata": {},
   "outputs": [],
   "source": [
    "students.dropna(inplace=True)"
   ]
  },
  {
   "cell_type": "code",
   "execution_count": 80,
   "metadata": {},
   "outputs": [
    {
     "data": {
      "text/html": [
       "<div>\n",
       "<style scoped>\n",
       "    .dataframe tbody tr th:only-of-type {\n",
       "        vertical-align: middle;\n",
       "    }\n",
       "\n",
       "    .dataframe tbody tr th {\n",
       "        vertical-align: top;\n",
       "    }\n",
       "\n",
       "    .dataframe thead th {\n",
       "        text-align: right;\n",
       "    }\n",
       "</style>\n",
       "<table border=\"1\" class=\"dataframe\">\n",
       "  <thead>\n",
       "    <tr style=\"text-align: right;\">\n",
       "      <th></th>\n",
       "      <th>height</th>\n",
       "      <th>weight</th>\n",
       "      <th>graduated</th>\n",
       "      <th>age</th>\n",
       "      <th>can_ride</th>\n",
       "      <th>fav_number</th>\n",
       "      <th>fav_icecream</th>\n",
       "    </tr>\n",
       "  </thead>\n",
       "  <tbody>\n",
       "    <tr>\n",
       "      <th>d</th>\n",
       "      <td>191</td>\n",
       "      <td>71</td>\n",
       "      <td>False</td>\n",
       "      <td>23.0</td>\n",
       "      <td>True</td>\n",
       "      <td>52</td>\n",
       "      <td>chocolate</td>\n",
       "    </tr>\n",
       "    <tr>\n",
       "      <th>x</th>\n",
       "      <td>170</td>\n",
       "      <td>70</td>\n",
       "      <td>True</td>\n",
       "      <td>22.0</td>\n",
       "      <td>False</td>\n",
       "      <td>26</td>\n",
       "      <td>chocolate</td>\n",
       "    </tr>\n",
       "  </tbody>\n",
       "</table>\n",
       "</div>"
      ],
      "text/plain": [
       "   height  weight graduated   age can_ride  fav_number fav_icecream\n",
       "d     191      71     False  23.0     True          52    chocolate\n",
       "x     170      70      True  22.0    False          26    chocolate"
      ]
     },
     "execution_count": 80,
     "metadata": {},
     "output_type": "execute_result"
    }
   ],
   "source": [
    "mask = (students.age > 21)  # delete some rows\n",
    "students[mask]"
   ]
  },
  {
   "cell_type": "markdown",
   "metadata": {},
   "source": [
    "### Array operations"
   ]
  },
  {
   "cell_type": "markdown",
   "metadata": {},
   "source": [
    "Array-wise functions are naturally extended to Series"
   ]
  },
  {
   "cell_type": "code",
   "execution_count": 87,
   "metadata": {},
   "outputs": [
    {
     "data": {
      "text/html": [
       "<div>\n",
       "<style scoped>\n",
       "    .dataframe tbody tr th:only-of-type {\n",
       "        vertical-align: middle;\n",
       "    }\n",
       "\n",
       "    .dataframe tbody tr th {\n",
       "        vertical-align: top;\n",
       "    }\n",
       "\n",
       "    .dataframe thead th {\n",
       "        text-align: right;\n",
       "    }\n",
       "</style>\n",
       "<table border=\"1\" class=\"dataframe\">\n",
       "  <thead>\n",
       "    <tr style=\"text-align: right;\">\n",
       "      <th></th>\n",
       "      <th>height</th>\n",
       "      <th>weight</th>\n",
       "      <th>graduated</th>\n",
       "      <th>age</th>\n",
       "      <th>can_ride</th>\n",
       "      <th>fav_number</th>\n",
       "      <th>fav_icecream</th>\n",
       "    </tr>\n",
       "  </thead>\n",
       "  <tbody>\n",
       "    <tr>\n",
       "      <th>a</th>\n",
       "      <td>197</td>\n",
       "      <td>78</td>\n",
       "      <td>False</td>\n",
       "      <td>20.0</td>\n",
       "      <td>True</td>\n",
       "      <td>15</td>\n",
       "      <td>strawberry</td>\n",
       "    </tr>\n",
       "    <tr>\n",
       "      <th>b</th>\n",
       "      <td>198</td>\n",
       "      <td>88</td>\n",
       "      <td>False</td>\n",
       "      <td>20.0</td>\n",
       "      <td>True</td>\n",
       "      <td>27</td>\n",
       "      <td>vanilla</td>\n",
       "    </tr>\n",
       "    <tr>\n",
       "      <th>c</th>\n",
       "      <td>157</td>\n",
       "      <td>83</td>\n",
       "      <td>True</td>\n",
       "      <td>20.0</td>\n",
       "      <td>False</td>\n",
       "      <td>30</td>\n",
       "      <td>strawberry</td>\n",
       "    </tr>\n",
       "    <tr>\n",
       "      <th>d</th>\n",
       "      <td>191</td>\n",
       "      <td>71</td>\n",
       "      <td>False</td>\n",
       "      <td>23.0</td>\n",
       "      <td>True</td>\n",
       "      <td>52</td>\n",
       "      <td>chocolate</td>\n",
       "    </tr>\n",
       "    <tr>\n",
       "      <th>e</th>\n",
       "      <td>185</td>\n",
       "      <td>80</td>\n",
       "      <td>False</td>\n",
       "      <td>20.0</td>\n",
       "      <td>True</td>\n",
       "      <td>70</td>\n",
       "      <td>strawberry</td>\n",
       "    </tr>\n",
       "    <tr>\n",
       "      <th>x</th>\n",
       "      <td>170</td>\n",
       "      <td>70</td>\n",
       "      <td>True</td>\n",
       "      <td>22.0</td>\n",
       "      <td>False</td>\n",
       "      <td>26</td>\n",
       "      <td>chocolate</td>\n",
       "    </tr>\n",
       "  </tbody>\n",
       "</table>\n",
       "</div>"
      ],
      "text/plain": [
       "   height  weight graduated   age can_ride  fav_number fav_icecream\n",
       "a     197      78     False  20.0     True          15   strawberry\n",
       "b     198      88     False  20.0     True          27      vanilla\n",
       "c     157      83      True  20.0    False          30   strawberry\n",
       "d     191      71     False  23.0     True          52    chocolate\n",
       "e     185      80     False  20.0     True          70   strawberry\n",
       "x     170      70      True  22.0    False          26    chocolate"
      ]
     },
     "execution_count": 87,
     "metadata": {},
     "output_type": "execute_result"
    }
   ],
   "source": [
    "students  # to see what we're working with"
   ]
  },
  {
   "cell_type": "code",
   "execution_count": 82,
   "metadata": {},
   "outputs": [
    {
     "data": {
      "text/plain": [
       "height        183.000000\n",
       "weight         78.333333\n",
       "graduated       0.333333\n",
       "age            20.833333\n",
       "can_ride        0.666667\n",
       "fav_number     36.666667\n",
       "dtype: float64"
      ]
     },
     "execution_count": 82,
     "metadata": {},
     "output_type": "execute_result"
    }
   ],
   "source": [
    "students.mean()"
   ]
  },
  {
   "cell_type": "markdown",
   "metadata": {},
   "source": [
    "**ℹ️ Tip**: The sum of the boolean series `graduated` is the number of people that graduated. The mean of `graduated` is the sum divided by the total number of students, which is precisely the percentage of students that graduated."
   ]
  },
  {
   "cell_type": "code",
   "execution_count": 83,
   "metadata": {},
   "outputs": [
    {
     "data": {
      "text/plain": [
       "2"
      ]
     },
     "execution_count": 83,
     "metadata": {},
     "output_type": "execute_result"
    }
   ],
   "source": [
    "students.graduated.sum()"
   ]
  },
  {
   "cell_type": "code",
   "execution_count": 84,
   "metadata": {},
   "outputs": [
    {
     "data": {
      "text/plain": [
       "a    77.50\n",
       "b    83.25\n",
       "c    72.50\n",
       "d    84.25\n",
       "e    88.75\n",
       "x    72.00\n",
       "dtype: float64"
      ]
     },
     "execution_count": 84,
     "metadata": {},
     "output_type": "execute_result"
    }
   ],
   "source": [
    "students.mean(axis=1)  # the average for each student, of their height, weight and graduation status.. which doesn't make much sense"
   ]
  },
  {
   "cell_type": "code",
   "execution_count": 85,
   "metadata": {},
   "outputs": [
    {
     "data": {
      "text/plain": [
       "a    68\n",
       "b    78\n",
       "c    73\n",
       "d    61\n",
       "e    70\n",
       "x    60\n",
       "Name: weight, dtype: int64"
      ]
     },
     "execution_count": 85,
     "metadata": {},
     "output_type": "execute_result"
    }
   ],
   "source": [
    "students.weight - 10  # if only losing weight was this easy 😅"
   ]
  },
  {
   "cell_type": "code",
   "execution_count": 86,
   "metadata": {},
   "outputs": [
    {
     "data": {
      "text/plain": [
       "a    275\n",
       "b    286\n",
       "c    240\n",
       "d    262\n",
       "e    265\n",
       "x    240\n",
       "dtype: int64"
      ]
     },
     "execution_count": 86,
     "metadata": {},
     "output_type": "execute_result"
    }
   ],
   "source": [
    "students.height + students.weight"
   ]
  },
  {
   "cell_type": "code",
   "execution_count": 89,
   "metadata": {},
   "outputs": [
    {
     "data": {
      "text/plain": [
       "a    False\n",
       "b    False\n",
       "c     True\n",
       "d    False\n",
       "e    False\n",
       "x     True\n",
       "dtype: bool"
      ]
     },
     "execution_count": 89,
     "metadata": {},
     "output_type": "execute_result"
    }
   ],
   "source": [
    "students.graduated & ~students.can_ride  # students who graduated but cannot ride"
   ]
  },
  {
   "cell_type": "code",
   "execution_count": 90,
   "metadata": {},
   "outputs": [
    {
     "data": {
      "text/plain": [
       "a    70\n",
       "b    80\n",
       "c    80\n",
       "d    70\n",
       "e    80\n",
       "x    70\n",
       "Name: weight, dtype: int64"
      ]
     },
     "execution_count": 90,
     "metadata": {},
     "output_type": "execute_result"
    }
   ],
   "source": [
    "students.weight.apply(lambda w: (w // 10) * 10)  # apply to each element of a column"
   ]
  },
  {
   "cell_type": "code",
   "execution_count": 91,
   "metadata": {},
   "outputs": [
    {
     "data": {
      "text/plain": [
       "a    275\n",
       "b    286\n",
       "c    240\n",
       "d    262\n",
       "e    265\n",
       "x    240\n",
       "dtype: int64"
      ]
     },
     "execution_count": 91,
     "metadata": {},
     "output_type": "execute_result"
    }
   ],
   "source": [
    "students.apply(lambda row: row.height + row.weight, axis=1)  # apply row-wise"
   ]
  },
  {
   "cell_type": "code",
   "execution_count": 92,
   "metadata": {},
   "outputs": [],
   "source": [
    "def relabel_boolean(x):\n",
    "    # if the argument is not a boolean, leave it as it is\n",
    "    if type(x) is not bool:\n",
    "        return x\n",
    "    # True -> yes; False -> no\n",
    "    return 'yes' if x is True else 'no'"
   ]
  },
  {
   "cell_type": "code",
   "execution_count": 93,
   "metadata": {},
   "outputs": [
    {
     "data": {
      "text/html": [
       "<div>\n",
       "<style scoped>\n",
       "    .dataframe tbody tr th:only-of-type {\n",
       "        vertical-align: middle;\n",
       "    }\n",
       "\n",
       "    .dataframe tbody tr th {\n",
       "        vertical-align: top;\n",
       "    }\n",
       "\n",
       "    .dataframe thead th {\n",
       "        text-align: right;\n",
       "    }\n",
       "</style>\n",
       "<table border=\"1\" class=\"dataframe\">\n",
       "  <thead>\n",
       "    <tr style=\"text-align: right;\">\n",
       "      <th></th>\n",
       "      <th>height</th>\n",
       "      <th>weight</th>\n",
       "      <th>graduated</th>\n",
       "      <th>age</th>\n",
       "      <th>can_ride</th>\n",
       "      <th>fav_number</th>\n",
       "      <th>fav_icecream</th>\n",
       "    </tr>\n",
       "  </thead>\n",
       "  <tbody>\n",
       "    <tr>\n",
       "      <th>a</th>\n",
       "      <td>197</td>\n",
       "      <td>78</td>\n",
       "      <td>no</td>\n",
       "      <td>20.0</td>\n",
       "      <td>yes</td>\n",
       "      <td>15</td>\n",
       "      <td>strawberry</td>\n",
       "    </tr>\n",
       "    <tr>\n",
       "      <th>b</th>\n",
       "      <td>198</td>\n",
       "      <td>88</td>\n",
       "      <td>no</td>\n",
       "      <td>20.0</td>\n",
       "      <td>yes</td>\n",
       "      <td>27</td>\n",
       "      <td>vanilla</td>\n",
       "    </tr>\n",
       "    <tr>\n",
       "      <th>c</th>\n",
       "      <td>157</td>\n",
       "      <td>83</td>\n",
       "      <td>yes</td>\n",
       "      <td>20.0</td>\n",
       "      <td>no</td>\n",
       "      <td>30</td>\n",
       "      <td>strawberry</td>\n",
       "    </tr>\n",
       "    <tr>\n",
       "      <th>d</th>\n",
       "      <td>191</td>\n",
       "      <td>71</td>\n",
       "      <td>no</td>\n",
       "      <td>23.0</td>\n",
       "      <td>yes</td>\n",
       "      <td>52</td>\n",
       "      <td>chocolate</td>\n",
       "    </tr>\n",
       "    <tr>\n",
       "      <th>e</th>\n",
       "      <td>185</td>\n",
       "      <td>80</td>\n",
       "      <td>no</td>\n",
       "      <td>20.0</td>\n",
       "      <td>yes</td>\n",
       "      <td>70</td>\n",
       "      <td>strawberry</td>\n",
       "    </tr>\n",
       "    <tr>\n",
       "      <th>x</th>\n",
       "      <td>170</td>\n",
       "      <td>70</td>\n",
       "      <td>yes</td>\n",
       "      <td>22.0</td>\n",
       "      <td>no</td>\n",
       "      <td>26</td>\n",
       "      <td>chocolate</td>\n",
       "    </tr>\n",
       "  </tbody>\n",
       "</table>\n",
       "</div>"
      ],
      "text/plain": [
       "   height  weight graduated   age can_ride  fav_number fav_icecream\n",
       "a     197      78        no  20.0      yes          15   strawberry\n",
       "b     198      88        no  20.0      yes          27      vanilla\n",
       "c     157      83       yes  20.0       no          30   strawberry\n",
       "d     191      71        no  23.0      yes          52    chocolate\n",
       "e     185      80        no  20.0      yes          70   strawberry\n",
       "x     170      70       yes  22.0       no          26    chocolate"
      ]
     },
     "execution_count": 93,
     "metadata": {},
     "output_type": "execute_result"
    }
   ],
   "source": [
    "students.applymap(relabel_boolean)  # apply element-wise"
   ]
  },
  {
   "cell_type": "markdown",
   "metadata": {},
   "source": [
    "**ℹ️ Tip**: writing guards for early-exit before processing takes place reduces indentation levels and makes the code readable:\n",
    "```python\n",
    "if check_1:\n",
    "    # some pre-processing\n",
    "    if check_2:\n",
    "        # some processing\n",
    "        return all_good\n",
    "    else:\n",
    "        return failed_check_2\n",
    "else:\n",
    "    return failed_check_1\n",
    "```\n",
    "\n",
    "Equivalent implementation with fewer levels of indentation:\n",
    "```python\n",
    "if not check_1:\n",
    "    return failed_check_1\n",
    "# some pre-processing\n",
    "if not check_2:\n",
    "    return failed_check_2\n",
    "# some processing\n",
    "return all_good\n",
    "```"
   ]
  },
  {
   "cell_type": "markdown",
   "metadata": {},
   "source": [
    "### Data manipulation"
   ]
  },
  {
   "cell_type": "markdown",
   "metadata": {},
   "source": [
    "want to know the avg height and weight for those students that graduated and those that did not"
   ]
  },
  {
   "cell_type": "code",
   "execution_count": 111,
   "metadata": {},
   "outputs": [
    {
     "data": {
      "text/html": [
       "<div>\n",
       "<style scoped>\n",
       "    .dataframe tbody tr th:only-of-type {\n",
       "        vertical-align: middle;\n",
       "    }\n",
       "\n",
       "    .dataframe tbody tr th {\n",
       "        vertical-align: top;\n",
       "    }\n",
       "\n",
       "    .dataframe thead th {\n",
       "        text-align: right;\n",
       "    }\n",
       "</style>\n",
       "<table border=\"1\" class=\"dataframe\">\n",
       "  <thead>\n",
       "    <tr style=\"text-align: right;\">\n",
       "      <th></th>\n",
       "      <th>height</th>\n",
       "      <th>weight</th>\n",
       "    </tr>\n",
       "    <tr>\n",
       "      <th>graduated</th>\n",
       "      <th></th>\n",
       "      <th></th>\n",
       "    </tr>\n",
       "  </thead>\n",
       "  <tbody>\n",
       "    <tr>\n",
       "      <th>False</th>\n",
       "      <td>192.75</td>\n",
       "      <td>79.25</td>\n",
       "    </tr>\n",
       "    <tr>\n",
       "      <th>True</th>\n",
       "      <td>163.50</td>\n",
       "      <td>76.50</td>\n",
       "    </tr>\n",
       "  </tbody>\n",
       "</table>\n",
       "</div>"
      ],
      "text/plain": [
       "           height  weight\n",
       "graduated                \n",
       "False      192.75   79.25\n",
       "True       163.50   76.50"
      ]
     },
     "execution_count": 111,
     "metadata": {},
     "output_type": "execute_result"
    }
   ],
   "source": [
    "# pivoting \"flips\" the data according to a discrete variable\n",
    "pd.pivot_table(\n",
    "    students,\n",
    "    index='graduated',\n",
    "    values=['height', 'weight'],\n",
    "    aggfunc='mean',\n",
    ")"
   ]
  },
  {
   "cell_type": "code",
   "execution_count": 112,
   "metadata": {},
   "outputs": [
    {
     "data": {
      "text/html": [
       "<div>\n",
       "<style scoped>\n",
       "    .dataframe tbody tr th:only-of-type {\n",
       "        vertical-align: middle;\n",
       "    }\n",
       "\n",
       "    .dataframe tbody tr th {\n",
       "        vertical-align: top;\n",
       "    }\n",
       "\n",
       "    .dataframe thead th {\n",
       "        text-align: right;\n",
       "    }\n",
       "</style>\n",
       "<table border=\"1\" class=\"dataframe\">\n",
       "  <thead>\n",
       "    <tr style=\"text-align: right;\">\n",
       "      <th></th>\n",
       "      <th>height</th>\n",
       "      <th>weight</th>\n",
       "    </tr>\n",
       "    <tr>\n",
       "      <th>graduated</th>\n",
       "      <th></th>\n",
       "      <th></th>\n",
       "    </tr>\n",
       "  </thead>\n",
       "  <tbody>\n",
       "    <tr>\n",
       "      <th>False</th>\n",
       "      <td>198</td>\n",
       "      <td>88</td>\n",
       "    </tr>\n",
       "    <tr>\n",
       "      <th>True</th>\n",
       "      <td>170</td>\n",
       "      <td>83</td>\n",
       "    </tr>\n",
       "  </tbody>\n",
       "</table>\n",
       "</div>"
      ],
      "text/plain": [
       "           height  weight\n",
       "graduated                \n",
       "False         198      88\n",
       "True          170      83"
      ]
     },
     "execution_count": 112,
     "metadata": {},
     "output_type": "execute_result"
    }
   ],
   "source": [
    "pd.pivot_table(\n",
    "    students,\n",
    "    index='graduated',\n",
    "    values=['height', 'weight'],\n",
    "    aggfunc='max',\n",
    ")"
   ]
  },
  {
   "cell_type": "markdown",
   "metadata": {},
   "source": [
    "---"
   ]
  },
  {
   "cell_type": "markdown",
   "metadata": {},
   "source": [
    "Melting can be thought of as the reverse of pivoting"
   ]
  },
  {
   "cell_type": "code",
   "execution_count": 113,
   "metadata": {},
   "outputs": [],
   "source": [
    "height_evolution = pd.DataFrame({\n",
    "    'alice': np.linspace(160, 190, num=5),\n",
    "    'bob':   np.linspace(170, 180, num=5),\n",
    "    'year':  range(2000, 2005),\n",
    "})"
   ]
  },
  {
   "cell_type": "code",
   "execution_count": 114,
   "metadata": {},
   "outputs": [
    {
     "data": {
      "text/html": [
       "<div>\n",
       "<style scoped>\n",
       "    .dataframe tbody tr th:only-of-type {\n",
       "        vertical-align: middle;\n",
       "    }\n",
       "\n",
       "    .dataframe tbody tr th {\n",
       "        vertical-align: top;\n",
       "    }\n",
       "\n",
       "    .dataframe thead th {\n",
       "        text-align: right;\n",
       "    }\n",
       "</style>\n",
       "<table border=\"1\" class=\"dataframe\">\n",
       "  <thead>\n",
       "    <tr style=\"text-align: right;\">\n",
       "      <th></th>\n",
       "      <th>alice</th>\n",
       "      <th>bob</th>\n",
       "      <th>year</th>\n",
       "    </tr>\n",
       "  </thead>\n",
       "  <tbody>\n",
       "    <tr>\n",
       "      <th>0</th>\n",
       "      <td>160.0</td>\n",
       "      <td>170.0</td>\n",
       "      <td>2000</td>\n",
       "    </tr>\n",
       "    <tr>\n",
       "      <th>1</th>\n",
       "      <td>167.5</td>\n",
       "      <td>172.5</td>\n",
       "      <td>2001</td>\n",
       "    </tr>\n",
       "    <tr>\n",
       "      <th>2</th>\n",
       "      <td>175.0</td>\n",
       "      <td>175.0</td>\n",
       "      <td>2002</td>\n",
       "    </tr>\n",
       "    <tr>\n",
       "      <th>3</th>\n",
       "      <td>182.5</td>\n",
       "      <td>177.5</td>\n",
       "      <td>2003</td>\n",
       "    </tr>\n",
       "    <tr>\n",
       "      <th>4</th>\n",
       "      <td>190.0</td>\n",
       "      <td>180.0</td>\n",
       "      <td>2004</td>\n",
       "    </tr>\n",
       "  </tbody>\n",
       "</table>\n",
       "</div>"
      ],
      "text/plain": [
       "   alice    bob  year\n",
       "0  160.0  170.0  2000\n",
       "1  167.5  172.5  2001\n",
       "2  175.0  175.0  2002\n",
       "3  182.5  177.5  2003\n",
       "4  190.0  180.0  2004"
      ]
     },
     "execution_count": 114,
     "metadata": {},
     "output_type": "execute_result"
    }
   ],
   "source": [
    "height_evolution"
   ]
  },
  {
   "cell_type": "code",
   "execution_count": 115,
   "metadata": {},
   "outputs": [
    {
     "data": {
      "text/html": [
       "<div>\n",
       "<style scoped>\n",
       "    .dataframe tbody tr th:only-of-type {\n",
       "        vertical-align: middle;\n",
       "    }\n",
       "\n",
       "    .dataframe tbody tr th {\n",
       "        vertical-align: top;\n",
       "    }\n",
       "\n",
       "    .dataframe thead th {\n",
       "        text-align: right;\n",
       "    }\n",
       "</style>\n",
       "<table border=\"1\" class=\"dataframe\">\n",
       "  <thead>\n",
       "    <tr style=\"text-align: right;\">\n",
       "      <th></th>\n",
       "      <th>year</th>\n",
       "      <th>student</th>\n",
       "      <th>height</th>\n",
       "    </tr>\n",
       "  </thead>\n",
       "  <tbody>\n",
       "    <tr>\n",
       "      <th>0</th>\n",
       "      <td>2000</td>\n",
       "      <td>alice</td>\n",
       "      <td>160.0</td>\n",
       "    </tr>\n",
       "    <tr>\n",
       "      <th>1</th>\n",
       "      <td>2001</td>\n",
       "      <td>alice</td>\n",
       "      <td>167.5</td>\n",
       "    </tr>\n",
       "    <tr>\n",
       "      <th>2</th>\n",
       "      <td>2002</td>\n",
       "      <td>alice</td>\n",
       "      <td>175.0</td>\n",
       "    </tr>\n",
       "    <tr>\n",
       "      <th>3</th>\n",
       "      <td>2003</td>\n",
       "      <td>alice</td>\n",
       "      <td>182.5</td>\n",
       "    </tr>\n",
       "    <tr>\n",
       "      <th>4</th>\n",
       "      <td>2004</td>\n",
       "      <td>alice</td>\n",
       "      <td>190.0</td>\n",
       "    </tr>\n",
       "    <tr>\n",
       "      <th>5</th>\n",
       "      <td>2000</td>\n",
       "      <td>bob</td>\n",
       "      <td>170.0</td>\n",
       "    </tr>\n",
       "    <tr>\n",
       "      <th>6</th>\n",
       "      <td>2001</td>\n",
       "      <td>bob</td>\n",
       "      <td>172.5</td>\n",
       "    </tr>\n",
       "    <tr>\n",
       "      <th>7</th>\n",
       "      <td>2002</td>\n",
       "      <td>bob</td>\n",
       "      <td>175.0</td>\n",
       "    </tr>\n",
       "    <tr>\n",
       "      <th>8</th>\n",
       "      <td>2003</td>\n",
       "      <td>bob</td>\n",
       "      <td>177.5</td>\n",
       "    </tr>\n",
       "    <tr>\n",
       "      <th>9</th>\n",
       "      <td>2004</td>\n",
       "      <td>bob</td>\n",
       "      <td>180.0</td>\n",
       "    </tr>\n",
       "  </tbody>\n",
       "</table>\n",
       "</div>"
      ],
      "text/plain": [
       "   year student  height\n",
       "0  2000   alice   160.0\n",
       "1  2001   alice   167.5\n",
       "2  2002   alice   175.0\n",
       "3  2003   alice   182.5\n",
       "4  2004   alice   190.0\n",
       "5  2000     bob   170.0\n",
       "6  2001     bob   172.5\n",
       "7  2002     bob   175.0\n",
       "8  2003     bob   177.5\n",
       "9  2004     bob   180.0"
      ]
     },
     "execution_count": 115,
     "metadata": {},
     "output_type": "execute_result"
    }
   ],
   "source": [
    "melted = height_evolution.melt(\n",
    "    id_vars='year',\n",
    "    value_vars=['alice', 'bob'],\n",
    "\n",
    "    var_name='student',\n",
    "    value_name='height',\n",
    ")\n",
    "melted"
   ]
  },
  {
   "cell_type": "code",
   "execution_count": 116,
   "metadata": {},
   "outputs": [
    {
     "data": {
      "text/plain": [
       "0    Alice\n",
       "1    Alice\n",
       "2    Alice\n",
       "3    Alice\n",
       "4    Alice\n",
       "5      Bob\n",
       "6      Bob\n",
       "7      Bob\n",
       "8      Bob\n",
       "9      Bob\n",
       "Name: student, dtype: object"
      ]
     },
     "execution_count": 116,
     "metadata": {},
     "output_type": "execute_result"
    }
   ],
   "source": [
    "melted.student.str.title()  # apply string functions on the entire column"
   ]
  },
  {
   "cell_type": "markdown",
   "metadata": {},
   "source": [
    "---"
   ]
  },
  {
   "cell_type": "code",
   "execution_count": 117,
   "metadata": {},
   "outputs": [
    {
     "data": {
      "text/html": [
       "<div>\n",
       "<style scoped>\n",
       "    .dataframe tbody tr th:only-of-type {\n",
       "        vertical-align: middle;\n",
       "    }\n",
       "\n",
       "    .dataframe tbody tr th {\n",
       "        vertical-align: top;\n",
       "    }\n",
       "\n",
       "    .dataframe thead th {\n",
       "        text-align: right;\n",
       "    }\n",
       "</style>\n",
       "<table border=\"1\" class=\"dataframe\">\n",
       "  <thead>\n",
       "    <tr style=\"text-align: right;\">\n",
       "      <th></th>\n",
       "      <th>height</th>\n",
       "      <th>weight</th>\n",
       "      <th>graduated</th>\n",
       "      <th>age</th>\n",
       "      <th>can_ride</th>\n",
       "      <th>fav_number</th>\n",
       "      <th>fav_icecream</th>\n",
       "    </tr>\n",
       "  </thead>\n",
       "  <tbody>\n",
       "    <tr>\n",
       "      <th>a</th>\n",
       "      <td>197</td>\n",
       "      <td>78</td>\n",
       "      <td>False</td>\n",
       "      <td>20.0</td>\n",
       "      <td>True</td>\n",
       "      <td>15</td>\n",
       "      <td>strawberry</td>\n",
       "    </tr>\n",
       "    <tr>\n",
       "      <th>b</th>\n",
       "      <td>198</td>\n",
       "      <td>88</td>\n",
       "      <td>False</td>\n",
       "      <td>20.0</td>\n",
       "      <td>True</td>\n",
       "      <td>27</td>\n",
       "      <td>vanilla</td>\n",
       "    </tr>\n",
       "    <tr>\n",
       "      <th>c</th>\n",
       "      <td>157</td>\n",
       "      <td>83</td>\n",
       "      <td>True</td>\n",
       "      <td>20.0</td>\n",
       "      <td>False</td>\n",
       "      <td>30</td>\n",
       "      <td>strawberry</td>\n",
       "    </tr>\n",
       "    <tr>\n",
       "      <th>d</th>\n",
       "      <td>191</td>\n",
       "      <td>71</td>\n",
       "      <td>False</td>\n",
       "      <td>23.0</td>\n",
       "      <td>True</td>\n",
       "      <td>52</td>\n",
       "      <td>chocolate</td>\n",
       "    </tr>\n",
       "    <tr>\n",
       "      <th>e</th>\n",
       "      <td>185</td>\n",
       "      <td>80</td>\n",
       "      <td>False</td>\n",
       "      <td>20.0</td>\n",
       "      <td>True</td>\n",
       "      <td>70</td>\n",
       "      <td>strawberry</td>\n",
       "    </tr>\n",
       "    <tr>\n",
       "      <th>x</th>\n",
       "      <td>170</td>\n",
       "      <td>70</td>\n",
       "      <td>True</td>\n",
       "      <td>22.0</td>\n",
       "      <td>False</td>\n",
       "      <td>26</td>\n",
       "      <td>chocolate</td>\n",
       "    </tr>\n",
       "  </tbody>\n",
       "</table>\n",
       "</div>"
      ],
      "text/plain": [
       "   height  weight graduated   age can_ride  fav_number fav_icecream\n",
       "a     197      78     False  20.0     True          15   strawberry\n",
       "b     198      88     False  20.0     True          27      vanilla\n",
       "c     157      83      True  20.0    False          30   strawberry\n",
       "d     191      71     False  23.0     True          52    chocolate\n",
       "e     185      80     False  20.0     True          70   strawberry\n",
       "x     170      70      True  22.0    False          26    chocolate"
      ]
     },
     "execution_count": 117,
     "metadata": {},
     "output_type": "execute_result"
    }
   ],
   "source": [
    "students"
   ]
  },
  {
   "cell_type": "code",
   "execution_count": 118,
   "metadata": {},
   "outputs": [],
   "source": [
    "# you can also create dataframes row-wise\n",
    "performance = pd.DataFrame([\n",
    "    ('alice', 'CS101', 4.0),\n",
    "    ('alice', 'CS102', 3.0),\n",
    "    ('alice', 'CS201', 4.0),\n",
    "    ('bob',   'CS101', 3.0),\n",
    "    ('bob',   'CS201', 4.0),\n",
    "], columns=['student', 'class', 'grade'])"
   ]
  },
  {
   "cell_type": "code",
   "execution_count": 119,
   "metadata": {},
   "outputs": [
    {
     "data": {
      "text/html": [
       "<div>\n",
       "<style scoped>\n",
       "    .dataframe tbody tr th:only-of-type {\n",
       "        vertical-align: middle;\n",
       "    }\n",
       "\n",
       "    .dataframe tbody tr th {\n",
       "        vertical-align: top;\n",
       "    }\n",
       "\n",
       "    .dataframe thead th {\n",
       "        text-align: right;\n",
       "    }\n",
       "</style>\n",
       "<table border=\"1\" class=\"dataframe\">\n",
       "  <thead>\n",
       "    <tr style=\"text-align: right;\">\n",
       "      <th></th>\n",
       "      <th>student</th>\n",
       "      <th>class</th>\n",
       "      <th>grade</th>\n",
       "    </tr>\n",
       "  </thead>\n",
       "  <tbody>\n",
       "    <tr>\n",
       "      <th>0</th>\n",
       "      <td>alice</td>\n",
       "      <td>CS101</td>\n",
       "      <td>4.0</td>\n",
       "    </tr>\n",
       "    <tr>\n",
       "      <th>1</th>\n",
       "      <td>alice</td>\n",
       "      <td>CS102</td>\n",
       "      <td>3.0</td>\n",
       "    </tr>\n",
       "    <tr>\n",
       "      <th>2</th>\n",
       "      <td>alice</td>\n",
       "      <td>CS201</td>\n",
       "      <td>4.0</td>\n",
       "    </tr>\n",
       "    <tr>\n",
       "      <th>3</th>\n",
       "      <td>bob</td>\n",
       "      <td>CS101</td>\n",
       "      <td>3.0</td>\n",
       "    </tr>\n",
       "    <tr>\n",
       "      <th>4</th>\n",
       "      <td>bob</td>\n",
       "      <td>CS201</td>\n",
       "      <td>4.0</td>\n",
       "    </tr>\n",
       "  </tbody>\n",
       "</table>\n",
       "</div>"
      ],
      "text/plain": [
       "  student  class  grade\n",
       "0   alice  CS101    4.0\n",
       "1   alice  CS102    3.0\n",
       "2   alice  CS201    4.0\n",
       "3     bob  CS101    3.0\n",
       "4     bob  CS201    4.0"
      ]
     },
     "execution_count": 119,
     "metadata": {},
     "output_type": "execute_result"
    }
   ],
   "source": [
    "performance"
   ]
  },
  {
   "cell_type": "code",
   "execution_count": 120,
   "metadata": {},
   "outputs": [
    {
     "data": {
      "text/plain": [
       "student\n",
       "alice    3.666667\n",
       "bob      3.500000\n",
       "Name: grade, dtype: float64"
      ]
     },
     "execution_count": 120,
     "metadata": {},
     "output_type": "execute_result"
    }
   ],
   "source": [
    "performance.groupby('student').grade.mean()"
   ]
  },
  {
   "cell_type": "code",
   "execution_count": 121,
   "metadata": {},
   "outputs": [
    {
     "data": {
      "text/plain": [
       "graduated  fav_icecream\n",
       "False      chocolate       23.0\n",
       "           strawberry      20.0\n",
       "           vanilla         20.0\n",
       "True       chocolate       22.0\n",
       "           strawberry      20.0\n",
       "Name: age, dtype: float64"
      ]
     },
     "execution_count": 121,
     "metadata": {},
     "output_type": "execute_result"
    }
   ],
   "source": [
    "# group by multiple variables\n",
    "students.groupby(['graduated', 'fav_icecream']).age.mean()"
   ]
  },
  {
   "cell_type": "code",
   "execution_count": 122,
   "metadata": {},
   "outputs": [
    {
     "name": "stdout",
     "output_type": "stream",
     "text": [
      "alice took 3 classes, with an average of 3.6666666666666665\n",
      "bob took 2 classes, with an average of 3.5\n"
     ]
    }
   ],
   "source": [
    "for student, rows in performance.groupby('student'):\n",
    "    print(student, 'took', len(rows), 'classes, with an average of', rows.grade.mean())"
   ]
  },
  {
   "cell_type": "markdown",
   "metadata": {},
   "source": [
    "---"
   ]
  },
  {
   "cell_type": "code",
   "execution_count": 123,
   "metadata": {},
   "outputs": [
    {
     "data": {
      "text/plain": [
       "alice     190.0\n",
       "bob       180.0\n",
       "year     2004.0\n",
       "dtype: float64"
      ]
     },
     "execution_count": 123,
     "metadata": {},
     "output_type": "execute_result"
    }
   ],
   "source": [
    "max_height = height_evolution.max()\n",
    "max_height"
   ]
  },
  {
   "cell_type": "code",
   "execution_count": 124,
   "metadata": {},
   "outputs": [],
   "source": [
    "max_height.name = 'latest_height'"
   ]
  },
  {
   "cell_type": "code",
   "execution_count": 125,
   "metadata": {},
   "outputs": [
    {
     "data": {
      "text/html": [
       "<div>\n",
       "<style scoped>\n",
       "    .dataframe tbody tr th:only-of-type {\n",
       "        vertical-align: middle;\n",
       "    }\n",
       "\n",
       "    .dataframe tbody tr th {\n",
       "        vertical-align: top;\n",
       "    }\n",
       "\n",
       "    .dataframe thead th {\n",
       "        text-align: right;\n",
       "    }\n",
       "</style>\n",
       "<table border=\"1\" class=\"dataframe\">\n",
       "  <thead>\n",
       "    <tr style=\"text-align: right;\">\n",
       "      <th></th>\n",
       "      <th>student</th>\n",
       "      <th>class</th>\n",
       "      <th>grade</th>\n",
       "      <th>latest_height</th>\n",
       "    </tr>\n",
       "  </thead>\n",
       "  <tbody>\n",
       "    <tr>\n",
       "      <th>0</th>\n",
       "      <td>alice</td>\n",
       "      <td>CS101</td>\n",
       "      <td>4.0</td>\n",
       "      <td>190.0</td>\n",
       "    </tr>\n",
       "    <tr>\n",
       "      <th>1</th>\n",
       "      <td>alice</td>\n",
       "      <td>CS102</td>\n",
       "      <td>3.0</td>\n",
       "      <td>190.0</td>\n",
       "    </tr>\n",
       "    <tr>\n",
       "      <th>2</th>\n",
       "      <td>alice</td>\n",
       "      <td>CS201</td>\n",
       "      <td>4.0</td>\n",
       "      <td>190.0</td>\n",
       "    </tr>\n",
       "    <tr>\n",
       "      <th>3</th>\n",
       "      <td>bob</td>\n",
       "      <td>CS101</td>\n",
       "      <td>3.0</td>\n",
       "      <td>180.0</td>\n",
       "    </tr>\n",
       "    <tr>\n",
       "      <th>4</th>\n",
       "      <td>bob</td>\n",
       "      <td>CS201</td>\n",
       "      <td>4.0</td>\n",
       "      <td>180.0</td>\n",
       "    </tr>\n",
       "  </tbody>\n",
       "</table>\n",
       "</div>"
      ],
      "text/plain": [
       "  student  class  grade  latest_height\n",
       "0   alice  CS101    4.0          190.0\n",
       "1   alice  CS102    3.0          190.0\n",
       "2   alice  CS201    4.0          190.0\n",
       "3     bob  CS101    3.0          180.0\n",
       "4     bob  CS201    4.0          180.0"
      ]
     },
     "execution_count": 125,
     "metadata": {},
     "output_type": "execute_result"
    }
   ],
   "source": [
    "performance.join(max_height, on='student')\n",
    "# note that \"year\" is not here"
   ]
  },
  {
   "cell_type": "markdown",
   "metadata": {},
   "source": [
    "---"
   ]
  },
  {
   "cell_type": "markdown",
   "metadata": {},
   "source": [
    "### Loading"
   ]
  },
  {
   "cell_type": "code",
   "execution_count": 126,
   "metadata": {},
   "outputs": [
    {
     "data": {
      "text/html": [
       "<div>\n",
       "<style scoped>\n",
       "    .dataframe tbody tr th:only-of-type {\n",
       "        vertical-align: middle;\n",
       "    }\n",
       "\n",
       "    .dataframe tbody tr th {\n",
       "        vertical-align: top;\n",
       "    }\n",
       "\n",
       "    .dataframe thead th {\n",
       "        text-align: right;\n",
       "    }\n",
       "</style>\n",
       "<table border=\"1\" class=\"dataframe\">\n",
       "  <thead>\n",
       "    <tr style=\"text-align: right;\">\n",
       "      <th></th>\n",
       "      <th>grade</th>\n",
       "      <th>name</th>\n",
       "      <th>year</th>\n",
       "    </tr>\n",
       "  </thead>\n",
       "  <tbody>\n",
       "    <tr>\n",
       "      <th>0</th>\n",
       "      <td>3.90</td>\n",
       "      <td>Alice</td>\n",
       "      <td>2</td>\n",
       "    </tr>\n",
       "    <tr>\n",
       "      <th>1</th>\n",
       "      <td>3.80</td>\n",
       "      <td>Bob</td>\n",
       "      <td>3</td>\n",
       "    </tr>\n",
       "    <tr>\n",
       "      <th>2</th>\n",
       "      <td>3.85</td>\n",
       "      <td>Chris</td>\n",
       "      <td>1</td>\n",
       "    </tr>\n",
       "  </tbody>\n",
       "</table>\n",
       "</div>"
      ],
      "text/plain": [
       "   grade   name  year\n",
       "0   3.90  Alice     2\n",
       "1   3.80    Bob     3\n",
       "2   3.85  Chris     1"
      ]
     },
     "execution_count": 126,
     "metadata": {},
     "output_type": "execute_result"
    }
   ],
   "source": [
    "pd.read_json('example_files/objects.json')"
   ]
  },
  {
   "cell_type": "code",
   "execution_count": 127,
   "metadata": {},
   "outputs": [
    {
     "data": {
      "text/html": [
       "<div>\n",
       "<style scoped>\n",
       "    .dataframe tbody tr th:only-of-type {\n",
       "        vertical-align: middle;\n",
       "    }\n",
       "\n",
       "    .dataframe tbody tr th {\n",
       "        vertical-align: top;\n",
       "    }\n",
       "\n",
       "    .dataframe thead th {\n",
       "        text-align: right;\n",
       "    }\n",
       "</style>\n",
       "<table border=\"1\" class=\"dataframe\">\n",
       "  <thead>\n",
       "    <tr style=\"text-align: right;\">\n",
       "      <th></th>\n",
       "      <th>grade</th>\n",
       "      <th>name</th>\n",
       "      <th>year</th>\n",
       "    </tr>\n",
       "  </thead>\n",
       "  <tbody>\n",
       "    <tr>\n",
       "      <th>0</th>\n",
       "      <td>3.90</td>\n",
       "      <td>Alice</td>\n",
       "      <td>2</td>\n",
       "    </tr>\n",
       "    <tr>\n",
       "      <th>1</th>\n",
       "      <td>3.80</td>\n",
       "      <td>Bob</td>\n",
       "      <td>3</td>\n",
       "    </tr>\n",
       "    <tr>\n",
       "      <th>2</th>\n",
       "      <td>3.85</td>\n",
       "      <td>Chris</td>\n",
       "      <td>1</td>\n",
       "    </tr>\n",
       "  </tbody>\n",
       "</table>\n",
       "</div>"
      ],
      "text/plain": [
       "   grade   name  year\n",
       "0   3.90  Alice     2\n",
       "1   3.80    Bob     3\n",
       "2   3.85  Chris     1"
      ]
     },
     "execution_count": 127,
     "metadata": {},
     "output_type": "execute_result"
    }
   ],
   "source": [
    "pd.read_csv('example_files/tabular.csv')"
   ]
  },
  {
   "cell_type": "code",
   "execution_count": 128,
   "metadata": {},
   "outputs": [
    {
     "data": {
      "text/html": [
       "<div>\n",
       "<style scoped>\n",
       "    .dataframe tbody tr th:only-of-type {\n",
       "        vertical-align: middle;\n",
       "    }\n",
       "\n",
       "    .dataframe tbody tr th {\n",
       "        vertical-align: top;\n",
       "    }\n",
       "\n",
       "    .dataframe thead th {\n",
       "        text-align: right;\n",
       "    }\n",
       "</style>\n",
       "<table border=\"1\" class=\"dataframe\">\n",
       "  <thead>\n",
       "    <tr style=\"text-align: right;\">\n",
       "      <th></th>\n",
       "      <th>grade</th>\n",
       "      <th>name</th>\n",
       "      <th>year</th>\n",
       "    </tr>\n",
       "  </thead>\n",
       "  <tbody>\n",
       "    <tr>\n",
       "      <th>0</th>\n",
       "      <td>3.90</td>\n",
       "      <td>Alice</td>\n",
       "      <td>2</td>\n",
       "    </tr>\n",
       "    <tr>\n",
       "      <th>1</th>\n",
       "      <td>3.80</td>\n",
       "      <td>Bob</td>\n",
       "      <td>3</td>\n",
       "    </tr>\n",
       "    <tr>\n",
       "      <th>2</th>\n",
       "      <td>3.85</td>\n",
       "      <td>Chris</td>\n",
       "      <td>1</td>\n",
       "    </tr>\n",
       "  </tbody>\n",
       "</table>\n",
       "</div>"
      ],
      "text/plain": [
       "   grade   name  year\n",
       "0   3.90  Alice     2\n",
       "1   3.80    Bob     3\n",
       "2   3.85  Chris     1"
      ]
     },
     "execution_count": 128,
     "metadata": {},
     "output_type": "execute_result"
    }
   ],
   "source": [
    "# load directly from an url, letting Pandas do the downloading\n",
    "pd.read_csv('https://raw.githubusercontent.com/stefan-niculae/viz-workshop/master/example_files/tabular.csv')"
   ]
  },
  {
   "cell_type": "code",
   "execution_count": 129,
   "metadata": {},
   "outputs": [
    {
     "data": {
      "text/html": [
       "<div>\n",
       "<style scoped>\n",
       "    .dataframe tbody tr th:only-of-type {\n",
       "        vertical-align: middle;\n",
       "    }\n",
       "\n",
       "    .dataframe tbody tr th {\n",
       "        vertical-align: top;\n",
       "    }\n",
       "\n",
       "    .dataframe thead th {\n",
       "        text-align: right;\n",
       "    }\n",
       "</style>\n",
       "<table border=\"1\" class=\"dataframe\">\n",
       "  <thead>\n",
       "    <tr style=\"text-align: right;\">\n",
       "      <th></th>\n",
       "      <th>grade</th>\n",
       "      <th>name</th>\n",
       "      <th>year</th>\n",
       "    </tr>\n",
       "  </thead>\n",
       "  <tbody>\n",
       "    <tr>\n",
       "      <th>0</th>\n",
       "      <td>3.90</td>\n",
       "      <td>Alice</td>\n",
       "      <td>2</td>\n",
       "    </tr>\n",
       "    <tr>\n",
       "      <th>1</th>\n",
       "      <td>3.80</td>\n",
       "      <td>Bob</td>\n",
       "      <td>3</td>\n",
       "    </tr>\n",
       "    <tr>\n",
       "      <th>2</th>\n",
       "      <td>3.85</td>\n",
       "      <td>Chris</td>\n",
       "      <td>1</td>\n",
       "    </tr>\n",
       "  </tbody>\n",
       "</table>\n",
       "</div>"
      ],
      "text/plain": [
       "   grade   name  year\n",
       "0   3.90  Alice     2\n",
       "1   3.80    Bob     3\n",
       "2   3.85  Chris     1"
      ]
     },
     "execution_count": 129,
     "metadata": {},
     "output_type": "execute_result"
    }
   ],
   "source": [
    "# load directly from an archive, letting Pandas do the uncompressing\n",
    "pd.read_csv('example_files/archived.csv.zip')"
   ]
  },
  {
   "cell_type": "code",
   "execution_count": 130,
   "metadata": {},
   "outputs": [],
   "source": [
    "performance.to_csv('students_performance.csv')  # you can check the result in the file browser"
   ]
  },
  {
   "cell_type": "markdown",
   "metadata": {},
   "source": [
    "## Read more\n",
    " - Numpy: [quickstart guide](https://docs.scipy.org/doc/numpy-1.15.0/user/quickstart.html)\n",
    " - Scipy: [tutorial](https://docs.scipy.org/doc/scipy/reference/tutorial/index.html)\n",
    " - Python/Numpy/Scipy/Matplotlib: [quick tutorial](http://cs231n.github.io/python-numpy-tutorial/)"
   ]
  }
 ],
 "metadata": {
  "kernelspec": {
   "display_name": "Python 3",
   "language": "python",
   "name": "python3"
  },
  "language_info": {
   "codemirror_mode": {
    "name": "ipython",
    "version": 3
   },
   "file_extension": ".py",
   "mimetype": "text/x-python",
   "name": "python",
   "nbconvert_exporter": "python",
   "pygments_lexer": "ipython3",
   "version": "3.7.0"
  }
 },
 "nbformat": 4,
 "nbformat_minor": 2
}
