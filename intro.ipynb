{
 "cells": [
  {
   "cell_type": "markdown",
   "metadata": {},
   "source": [
    "# Data Visualization Workshop\n",
    "\n",
    "Designed to give you a basic literacy in working with data in Python and plotting. Goes over not only the _how_ and the the _why_, but also gives practical experience as well. Not a comprehensive guide for everything, instead focuses on essential concepts."
   ]
  },
  {
   "cell_type": "markdown",
   "metadata": {},
   "source": [
    "## Content\n",
    "1. Environment basics (Python and Jupyter): the language and environment we'll use\n",
    "2. Data wrangling (NumPy and Pandas): the tools used to handle the data that we will plot\n",
    "3. Plotting (Matplotlib and Seaborn): what are the various types of charts and when to use them\n",
    "4. Real-world dataset: putting it all together and learning to deal with real-world complications that arise"
   ]
  },
  {
   "cell_type": "markdown",
   "metadata": {},
   "source": [
    "## Motivation\n",
    "\n",
    "Why Python and this stack of technologies?\n",
    "\n",
    "![pic](https://zgab33vy595fw5zq-zippykid.netdna-ssl.com/wp-content/uploads/2017/09/growth_major_languages-1-1400x1200.png)\n",
    "\n",
    "Chart source: [2017 Stack Overflow report](https://stackoverflow.blog/2017/09/06/incredible-growth-python/?_ga=2.250079823.894410152.1545977728-478037988.1535754740) (contains a projection chart as well)\n",
    "\n",
    "[2018 Stack Overflow Developer Survey](https://insights.stackoverflow.com/survey/2018/?fbclid=IwAR1a5MDd58rRQQVaoMPNrCXspOkfWL6gat_zaSk5wDgl6JHbG3OUjz7JW20#most-loved-dreaded-and-wanted) results for Python:\n",
    " - the 3rd most loved language\n",
    " - the 1st most wanted language"
   ]
  },
  {
   "cell_type": "markdown",
   "metadata": {},
   "source": [
    "## Format\n",
    "- There are four sessions (each Tuesday of February)\n",
    "  - Same place (Leavey 3rd floor)\n",
    "  - Same time (11am - 12 noon)\n",
    "- Each session lasts for approximately one hour\n",
    "- Each session presents concepts and demonstrates their implementation\n",
    "  - Exercises (marked with 💪) are present at the end of each section to make sure you understood it\n",
    "  - Tips (marked with ℹ️) give useful advice about discussed concepts\n",
    "  - Trivia (marked with 👾) present some fun tidbits \n",
    "- Questions are encouraged during the workshop\n",
    "- Besides the presenter, two more librarians will be able to assist you\n",
    "- The presenter is available after the workshop for any questions\n",
    "- All files and documents are always available online in [this repo](https://github.com/stefan-niculae/viz-workshop)\n",
    "- Video recordings of the workshop may come in the future"
   ]
  },
  {
   "cell_type": "markdown",
   "metadata": {},
   "source": [
    "## Relevance\n",
    "\n",
    "These are the tools and techniques most used in the industry and the academia. \n",
    "During years of experience, these are the concepts I use most frequently, found most useful and keep coming back to."
   ]
  }
 ],
 "metadata": {
  "kernelspec": {
   "display_name": "Python 3",
   "language": "python",
   "name": "python3"
  },
  "language_info": {
   "codemirror_mode": {
    "name": "ipython",
    "version": 3
   },
   "file_extension": ".py",
   "mimetype": "text/x-python",
   "name": "python",
   "nbconvert_exporter": "python",
   "pygments_lexer": "ipython3",
   "version": "3.7.0"
  }
 },
 "nbformat": 4,
 "nbformat_minor": 2
}
