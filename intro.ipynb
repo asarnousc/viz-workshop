{
 "cells": [
  {
   "cell_type": "markdown",
   "metadata": {},
   "source": [
    "## Data Visualization Workshop\n",
    "\n",
    "Designed to give you a basic literacy in working with data in Python and plotting"
   ]
  },
  {
   "cell_type": "markdown",
   "metadata": {},
   "source": [
    "## Relevance\n",
    "\n",
    "- 3+ years experience of data science research in the industry and the academia\n",
    "- this is what the industry uses, and what i found most useful, and keep coming back to"
   ]
  },
  {
   "cell_type": "markdown",
   "metadata": {},
   "source": [
    "## Format\n",
    "- four sessions of 1h each\n",
    "- present concept and demonstrate implementation\n",
    "- exercises after each section to make sure you understood\n",
    "- questions are encouraged throughout\n",
    "- available at the end for any questions"
   ]
  },
  {
   "cell_type": "markdown",
   "metadata": {},
   "source": [
    "## Content\n",
    "1. Environment basics (Python and Jupyter)\n",
    "2. Data wrangling (NumPy and Pandas)\n",
    "3. Plotting (Matplotlib and Seaborn)\n",
    "4. Real-world dataset"
   ]
  },
  {
   "cell_type": "markdown",
   "metadata": {},
   "source": [
    "![pic](https://zgab33vy595fw5zq-zippykid.netdna-ssl.com/wp-content/uploads/2017/09/growth_major_languages-1-1400x1200.png)"
   ]
  },
  {
   "cell_type": "markdown",
   "metadata": {},
   "source": [
    "[2017 Stack Overflow report](https://stackoverflow.blog/2017/09/06/incredible-growth-python/?_ga=2.250079823.894410152.1545977728-478037988.1535754740)"
   ]
  },
  {
   "cell_type": "markdown",
   "metadata": {},
   "source": [
    "[2018 Stack Overflow Developer Survey](https://insights.stackoverflow.com/survey/2018/?fbclid=IwAR1a5MDd58rRQQVaoMPNrCXspOkfWL6gat_zaSk5wDgl6JHbG3OUjz7JW20#most-loved-dreaded-and-wanted):\n",
    " - 3rd most loved\n",
    " - 1st most wanted"
   ]
  }
 ],
 "metadata": {
  "kernelspec": {
   "display_name": "Python 3",
   "language": "python",
   "name": "python3"
  },
  "language_info": {
   "codemirror_mode": {
    "name": "ipython",
    "version": 3
   },
   "file_extension": ".py",
   "mimetype": "text/x-python",
   "name": "python",
   "nbconvert_exporter": "python",
   "pygments_lexer": "ipython3",
   "version": "3.7.0"
  }
 },
 "nbformat": 4,
 "nbformat_minor": 2
}
