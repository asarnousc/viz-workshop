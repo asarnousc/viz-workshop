{
 "cells": [
  {
   "cell_type": "markdown",
   "metadata": {},
   "source": [
    "# Data Visualization Workshop\n",
    "\n",
    "Designed to give you a basic literacy in working with data in Python and plotting. Goes over not only the _how_ and the the _why_, but also gives practical experience as well. Not a comprehensive guide for everything, instead focuses on essential concepts."
   ]
  },
  {
   "cell_type": "markdown",
   "metadata": {},
   "source": [
    "## Content\n",
    "\n",
    "The workshops are split into four sessions, each one being a (soft) pre-requisite for the next one:\n",
    "\n",
    "1. Environment basics (Python and Jupyter): the language and environment we'll use\n",
    "2. Data wrangling (NumPy and Pandas): the tools used to handle the data that we will plot\n",
    "3. Plotting (Matplotlib and Seaborn): what are the various types of charts and when to use them\n",
    "4. Real-world dataset: putting it all together and learning to deal with real-world complications that arise"
   ]
  },
  {
   "cell_type": "markdown",
   "metadata": {},
   "source": [
    "## Motivation"
   ]
  },
  {
   "cell_type": "markdown",
   "metadata": {},
   "source": [
    "Why the topics in this workshop are relevant in today's environment"
   ]
  },
  {
   "cell_type": "markdown",
   "metadata": {},
   "source": [
    "### Python\n",
    "\n",
    "Why use Python? Because it is among the most wanted, loved and popular languages:\n",
    "\n",
    "<img src=\"https://zgab33vy595fw5zq-zippykid.netdna-ssl.com/wp-content/uploads/2017/09/growth_major_languages-1-1400x1200.png\" \n",
    "     style=\"width: 700px\"\n",
    "     ></img>\n",
    "\n",
    "Chart source: [2017 Stack Overflow report](https://stackoverflow.blog/2017/09/06/incredible-growth-python/?_ga=2.250079823.894410152.1545977728-478037988.1535754740) (contains a projection chart as well)\n",
    "\n",
    "[2018 Stack Overflow Developer Survey](https://insights.stackoverflow.com/survey/2018/?fbclid=IwAR1a5MDd58rRQQVaoMPNrCXspOkfWL6gat_zaSk5wDgl6JHbG3OUjz7JW20#most-loved-dreaded-and-wanted) results for Python:\n",
    " - the 3rd most loved language\n",
    " - the 1st most wanted language"
   ]
  },
  {
   "cell_type": "markdown",
   "metadata": {},
   "source": [
    "---"
   ]
  },
  {
   "cell_type": "markdown",
   "metadata": {},
   "source": [
    "Why use Python for data analysis? Because it is _the_ language of choice for Data Science:"
   ]
  },
  {
   "cell_type": "markdown",
   "metadata": {},
   "source": [
    "<img src=\"https://i.imgur.com/QJ4itIj.png\" \n",
    "     style=\"width: 700px\"\n",
    "     ></img>"
   ]
  },
  {
   "cell_type": "markdown",
   "metadata": {},
   "source": [
    "Chart source: [2018 Kaggle Machine Learning and Data Science survey](https://www.houseofbots.com/news-detail/4527-1-most-used-programming-languages-and-recommended-by-data-scientists-expert) (contains many other aspects as well)"
   ]
  },
  {
   "cell_type": "markdown",
   "metadata": {},
   "source": [
    "It is also the area Python sees most use in (but other areas see a lot of use as well, so learning this can lead to transferrable skills):"
   ]
  },
  {
   "cell_type": "markdown",
   "metadata": {},
   "source": [
    "<img src=\"https://i.imgur.com/sRNRvDc.png\" \n",
    "     style=\"width: 700px\"\n",
    "     ></img>"
   ]
  },
  {
   "cell_type": "markdown",
   "metadata": {},
   "source": [
    "Chart source: [2018 Python Developers Survey](https://www.jetbrains.com/research/python-developers-survey-2018/) (contains many other aspects as well)"
   ]
  },
  {
   "cell_type": "markdown",
   "metadata": {},
   "source": [
    "### Data\n",
    "\n",
    "Why learn to work with data? Because we have so so so much of it, and making use of it can lead to great results:\n",
    "\n",
    "<img src=\"http://www.clivemaxfield.com/area51/do-not-delete/lar-0011n-eet-03-lg.jpg\" \n",
    "     style=\"width: 700px\"\n",
    "     ></img>\n",
    "     \n",
    "Chart source: [2016 EE Times article](https://www.eetimes.com/author.asp?section_id=36&doc_id=1330462) (contains other charts as well)\n",
    "\n",
    "\n",
    "> Between the dawn of civilization and 2003, we only created five exabytes [5 million terabytes]; now we're creating that amount every two days. \n",
    "> By 2020, that figure is predicted to sit at 53 zettabytes [53 billion terabytes] — an increase of 50 times.\n",
    "> \n",
    "> _Hal Varian, Chief Economist at Google_"
   ]
  },
  {
   "cell_type": "markdown",
   "metadata": {},
   "source": [
    "---"
   ]
  },
  {
   "cell_type": "markdown",
   "metadata": {},
   "source": [
    "Why learn this technology stack? Because it is the most popular, and best the ecosystem has to offer, both in terms of functionality and ease-of-use but also community support:"
   ]
  },
  {
   "cell_type": "markdown",
   "metadata": {},
   "source": [
    "<img src=\"https://imgur.com/l4Rj1KT.png\" \n",
    "     style=\"width: 400px\"\n",
    "     ></img>"
   ]
  },
  {
   "cell_type": "markdown",
   "metadata": {},
   "source": [
    "Chart source: [2018 State of Developer Ecosystem](https://www.jetbrains.com/research/devecosystem-2018/python/)"
   ]
  },
  {
   "cell_type": "markdown",
   "metadata": {},
   "source": [
    "<img src=\"https://i.imgur.com/W8SuhXT.png\" \n",
    "     style=\"width: 700px\"\n",
    "     ></img>\n",
    "        \n",
    "Chart source [2018 Python Developers Survey](https://www.jetbrains.com/research/python-developers-survey-2018/) (contains many other aspects)"
   ]
  },
  {
   "cell_type": "markdown",
   "metadata": {},
   "source": [
    "## Format\n",
    "- There are four sessions (each Tuesday of February)\n",
    "  - Same place (Leavey 3rd floor)\n",
    "  - Same time (11am - 12 noon)\n",
    "\n",
    "\n",
    "- Each session lasts for approximately one hour\n",
    "- Each session presents concepts and demonstrates their implementation\n",
    "  - Exercises (marked with 💪) are present at the end of each section to make sure you understood it\n",
    "  - Tips (marked with ℹ️) give useful advice about discussed concepts\n",
    "  - Trivia (marked with 👾) present some fun tidbits \n",
    "- Besides the presenter, two more librarians will be present to assist you\n",
    "\n",
    "\n",
    "- Questions are encouraged during the workshop\n",
    "- The presenter is available after the workshop for any questions\n",
    "- If you missed some exercises during the workshop, or wish to check your answer, each notebook will also have another version with all cells ran and exercises filled in\n",
    "\n",
    "\n",
    "- All files and documents are always available online in [this repo](https://github.com/stefan-niculae/viz-workshop)\n",
    "- Video recordings of the workshop may come in the future"
   ]
  },
  {
   "cell_type": "markdown",
   "metadata": {},
   "source": [
    "## Presenter relevance\n",
    "\n",
    "During years of experience in the industry and academia, these are the concepts the presenter and his colleagues use most frequently, found most useful and keep coming back to."
   ]
  }
 ],
 "metadata": {
  "kernelspec": {
   "display_name": "Python 3",
   "language": "python",
   "name": "python3"
  },
  "language_info": {
   "codemirror_mode": {
    "name": "ipython",
    "version": 3
   },
   "file_extension": ".py",
   "mimetype": "text/x-python",
   "name": "python",
   "nbconvert_exporter": "python",
   "pygments_lexer": "ipython3",
   "version": "3.7.0"
  }
 },
 "nbformat": 4,
 "nbformat_minor": 2
}
