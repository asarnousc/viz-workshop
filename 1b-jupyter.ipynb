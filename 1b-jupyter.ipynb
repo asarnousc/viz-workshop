{
 "cells": [
  {
   "cell_type": "markdown",
   "metadata": {},
   "source": [
    "## 1b. Jupyter"
   ]
  },
  {
   "cell_type": "markdown",
   "metadata": {},
   "source": [
    "Jupyter is an execution environment for Python, a web-based REPL (Read Eval Print Loop). It creates interactive documents which can be used to tell a story, walk through the exploration process, showcase both the code and its outcomes and display rich media such as images or animations."
   ]
  },
  {
   "cell_type": "markdown",
   "metadata": {},
   "source": [
    "### Table of contents\n",
    "\n",
    "- [The Jupyter Environment](#Jupyter)\n",
    " - [Navigation](#Navigation)\n",
    "     - [Keyboard Shortcuts](#Keyboard-Shortcuts)\n",
    "     - [The Interface](#Interface-Navigation)\n",
    " - [Features](#Term-Definitions)\n",
    "     - [Cells](#About-Cells)\n",
    "     - [Kernel](#About-the-Kernel)\n",
    "     - [Notebook](#About-the-Notebook)\n",
    " - [Code Cells](#Code-Cells)\n",
    "     - [Execution History](#Execution-History)\n",
    "     - [Outputting Tricks](#Outputting-Tricks)\n",
    " - [Text Cells](#Text-Markup)\n",
    "   - [Markdown](#Markdown)\n",
    "   - [Latex](#Latex)\n",
    "   - [HTML](#HTML)\n",
    " - [Magics](#Magics)\n",
    "   - [Timing](#Timing)\n",
    "   - [Auto-reloading](#Auto-reloading)\n",
    " - [Shell Integration](#Shell-Integration)\n",
    " - [Interactivity](#Interactivity)\n",
    "\n",
    "\n",
    "- [Topics Not Covered](#Topics-Not-Covered)\n",
    "- [Further Reading](#Further-Reading)"
   ]
  },
  {
   "cell_type": "markdown",
   "metadata": {},
   "source": [
    "### Term Definitions"
   ]
  },
  {
   "cell_type": "markdown",
   "metadata": {},
   "source": [
    "A **notebook** is a text file, with the extension `ipynb`. It is composed of multiple cells, and can be executed inside a kernel.\n",
    "\n",
    "A **cell** is a container that stores either code or text. \n",
    "\n",
    "The **kernel** is the Python engine in which code is executed. It stores variable values, imported libraries and other environment state data. A notebook is the document containing the pieces of code, while the kernel gives it ability to run it. There is always at most one kernel per notebook."
   ]
  },
  {
   "cell_type": "markdown",
   "metadata": {},
   "source": [
    "**👾 Trivia**: Jupyter supports more than just Python, in fact, its name comes from the original three languages: Julia, Python and R. The extension name comes from Jupyter's precursor, [IPython](https://ipython.org), and.. the word _notebook_."
   ]
  },
  {
   "cell_type": "markdown",
   "metadata": {},
   "source": [
    "_Note_: the cloud version (Colaboratory) supports a restricted subset of these features. The interface is also stripped down. More restrictions (time, persistence, memory) apply."
   ]
  },
  {
   "cell_type": "markdown",
   "metadata": {},
   "source": [
    "### Keyboard Shortcuts"
   ]
  },
  {
   "cell_type": "markdown",
   "metadata": {},
   "source": [
    "Jupyter has a lot of functionality, this workshop presents just the most useful commands and concepts:"
   ]
  },
  {
   "cell_type": "markdown",
   "metadata": {},
   "source": [
    " - **`ctrl+s`** save\n",
    "\n",
    "Running:\n",
    " - **`ctrl+enter`** run cell\n",
    " - **`shift+enter`** run cell and advance to next one\n",
    " - **`ii`** interupt kernel\n",
    " - **`00`** restart kernel\n",
    " - [Edit] > [Clear all outputs]\n",
    "\n",
    "Cell operations:\n",
    "- **`esc`** exit out of edit mode\n",
    "- **`z`** undo\n",
    "- **`shift-z`** redo\n",
    "- **`x`** cut (use as delete)\n",
    "- **`c`** copy\n",
    "- **`v`** paste\n",
    "- **`a`** insert a new cell above\n",
    "- **`b`** insert a new cell below\n",
    "- **`shift+m`** merge cells\n",
    "- **`ctrl + shift + -`** split a cell at the current cursor position (in edit mode)\n",
    "\n",
    "Change cell type:\n",
    "- **`m`** to text/markdown\n",
    "- **`y`** to code (default when creating a cell)\n",
    "- **`1`** through **`6`** to header 1 through 6"
   ]
  },
  {
   "cell_type": "code",
   "execution_count": null,
   "metadata": {},
   "outputs": [],
   "source": [
    "x = 2"
   ]
  },
  {
   "cell_type": "code",
   "execution_count": null,
   "metadata": {},
   "outputs": [],
   "source": [
    "2 + 3"
   ]
  },
  {
   "cell_type": "code",
   "execution_count": null,
   "metadata": {},
   "outputs": [],
   "source": [
    "import time\n",
    "time.sleep(2)"
   ]
  },
  {
   "cell_type": "markdown",
   "metadata": {},
   "source": [
    "### About Cells\n",
    " - Code cells can be executed in the current state of the kernel and output its result. \n",
    " - If the cell's output is `None`, nothing is displayed.\n",
    " - Text cells can be \"executed\" (same shortcuts) to render their formatting.\n",
    "\n",
    "\n",
    " - A cell that has not been executed has a `[ ]` before it\n",
    " - After execution, each cell is given an index, turning `[ ]` into `[n]`, where `n` is the cell's execution order\n",
    " - A cell currently in execution has `[*]` before it. Multiple cells can be queued for execution, all having `[*]` before them.\n",
    "\n",
    "\n",
    " - While writing code, `tab` completion is available.\n",
    " - When calling a function, after the opening bracket `shift+tab` shows its docstring (arguments, default values, examples, etc).\n",
    " \n",
    " \n",
    " - Multiple cells can be selected (using `shift`), and cell operations are then performed on all of them.\n",
    " - When multiple cells are being scheduled to be executed, they will run in order. Execution stops when one of them raises an error.\n",
    " - The [Run] menu (at the top) contains options to run all cells above/below selected one.\n",
    " - More Vim-inspired shortcuts are available for navigation, such as **`j`** and **`k`**."
   ]
  },
  {
   "cell_type": "markdown",
   "metadata": {},
   "source": [
    "### About the Kernel\n",
    " - A new kernel is automatically started when you open a notebook.\n",
    " - The kernel can be shut down or restarted. \n",
    " - All cell contents persist beyond kernels, but variable are given values only in the context of a running kernel.\n",
    " \n",
    " \n",
    " - While a cell is running, the kernel is _working_, indicated by ⬤ in the top right corner.\n",
    " - After finishing execution, the kernel is _idle, indicated by ◯ in the top right corner.\n",
    " - The kernel can be interrupted if it the kernel is stuck, or processing takes too long. Variables are intact, just the cell that was running has been stopped.\n",
    " \n",
    " \n",
    " - To clean-up the results from all cells, use [Kernel] > [Restart Kernel and Clear Outputs]\n",
    " - To re-execute the entire notebook, use [Kernel] > [Restart Kernel and Run All Cells]"
   ]
  },
  {
   "cell_type": "markdown",
   "metadata": {},
   "source": [
    "### About the Notebook"
   ]
  },
  {
   "cell_type": "markdown",
   "metadata": {},
   "source": [
    "- Every 120 seconds, Jupyter will autosave your notebook into the `.ipynb_checkpoints` folder. It stores a copy of your current `.ipynb` file, without altering your current one (and with no running kernel). It can be reverted using [File] > [Revert Notebook to Checkpoint].\n",
    "- Inline images can drastically increase the size of a notebook. \n",
    "- Code platforms (such as Github, Bitbucket, Gitlab, Atlassian's Git Workflow) render notebooks natively.\n",
    "- [NBViewer](https://nbviewer.jupyter.org) is an online tool which allows you to visualize any notebook without having to start an instance of Jupyter locally."
   ]
  },
  {
   "cell_type": "markdown",
   "metadata": {},
   "source": [
    "**ℹ️ Tip**: restarting the kernel and running all cells insures that you have no stale variables, and it is ready to share."
   ]
  },
  {
   "cell_type": "markdown",
   "metadata": {},
   "source": [
    "### Interface Interaction\n",
    " - Navigate folders and files in the [File Browser] (on the sidebar to the right, or **`ctrl+b`**).\n",
    " - Switch between open notebooks using the tabs at the top.\n",
    " - Select multiple, move files using drag-n-drop.\n",
    " - Download/upload using drag-n-drop to/from your system's file browser.\n",
    " - Split the screen and view multiple files at once by arranging them through drag-n-drop.\n",
    " - As in any Unix system, notebooks can be safely renamed without affecting their current state.\n",
    " \n",
    " - [View] > [Show line numbers] to more easily track error lines.\n",
    " - Each cell's output, and its input can be collapsed by pressing the blue bar to the left of it.\n",
    " \n",
    " \n",
    " - Create a new file by opening the _File Browser_ and clicking the plus (**`+`**) sign.\n",
    " - Besides Python kernels, it also gives the option of creating _Terminal_ instances for running system commands.\n",
    " \n",
    " \n",
    " - Search all commands in the [Commands Palete] (on the sidebar to the right).\n",
    " - All commands presented above are also available in the menu bar at the top (and many more).\n",
    " \n",
    " - Jupyter supports many kinds of useful data types. Some samples are provided in the `example_files` folder:\n",
    "  - plain text (`.txt`) \n",
    "  - images (`.png`, `.jpg`, etc)\n",
    "  - JSON files (`.json`), non-editable but allows collapsing and expanding nodes\n",
    "  - comma-separated-values (`.csv`), big files can be navigated smoothly\n",
    "  - markdown files (`.md`) with a lightweight rendition of the formatting\n",
    "  - Python source files (`.py`), with syntax highlighting\n",
    "  - other languages such as HTML, with syntax highlighting"
   ]
  },
  {
   "cell_type": "markdown",
   "metadata": {},
   "source": [
    "### Code Cells"
   ]
  },
  {
   "cell_type": "markdown",
   "metadata": {},
   "source": [
    "#### Execution History"
   ]
  },
  {
   "cell_type": "markdown",
   "metadata": {},
   "source": [
    "`In` and `Out` are special variables which automatically store the input and output for each executed cell (in order their order of execution)."
   ]
  },
  {
   "cell_type": "code",
   "execution_count": null,
   "metadata": {},
   "outputs": [],
   "source": [
    "In[2]  # the content of tenth executed cell, as a string"
   ]
  },
  {
   "cell_type": "code",
   "execution_count": null,
   "metadata": {},
   "outputs": [],
   "source": [
    "Out[2]  # the output of the tenth executed cell, if it had any"
   ]
  },
  {
   "cell_type": "markdown",
   "metadata": {},
   "source": [
    "There are also some shortcuts:"
   ]
  },
  {
   "cell_type": "code",
   "execution_count": null,
   "metadata": {},
   "outputs": [],
   "source": [
    "_2  # as a shortcut for Out[10]"
   ]
  },
  {
   "cell_type": "code",
   "execution_count": null,
   "metadata": {},
   "outputs": [],
   "source": [
    "_  # output of the latest ran cell"
   ]
  },
  {
   "cell_type": "code",
   "execution_count": null,
   "metadata": {},
   "outputs": [],
   "source": [
    "__  # output of the cell ran before that"
   ]
  },
  {
   "cell_type": "markdown",
   "metadata": {},
   "source": [
    "**👾 Trivia**: `__` is called a _dunder_ (for double under) in Python"
   ]
  },
  {
   "cell_type": "markdown",
   "metadata": {},
   "source": [
    "#### Outputting Tricks"
   ]
  },
  {
   "cell_type": "markdown",
   "metadata": {},
   "source": [
    "You can combine the assignment of a variable and display into a single cell"
   ]
  },
  {
   "cell_type": "code",
   "execution_count": null,
   "metadata": {},
   "outputs": [],
   "source": [
    "a = 1 + 2"
   ]
  },
  {
   "cell_type": "code",
   "execution_count": null,
   "metadata": {},
   "outputs": [],
   "source": [
    "a"
   ]
  },
  {
   "cell_type": "markdown",
   "metadata": {},
   "source": [
    "Because the output of a cell is the result of the last expression in it"
   ]
  },
  {
   "cell_type": "code",
   "execution_count": null,
   "metadata": {},
   "outputs": [],
   "source": [
    "a = 1 + 2\n",
    "a"
   ]
  },
  {
   "cell_type": "markdown",
   "metadata": {},
   "source": [
    "---"
   ]
  },
  {
   "cell_type": "markdown",
   "metadata": {},
   "source": [
    "The following cell evaluates the expression inside of it, a string, and shows its output, which is the same string:"
   ]
  },
  {
   "cell_type": "code",
   "execution_count": null,
   "metadata": {},
   "outputs": [],
   "source": [
    "'hello'"
   ]
  },
  {
   "cell_type": "markdown",
   "metadata": {},
   "source": [
    "The following cell, on the other side, evaluates the expression inside of it, the print statement, and shows its output (`None`, so nothing displayed), while also showing the console output (the string given as argument):"
   ]
  },
  {
   "cell_type": "code",
   "execution_count": null,
   "metadata": {},
   "outputs": [],
   "source": [
    "print('hello')"
   ]
  },
  {
   "cell_type": "markdown",
   "metadata": {},
   "source": [
    "To better illustrate this, the following function produces both an output (the number 24) and console output (the string):"
   ]
  },
  {
   "cell_type": "code",
   "execution_count": null,
   "metadata": {},
   "outputs": [],
   "source": [
    "def custom_print(s):\n",
    "    print(s)\n",
    "    return 24\n",
    "\n",
    "custom_print('hello')"
   ]
  },
  {
   "cell_type": "markdown",
   "metadata": {},
   "source": [
    "---"
   ]
  },
  {
   "cell_type": "markdown",
   "metadata": {},
   "source": [
    "Sometimes, we just want to run a statement for its functionality, and don't care about the returned value"
   ]
  },
  {
   "cell_type": "code",
   "execution_count": null,
   "metadata": {},
   "outputs": [],
   "source": [
    "def launch_missile():\n",
    "    print('missile launched')\n",
    "    success_odds = 0.8\n",
    "    return success_odds"
   ]
  },
  {
   "cell_type": "code",
   "execution_count": null,
   "metadata": {},
   "outputs": [],
   "source": [
    "launch_missile()"
   ]
  },
  {
   "cell_type": "markdown",
   "metadata": {},
   "source": [
    "We can either assign it to a dummy variable (conventionally `_`):"
   ]
  },
  {
   "cell_type": "code",
   "execution_count": null,
   "metadata": {},
   "outputs": [],
   "source": [
    "_ = launch_missile()"
   ]
  },
  {
   "cell_type": "markdown",
   "metadata": {},
   "source": [
    "Or terminate the current statement using `;`:"
   ]
  },
  {
   "cell_type": "code",
   "execution_count": null,
   "metadata": {},
   "outputs": [],
   "source": [
    "launch_missile();"
   ]
  },
  {
   "cell_type": "markdown",
   "metadata": {},
   "source": [
    "---"
   ]
  },
  {
   "cell_type": "markdown",
   "metadata": {},
   "source": [
    "You can change the behavior to showing more than just the last expression:"
   ]
  },
  {
   "cell_type": "code",
   "execution_count": null,
   "metadata": {},
   "outputs": [],
   "source": [
    "from IPython.core.interactiveshell import InteractiveShell\n",
    "InteractiveShell.ast_node_interactivity = 'all'"
   ]
  },
  {
   "cell_type": "code",
   "execution_count": null,
   "metadata": {},
   "outputs": [],
   "source": [
    "name = 'Tommy'"
   ]
  },
  {
   "cell_type": "code",
   "execution_count": null,
   "metadata": {},
   "outputs": [],
   "source": [
    "name[:3]\n",
    "name[-1]"
   ]
  },
  {
   "cell_type": "code",
   "execution_count": null,
   "metadata": {},
   "outputs": [],
   "source": [
    "InteractiveShell.ast_node_interactivity = 'last_expr'  # back to the default"
   ]
  },
  {
   "cell_type": "markdown",
   "metadata": {},
   "source": [
    "### Text Cells"
   ]
  },
  {
   "cell_type": "markdown",
   "metadata": {},
   "source": [
    "As illustrated throughout this document, _text_ cells can contain more than just plain text"
   ]
  },
  {
   "cell_type": "markdown",
   "metadata": {},
   "source": [
    "#### Markdown\n",
    "\n",
    "_Markdown_ is a lightweight markup language with plain text, intuitive formatting syntax. Though not as powerful as other markup languages (such as HTML), due to its simplicity and expressivity, it is widely used (Github readmes, Slack messages, StackOverflow posts, static site generators, project management tools)."
   ]
  },
  {
   "cell_type": "markdown",
   "metadata": {},
   "source": [
    "Double-click this cell to see the source that creates these styles.\n",
    "\n",
    "\n",
    "Text styles:\n",
    " - regular\n",
    " - **bold**\n",
    " - _italic_ \n",
    " - `code` \n",
    " - [link](https://www.example.com)\n",
    " \n",
    " \n",
    " \n",
    "> this is a quote\n",
    "\n",
    "\n",
    "block of code (text, not executable):\n",
    "```html\n",
    "<div id=\"greeting\">hello</div>\n",
    "```\n",
    "\n",
    "\n",
    "Ordered and unordered lists:\n",
    " 1. first\n",
    " 2. second\n",
    " 3. third\n",
    "   - this is\n",
    "   - a sublist\n",
    "\n",
    "Headers (1`#` thorugh 6`######`)\n",
    "\n",
    "Below is a separation line:\n",
    "\n",
    "---\n",
    "\n",
    "Below is an embedded image (note the `!` before the link):\n",
    "\n",
    "![usc logo](http://i238.photobucket.com/albums/ff58/Portergirl2311/University_of_Southern_California_s.png)\n",
    "\n",
    "You can also embedd gifs:\n",
    "\n",
    "![tommy flag](https://media.giphy.com/media/DpoZg6IWyRSsE/giphy.gif)"
   ]
  },
  {
   "cell_type": "markdown",
   "metadata": {},
   "source": [
    "**ℹ️ Tip**: remember the format for a link like this:\n",
    " - the first part is what's displayed, acts like a button thus it is surrounded by square brackets `[link]`\n",
    " - the second part is what it links to `(address.com)`"
   ]
  },
  {
   "cell_type": "markdown",
   "metadata": {},
   "source": [
    "#### Latex"
   ]
  },
  {
   "cell_type": "markdown",
   "metadata": {},
   "source": [
    "_Latex_ is the standard in scientific documents. It can be used to typeset beautiful equations such as $e^{i\\pi} + 1 = 0$"
   ]
  },
  {
   "cell_type": "markdown",
   "metadata": {},
   "source": [
    "**ℹ️ Tip**: the combination of Markdown and Latex a common one. It blends quick organization with complex snippets when needed. This makes it very useful in contexts such as note taking (and not only for STEM fields). I recommend [Typora](https://typora.io) for a standalone editor and [StackEdit](https://stackedit.io/) for a web-based editor."
   ]
  },
  {
   "cell_type": "markdown",
   "metadata": {},
   "source": [
    "#### HTML"
   ]
  },
  {
   "cell_type": "markdown",
   "metadata": {},
   "source": [
    "HTML formatting is available for more complex formatting: "
   ]
  },
  {
   "cell_type": "markdown",
   "metadata": {},
   "source": [
    "<div style=\"text-align: center; color: orange; font-size: 30px\">Hello from HTML!</div>"
   ]
  },
  {
   "cell_type": "markdown",
   "metadata": {},
   "source": [
    "You can also render it from inside code cells:"
   ]
  },
  {
   "cell_type": "code",
   "execution_count": null,
   "metadata": {},
   "outputs": [],
   "source": [
    "from IPython.display import HTML"
   ]
  },
  {
   "cell_type": "code",
   "execution_count": null,
   "metadata": {},
   "outputs": [],
   "source": [
    "HTML('<div style=\"text-align: center; color: orange; font-size: 30px\">Hello from HTML!</div>')"
   ]
  },
  {
   "cell_type": "markdown",
   "metadata": {},
   "source": [
    "Just a small example is shown in this workshop, but you can use (almost) everything from HTML in a notebook, even JS scripts:"
   ]
  },
  {
   "cell_type": "code",
   "execution_count": null,
   "metadata": {},
   "outputs": [],
   "source": [
    "HTML('''\n",
    "    alert(\"Hello from JavaScript!\")\n",
    "''')"
   ]
  },
  {
   "cell_type": "markdown",
   "metadata": {},
   "source": [
    "**💪 Exercise**: put `<script>` `</script>` tags  around the `alert` statement inside the string above and run the cell!"
   ]
  },
  {
   "cell_type": "markdown",
   "metadata": {},
   "source": [
    "### Magics"
   ]
  },
  {
   "cell_type": "markdown",
   "metadata": {},
   "source": [
    "A _magic_ is a special commands for Jupyter, which start with one `%` for line-magics and `%%` for cell-magics."
   ]
  },
  {
   "cell_type": "markdown",
   "metadata": {},
   "source": [
    "#### Timing"
   ]
  },
  {
   "cell_type": "markdown",
   "metadata": {},
   "source": [
    "Measure execution time in for logging or optimization purposes"
   ]
  },
  {
   "cell_type": "code",
   "execution_count": null,
   "metadata": {},
   "outputs": [],
   "source": [
    "from time import sleep"
   ]
  },
  {
   "cell_type": "markdown",
   "metadata": {},
   "source": [
    "Measure how long the entire cell takes to run:"
   ]
  },
  {
   "cell_type": "code",
   "execution_count": null,
   "metadata": {},
   "outputs": [],
   "source": [
    "%%time\n",
    "for i in range(3):\n",
    "    print(i)\n",
    "    sleep(.5)"
   ]
  },
  {
   "cell_type": "markdown",
   "metadata": {},
   "source": [
    "Measure how long a single line takes to run:"
   ]
  },
  {
   "cell_type": "code",
   "execution_count": null,
   "metadata": {},
   "outputs": [],
   "source": [
    "%time _=[n ** 2 for n in range(1_000_000)]"
   ]
  },
  {
   "cell_type": "code",
   "execution_count": null,
   "metadata": {},
   "outputs": [],
   "source": [
    "%time _=list(map(lambda n: n ** 2, range(1_000_000)));"
   ]
  },
  {
   "cell_type": "markdown",
   "metadata": {},
   "source": [
    "Due to external environment variations, running it again might yield different results. Doing multiple trials is more robust to such noise:"
   ]
  },
  {
   "cell_type": "code",
   "execution_count": null,
   "metadata": {},
   "outputs": [],
   "source": [
    "%timeit _=[n ** 2 for n in range(1_000_000)]"
   ]
  },
  {
   "cell_type": "code",
   "execution_count": null,
   "metadata": {},
   "outputs": [],
   "source": [
    "%timeit _=list(map(lambda n: n ** 2, range(1_000_000)))"
   ]
  },
  {
   "cell_type": "markdown",
   "metadata": {},
   "source": [
    "---"
   ]
  },
  {
   "cell_type": "markdown",
   "metadata": {},
   "source": [
    "### Interactivity"
   ]
  },
  {
   "cell_type": "markdown",
   "metadata": {},
   "source": [
    "\"Animations\" can be used by clearing the output of a cell and then filling it again:"
   ]
  },
  {
   "cell_type": "code",
   "execution_count": null,
   "metadata": {},
   "outputs": [],
   "source": [
    "from IPython.display import clear_output"
   ]
  },
  {
   "cell_type": "code",
   "execution_count": null,
   "metadata": {},
   "outputs": [],
   "source": [
    "for i in range(5):\n",
    "    clear_output()\n",
    "    print(i)\n",
    "    sleep(.5)"
   ]
  },
  {
   "cell_type": "markdown",
   "metadata": {},
   "source": [
    "---"
   ]
  },
  {
   "cell_type": "markdown",
   "metadata": {},
   "source": [
    "Besides code and text, Jupyter also supports _widgets_. They can be used as alternative input methods which also refresh on change.\n",
    "\n",
    "_Note:_ you might have to run `!jupyter labextension install @jupyter-widgets/jupyterlab-manager` and possibly re-run Jupyter (`ctrl-C, ctrl-C` and `jupyter lab`) if this shows an error."
   ]
  },
  {
   "cell_type": "code",
   "execution_count": null,
   "metadata": {},
   "outputs": [],
   "source": [
    "# import ipywidgets\n",
    "# from ipywidgets import interact"
   ]
  },
  {
   "cell_type": "code",
   "execution_count": null,
   "metadata": {},
   "outputs": [],
   "source": [
    "# def power(base, exp, negative):\n",
    "#     result = base ** exp\n",
    "#     if negative:\n",
    "#         result *= -1\n",
    "#     return round(result, 2)\n",
    "\n",
    "# interact(power, base=2.5, exp=3, negative=False);"
   ]
  },
  {
   "cell_type": "markdown",
   "metadata": {},
   "source": [
    "---"
   ]
  },
  {
   "cell_type": "markdown",
   "metadata": {},
   "source": [
    "Due to how Python modules are structured, this trick is needed in order to import from nested folders:"
   ]
  },
  {
   "cell_type": "code",
   "execution_count": null,
   "metadata": {},
   "outputs": [],
   "source": [
    "from sys import path\n",
    "path.append('..')  # add the current root to the list of directories where to look for packages"
   ]
  },
  {
   "cell_type": "code",
   "execution_count": null,
   "metadata": {},
   "outputs": [],
   "source": [
    "from example_files.lucky import lucky_number"
   ]
  },
  {
   "cell_type": "code",
   "execution_count": null,
   "metadata": {},
   "outputs": [],
   "source": [
    "lucky_number()"
   ]
  },
  {
   "cell_type": "markdown",
   "metadata": {},
   "source": [
    "#### Auto-reloading"
   ]
  },
  {
   "cell_type": "markdown",
   "metadata": {},
   "source": [
    "Continously scan an external file and re-import it upon changes:"
   ]
  },
  {
   "cell_type": "code",
   "execution_count": null,
   "metadata": {},
   "outputs": [],
   "source": [
    "%load_ext autoreload\n",
    "%autoreload 2\n",
    "# first load the extension, then activate it"
   ]
  },
  {
   "cell_type": "code",
   "execution_count": null,
   "metadata": {},
   "outputs": [],
   "source": [
    "from example_files.lucky import lucky_number"
   ]
  },
  {
   "cell_type": "code",
   "execution_count": null,
   "metadata": {},
   "outputs": [],
   "source": [
    "lucky_number()"
   ]
  },
  {
   "cell_type": "markdown",
   "metadata": {},
   "source": [
    "**💪 Exercise**: Change the number in `lucky.py`, save the file and then run the cell above again."
   ]
  },
  {
   "cell_type": "markdown",
   "metadata": {},
   "source": [
    "---"
   ]
  },
  {
   "cell_type": "markdown",
   "metadata": {},
   "source": [
    "Pass variables between notebooks:\n",
    " - `%store x` to pass the `x` variable from the source notebook\n",
    " - `%store -r x` to assign the passed value to the variable `x` in the destination notebook"
   ]
  },
  {
   "cell_type": "markdown",
   "metadata": {},
   "source": [
    "**ℹ️ Tip**: Jupyter is meant to be a complement for your IDE, not a replacement. The bulk of your processing (functions, classes, etc) should be organized in `.py` files, while notebooks should be used for importing public functions/classes, running them and inspecting the results."
   ]
  },
  {
   "cell_type": "markdown",
   "metadata": {},
   "source": [
    "### Shell Integration"
   ]
  },
  {
   "cell_type": "markdown",
   "metadata": {},
   "source": [
    "Direct interaction with the shell can be achieved by running system commands prepended with a bang (`!`):"
   ]
  },
  {
   "cell_type": "code",
   "execution_count": null,
   "metadata": {},
   "outputs": [],
   "source": [
    "!ls"
   ]
  },
  {
   "cell_type": "code",
   "execution_count": null,
   "metadata": {},
   "outputs": [],
   "source": [
    "!echo 'Hello from shell!'"
   ]
  },
  {
   "cell_type": "markdown",
   "metadata": {},
   "source": [
    "Command outputs can be assigned to Python variables"
   ]
  },
  {
   "cell_type": "code",
   "execution_count": null,
   "metadata": {},
   "outputs": [],
   "source": [
    "n_files = !ls | wc -l"
   ]
  },
  {
   "cell_type": "code",
   "execution_count": null,
   "metadata": {},
   "outputs": [],
   "source": [
    "n_files  # does not always come in the desired format"
   ]
  },
  {
   "cell_type": "code",
   "execution_count": null,
   "metadata": {},
   "outputs": [],
   "source": [
    "int(n_files[0].strip())  # but can be easily converted"
   ]
  },
  {
   "cell_type": "markdown",
   "metadata": {},
   "source": [
    "A frequent usecase is installing packages without leaving the notebook:"
   ]
  },
  {
   "cell_type": "code",
   "execution_count": null,
   "metadata": {},
   "outputs": [],
   "source": [
    "!pip install --upgrade pip"
   ]
  },
  {
   "cell_type": "markdown",
   "metadata": {},
   "source": [
    "---"
   ]
  },
  {
   "cell_type": "markdown",
   "metadata": {},
   "source": [
    "**ℹ️ Tip**: you might see other people/tutorials using Jupyter **Notebook**. The first version of the Jupyter environment was called _Jupyter Notebook_, which has extra functionality. We are now using the latest version, called _Jupyter Lab_. The files both versions operate on are called _Jupyter notebooks_ (or _notebooks_ for short). Extra functionality in Jupyter Lab includes tabs, split view, cell operations across notebooks, support for multiple kinds of files, making it a more capable and efficient environment."
   ]
  },
  {
   "cell_type": "markdown",
   "metadata": {},
   "source": [
    "## Topics left uncovered\n",
    "\n",
    "- [Jupyter extensions](https://jupyterlab.readthedocs.io/en/stable/user/extensions.html)\n",
    "- turning notebooks into presentations"
   ]
  },
  {
   "cell_type": "markdown",
   "metadata": {},
   "source": [
    "## Further Reading\n",
    "These are some of the resources that cover the important information and do so efficiently:\n",
    "\n",
    " - Jupyter: \n",
    "   - [built-in magics](https://ipython.readthedocs.io/en/stable/interactive/magics.html)\n",
    "   - [built-in widgets](https://ipywidgets.readthedocs.io/en/stable/examples/Widget%20List.html)\n",
    "   - [gallery of interesting notebooks](https://github.com/jupyter/jupyter/wiki/A-gallery-of-interesting-Jupyter-Notebooks#data-visualization-and-plotting)\n",
    "   - [IPython options](https://ipython.readthedocs.io/en/stable/config/options/terminal.html)\n",
    "   - [list of tips and tricks](https://www.dataquest.io/blog/jupyter-notebook-tips-tricks-shortcuts/)\n",
    "   - [contrib extensions](https://github.com/ipython-contrib/jupyter_contrib_nbextensions)\n",
    " - Latex: [tutorial series](https://www.sharelatex.com/blog/latex-guides/beginners-tutorial.html)\n",
    " - Markdown: [GFM guide](https://guides.github.com/features/mastering-markdown/)\n",
    " - HTML: [interactive tutorial](https://www.codecademy.com/learn/learn-html)\n",
    " - JavaScript: [MDN guide](https://developer.mozilla.org/en-US/docs/Web/JavaScript/Guide)\n",
    " - Command line: [interactive tutorial](https://www.codecademy.com/learn/learn-the-command-line)"
   ]
  }
 ],
 "metadata": {
  "kernelspec": {
   "display_name": "Python 3",
   "language": "python",
   "name": "python3"
  },
  "language_info": {
   "codemirror_mode": {
    "name": "ipython",
    "version": 3
   },
   "file_extension": ".py",
   "mimetype": "text/x-python",
   "name": "python",
   "nbconvert_exporter": "python",
   "pygments_lexer": "ipython3",
   "version": "3.7.0"
  }
 },
 "nbformat": 4,
 "nbformat_minor": 2
}
