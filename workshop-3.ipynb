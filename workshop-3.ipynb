{
 "cells": [
  {
   "cell_type": "markdown",
   "metadata": {},
   "source": [
    "# Plotting Basics"
   ]
  },
  {
   "cell_type": "markdown",
   "metadata": {},
   "source": [
    "A plot is a graphical representation of a data set, showing the relationship between two or more variables. They are useful because we can quickly derive an understanding which would not come from raw lists of values. Inspecting a chart can make large amounts of information easy to digest and interpret."
   ]
  },
  {
   "cell_type": "markdown",
   "metadata": {},
   "source": [
    "The main purpose of a chart is to convey information clearly and accurately. Aesthetically pleasing charts often make consumption more enjoyable and can help deliver the message more effectively. But they carry meaning — never should clarity be sacrificed for visual embelishments."
   ]
  },
  {
   "cell_type": "markdown",
   "metadata": {},
   "source": [
    "Always try to keep your charts simple. Allow the audience to focus on the essential information, without overwhelming them with unnecessary noise.\n",
    "\n",
    "> Perfection is achieved not when there is nothing more to add, but when there is nothing left to take away"
   ]
  },
  {
   "cell_type": "markdown",
   "metadata": {},
   "source": [
    "---"
   ]
  },
  {
   "cell_type": "markdown",
   "metadata": {},
   "source": [
    "Semantic differences:\n",
    " - **graph**: shows a mathematical function (a line, usually continuous)\n",
    " - **plot**: observations marked on a coordinate system (points, usually continuous x/y axes)\n",
    " - **chart**: graphic representation of data (e.g.: bars, axes usually discrete)\n",
    " - **diagram**: an illustrative figure\n",
    " \n",
    "but the terms are mostly interchangable."
   ]
  },
  {
   "cell_type": "markdown",
   "metadata": {},
   "source": [
    "---"
   ]
  },
  {
   "cell_type": "markdown",
   "metadata": {},
   "source": [
    "### Table of contents\n",
    "\n",
    "\n",
    "- Matplotlib\n",
    " - Fundamental Charts\n",
    "   - Line\n",
    "   - Bar\n",
    "   - Scatter\n",
    "   - No Pie\n",
    " - Options\n",
    "   - Line Properties\n",
    "   - Marker Properties\n",
    "   - Figure Properties\n",
    "   - Axes Limits\n",
    "   - Figure Size and Aspect Ratio\n",
    "   - Derivative Chart Types\n",
    " - Multiple Plots\n",
    "   - Same Figure\n",
    "   - Multiple Figures\n",
    "   - Subplots\n",
    "   - Twin Axes\n",
    "\n",
    "\n",
    "\n",
    "- Seaborn\n",
    "  - Relationship Plots\n",
    "    - Line\n",
    "    - Scatter\n",
    "  - Categorical Plots\n",
    "    - Swarmplots\n",
    "    - Boxplots\n",
    "    - Violinplots\n",
    "  - Distribution Plots\n",
    "    - Histograms\n",
    "    - KDE\n",
    "    - Bivariate\n",
    "  - Multiple Plots\n",
    "    - Plot Grids\n",
    "    - Jointplots\n",
    "\n",
    "\n",
    "\n",
    "- Pandas\n",
    "  - Plotting Shortcuts\n",
    "  - Table Styling\n",
    "\n",
    "\n",
    "\n",
    "\n",
    "- Other Packages\n",
    "  - Venn Diagrams\n",
    "  - Joyplots\n",
    "  - Network Graphs\n",
    "  - More Types"
   ]
  },
  {
   "cell_type": "markdown",
   "metadata": {},
   "source": [
    "---"
   ]
  },
  {
   "cell_type": "code",
   "execution_count": null,
   "metadata": {},
   "outputs": [],
   "source": [
    "import numpy as np # we'll use numpy to generate dummy data"
   ]
  },
  {
   "cell_type": "markdown",
   "metadata": {},
   "source": [
    "**ℹ️ Tip**: packages often make use of other packages. Sometimes the developer does not keep them updated, leading to deprecation warnings. Since they are intended for the package's maintainer, there is nothing you can do to solve them. You can all such warnings (even ones caused by you) like this:"
   ]
  },
  {
   "cell_type": "code",
   "execution_count": null,
   "metadata": {},
   "outputs": [],
   "source": [
    "import warnings\n",
    "warnings.simplefilter('ignore', FutureWarning)"
   ]
  },
  {
   "cell_type": "markdown",
   "metadata": {},
   "source": [
    "## Matplotlib"
   ]
  },
  {
   "cell_type": "markdown",
   "metadata": {},
   "source": [
    "Matplotlib is the de-facto Python library for creating attractive charts. It has a friendly interface, making basic plotting simple but also allowing power users to fully customize plots."
   ]
  },
  {
   "cell_type": "markdown",
   "metadata": {},
   "source": [
    "**👾 Trivia**: the package's name comes from _MATLAB-style plotting library_. This is because the syntax and functionality was initially heavily inspired by MATLAB's `plot` command."
   ]
  },
  {
   "cell_type": "code",
   "execution_count": null,
   "metadata": {},
   "outputs": [],
   "source": [
    "import matplotlib.pyplot as plt\n",
    "\n",
    "# magic to display in between cells\n",
    "%matplotlib inline"
   ]
  },
  {
   "cell_type": "markdown",
   "metadata": {},
   "source": [
    "**ℹ️ Tip**: increase the DPI of figures for crispier charts (but larger image size):"
   ]
  },
  {
   "cell_type": "code",
   "execution_count": null,
   "metadata": {},
   "outputs": [],
   "source": [
    "import matplotlib\n",
    "matplotlib.rcParams['figure.dpi'] = 100\n",
    "%config InlineBackend.figure_format = 'retina'"
   ]
  },
  {
   "cell_type": "markdown",
   "metadata": {},
   "source": [
    "---"
   ]
  },
  {
   "cell_type": "markdown",
   "metadata": {},
   "source": [
    "Plot some values:"
   ]
  },
  {
   "cell_type": "code",
   "execution_count": null,
   "metadata": {},
   "outputs": [],
   "source": [
    "plt.plot([1, 5, 4, 8]);"
   ]
  },
  {
   "cell_type": "markdown",
   "metadata": {},
   "source": [
    "**ℹ️ Tip**: In other environments, it'd be required to call `plt.show()` in order to display the chart, but thanks to the `%matplotlib inline` magic, that is no longer needed. For cells that display multiple charts, `plt.show()` still has to be called after each chart. Also we are using the `;` trick to supress the output, which is just the memory address of a matplotlib object."
   ]
  },
  {
   "cell_type": "markdown",
   "metadata": {},
   "source": [
    "Provide both axes values:"
   ]
  },
  {
   "cell_type": "code",
   "execution_count": null,
   "metadata": {},
   "outputs": [],
   "source": [
    "x = 1, 2, 4\n",
    "y = 5, 4, 7"
   ]
  },
  {
   "cell_type": "code",
   "execution_count": null,
   "metadata": {},
   "outputs": [],
   "source": [
    "plt.plot(x, y);"
   ]
  },
  {
   "cell_type": "markdown",
   "metadata": {},
   "source": [
    "### Fundamental Charts"
   ]
  },
  {
   "cell_type": "markdown",
   "metadata": {},
   "source": [
    "How and when to use the various types of basic charts"
   ]
  },
  {
   "cell_type": "markdown",
   "metadata": {},
   "source": [
    "#### Line"
   ]
  },
  {
   "cell_type": "markdown",
   "metadata": {},
   "source": [
    "Line charts display information as a series of data points connected by straight lines.  It is used to visualize a trend in data over a sequential variable, such chronologically. The horizontal axis is a (discretized) continuous variable and the vertical axis represents a measured value."
   ]
  },
  {
   "cell_type": "code",
   "execution_count": null,
   "metadata": {},
   "outputs": [],
   "source": [
    "years = [2015, 2016, 2017, 2018, 2019, 2020]\n",
    "price = [  70,   72,   79,   80,   85,   77]"
   ]
  },
  {
   "cell_type": "code",
   "execution_count": null,
   "metadata": {},
   "outputs": [],
   "source": [
    "plt.plot(years, price);"
   ]
  },
  {
   "cell_type": "markdown",
   "metadata": {},
   "source": [
    "#### Bar"
   ]
  },
  {
   "cell_type": "markdown",
   "metadata": {},
   "source": [
    "Bar charts present categorical data with bars of lengths proportional to the variable they represent. It is used to compare discretely-indexed values. The horizontal axis shows a discrete variable and the vertical axis represents a measured value."
   ]
  },
  {
   "cell_type": "code",
   "execution_count": null,
   "metadata": {},
   "outputs": [],
   "source": [
    "companies = ['Stark Ind.', 'Wayne Ent.', 'Lexcorp', 'Oscorp', 'ACME']\n",
    "valuation = [31, 27, 21, 19, 17]"
   ]
  },
  {
   "cell_type": "code",
   "execution_count": null,
   "metadata": {},
   "outputs": [],
   "source": [
    "plt.bar(companies, valuation);"
   ]
  },
  {
   "cell_type": "markdown",
   "metadata": {},
   "source": [
    "**ℹ️ Tip**: unless there is a specific reason not to, order data points"
   ]
  },
  {
   "cell_type": "markdown",
   "metadata": {},
   "source": [
    "#### Scatter"
   ]
  },
  {
   "cell_type": "markdown",
   "metadata": {},
   "source": [
    "A scatter plot displays values for two variables as a collection of points. It is used to identify the relationship between two variables. The position of each point is by one variable on the horizontal axis and the other variable on the vertical axis."
   ]
  },
  {
   "cell_type": "code",
   "execution_count": null,
   "metadata": {},
   "outputs": [],
   "source": [
    "height = [146, 152, 161, 164, 166, 171, 174, 178, 185, 195]\n",
    "weight = [ 54,  59,  79,  75,  73,  82,  85,  84,  92,  94]"
   ]
  },
  {
   "cell_type": "code",
   "execution_count": null,
   "metadata": {},
   "outputs": [],
   "source": [
    "plt.scatter(weight, height);"
   ]
  },
  {
   "cell_type": "markdown",
   "metadata": {},
   "source": [
    "#### No Pie"
   ]
  },
  {
   "cell_type": "markdown",
   "metadata": {},
   "source": [
    "Pie charts appear deceitfuly friendly, but in reality, the data can almost always be presented in a better format. The human eye has evolved to be able to compare linear distances. It is difficult to tell the difference between angles, especially when precision is important."
   ]
  },
  {
   "cell_type": "code",
   "execution_count": null,
   "metadata": {},
   "outputs": [],
   "source": [
    "plt.pie(valuation, labels=companies)\n",
    "plt.gca().set_aspect('equal')"
   ]
  },
  {
   "cell_type": "markdown",
   "metadata": {},
   "source": [
    "Whichone is larger, _ACME_ or _Lexcorp_? As shown before, the data can be much more efficiently presented in the form of a bar chart. Even for such few data points, angular distances are hard to interpret. The only time pie charts can be efficient is when you have very very few slices:"
   ]
  },
  {
   "cell_type": "code",
   "execution_count": null,
   "metadata": {},
   "outputs": [],
   "source": [
    "plt.pie([.73, .27], labels=['Female', 'Male'])\n",
    "plt.gca().set_aspect('equal')"
   ]
  },
  {
   "cell_type": "markdown",
   "metadata": {},
   "source": [
    "Even in this case, just showing the single number is more effective: _73% Female_. \n",
    "\n",
    "**AVOID PIE CHARTS!**"
   ]
  },
  {
   "cell_type": "markdown",
   "metadata": {},
   "source": [
    "**ℹ️ Tip**: area charts, in general, are less efficient, because it is harder to compare areas than lengths. We usually underestimate the size of bigger shapes and overestimate the size of the smaller ones, because we instinctively judge the lengths or widths and not their areas."
   ]
  },
  {
   "cell_type": "markdown",
   "metadata": {},
   "source": [
    "### Options"
   ]
  },
  {
   "cell_type": "markdown",
   "metadata": {},
   "source": [
    "Matplotlib features a wealth of customization options, which allow you to draw plots just the way you need them. All of the options in the following sub-sections can be combined together."
   ]
  },
  {
   "cell_type": "markdown",
   "metadata": {},
   "source": [
    "#### Line Properties"
   ]
  },
  {
   "cell_type": "markdown",
   "metadata": {},
   "source": [
    "Common line (trace) options:"
   ]
  },
  {
   "cell_type": "code",
   "execution_count": null,
   "metadata": {},
   "outputs": [],
   "source": [
    "x = np.linspace(-np.pi, np.pi, num=50)\n",
    "y = np.sin(x)\n",
    "\n",
    "plt.plot(\n",
    "    x,\n",
    "    y,\n",
    "\n",
    "    color='C3',\n",
    "    linestyle='--',\n",
    "    linewidth=5,\n",
    ");"
   ]
  },
  {
   "cell_type": "markdown",
   "metadata": {},
   "source": [
    "Options can also be quickly given in short-form:"
   ]
  },
  {
   "cell_type": "code",
   "execution_count": null,
   "metadata": {},
   "outputs": [],
   "source": [
    "plt.plot([3, 1, 6], 'g--', lw=3);  # green, dashed line, width of 3"
   ]
  },
  {
   "cell_type": "markdown",
   "metadata": {},
   "source": [
    "Default color palette:"
   ]
  },
  {
   "cell_type": "markdown",
   "metadata": {},
   "source": [
    "\n",
    "![pic](https://i.imgur.com/aGT8APH.png)"
   ]
  },
  {
   "cell_type": "markdown",
   "metadata": {},
   "source": [
    "**👾 Trivia**: the default color palette is designed to both readable, pleasing and have distinctive colors. It was originally developed at [Tableau](https://www.tableau.com), a powerful standalone data visualization suite. You can find out more about the choice of default style in Matplotlib [here](https://www.youtube.com/watch?v=xAoljeRJ3lU)."
   ]
  },
  {
   "cell_type": "markdown",
   "metadata": {},
   "source": [
    "#### Marker Properties"
   ]
  },
  {
   "cell_type": "markdown",
   "metadata": {},
   "source": [
    "Common marker (points) options. Every property can be constant, the same for all points (like `alpha`, `marker` or `edgecolor` below) or per-point (like `s` or `color` below):"
   ]
  },
  {
   "cell_type": "code",
   "execution_count": null,
   "metadata": {},
   "outputs": [],
   "source": [
    "n_points = 20\n",
    "plt.scatter(\n",
    "    x=np.random.randn(n_points), \n",
    "    y=np.random.randn(n_points), \n",
    "    \n",
    "    s=np.random.uniform(100, 1_000, n_points), # size\n",
    "    color=np.random.choice(['C0', 'C1'], n_points),\n",
    "    \n",
    "    alpha=.3,  # transparency\n",
    "    marker='p',  # pentagon\n",
    "    edgecolor='gray',\n",
    ");"
   ]
  },
  {
   "cell_type": "markdown",
   "metadata": {},
   "source": [
    "**ℹ️ Tip**: markers can also be displayed for line plots. See available [marker shapes](https://matplotlib.org/api/markers_api.html)."
   ]
  },
  {
   "cell_type": "markdown",
   "metadata": {},
   "source": [
    "**👾 Trivia**: both the American and British spellings of `gray`/`grey`. XKCD (the web-comic maker) ran a survey to see what labels do people assign to various colors. Read about the [results](https://blog.xkcd.com/2010/05/03/color-survey-results/) or explore them in this [interactive visualization](https://colors.luminoso.com)."
   ]
  },
  {
   "cell_type": "markdown",
   "metadata": {},
   "source": [
    "#### Figure Properties"
   ]
  },
  {
   "cell_type": "markdown",
   "metadata": {},
   "source": [
    "Nearly every element of the chart can be customized:\n",
    "\n",
    "![pic](https://matplotlib.org/_images/anatomy.png)"
   ]
  },
  {
   "cell_type": "markdown",
   "metadata": {},
   "source": [
    "**ℹ️ Tip**: refer to the [Parts of a Figure](https://matplotlib.org/tutorials/introductory/usage.html#parts-of-a-figure) for more detailed descriptions about each part of the figure."
   ]
  },
  {
   "cell_type": "code",
   "execution_count": null,
   "metadata": {},
   "outputs": [],
   "source": [
    "plt.plot([2, 1450, 18400, 5700, 9000],\n",
    "         label='Line name')\n",
    "\n",
    "plt.title('Figure Title')\n",
    "plt.legend(title='Legend title', loc='lower right')\n",
    "\n",
    "plt.xlabel('X-axis label')\n",
    "plt.ylabel('Y-axis label')\n",
    "\n",
    "plt.grid(alpha=.25)\n",
    "plt.gca().set_yscale('log')\n",
    "\n",
    "plt.gca().set_xticklabels([f'{x:.0%}' for x in plt.gca().get_xticks()], rotation=45);"
   ]
  },
  {
   "cell_type": "markdown",
   "metadata": {},
   "source": [
    "**ℹ️ Tip**: by default, the legend is placed in the location with the most available whitespace. Manually place it (even outside of the figure) with `ax.legend(bbox_to_anchor=(1, 1.2))`, where `(1, 1.2)` is the top-left coordinate of the legend box (in terms of figure width and height, with `(0, 0)` being bottom left)."
   ]
  },
  {
   "cell_type": "markdown",
   "metadata": {},
   "source": [
    "**ℹ️ Tip**: aim for a high [ink-to-data ratio](https://infovis-wiki.net/wiki/Data-Ink_Ratio), avoid over-encumbering the chart with too many elements."
   ]
  },
  {
   "cell_type": "markdown",
   "metadata": {},
   "source": [
    "**ℹ️ Tip**: don't let the audience guess what the data represents. Annotate charts with a title and axis labels at the least. If a person randomly opens the book and lands on your chart, they should be able to understand what's going on. If possible, add a short description and an accompanying conclusion.\n",
    "\n",
    "**ALWAYS PROVIDE LABELS!**"
   ]
  },
  {
   "cell_type": "markdown",
   "metadata": {},
   "source": [
    "---"
   ]
  },
  {
   "cell_type": "markdown",
   "metadata": {},
   "source": [
    "Remove all spines and ticks:"
   ]
  },
  {
   "cell_type": "code",
   "execution_count": null,
   "metadata": {},
   "outputs": [],
   "source": [
    "plt.plot([1, 5, 4, 8])\n",
    "plt.axis('off');"
   ]
  },
  {
   "cell_type": "markdown",
   "metadata": {},
   "source": [
    "**ℹ️ Tip**: remove just tick markers and labels (not axis labels or grids) with `plt.xticks([])`."
   ]
  },
  {
   "cell_type": "markdown",
   "metadata": {},
   "source": [
    "#### Axes Limits"
   ]
  },
  {
   "cell_type": "markdown",
   "metadata": {},
   "source": [
    "Change axes limits with `plt.xlim`/`plt.ylim`"
   ]
  },
  {
   "cell_type": "code",
   "execution_count": null,
   "metadata": {},
   "outputs": [],
   "source": [
    "def plot_companies_worth():\n",
    "    plt.bar(companies, valuation);\n",
    "    plt.ylabel('Worth (billions)')\n",
    "    plt.gca().set_yticklabels([f'${y:.0f}' for y in plt.gca().get_yticks()])\n",
    "\n",
    "plot_companies_worth()\n",
    "plt.title('Zero-baselined')\n",
    "plt.show()\n",
    "\n",
    "plot_companies_worth()\n",
    "plt.title('Truncated')\n",
    "plt.ylim(16);"
   ]
  },
  {
   "cell_type": "markdown",
   "metadata": {},
   "source": [
    "**ℹ️ Tip**: Bar charts ask viewers compare the relative lengths. Showing just the tips of the bars to exaggerate differences in the data, their relative lengths changes. So people are either misled and take away the wrong message, or end up having to read the numbers, which defeats the purpose of the chart. There are exceptions."
   ]
  },
  {
   "cell_type": "markdown",
   "metadata": {},
   "source": [
    "**ℹ️ Tip**: provide effective labels:\n",
    "- do not mistake the measurement with the units — in the above example, we are showing the _worth_, not the _dollars_ for each company.\n",
    "- declutter the tick marks, while provide the same information — in the above example, since all valuations are provided in billions, it is easier to specify it in the axis label\n",
    "- show appropriate units on the tick labels (e.g.: `$`, `★`, etc)\n",
    "- show percentage values as percentages (e.g.: show `50\\%` instead of the way it is stored, `0.5`)\n",
    "- show an appropriate amount of decimals — more decimal digits might indicate more precision, but they reduce readability without adding actual value\n",
    "- sometimes it is useful to provide the value labels at the top of each bar"
   ]
  },
  {
   "cell_type": "markdown",
   "metadata": {},
   "source": [
    "#### Figure Size and Aspect Ratio"
   ]
  },
  {
   "cell_type": "markdown",
   "metadata": {},
   "source": [
    "Change the figure size (and aspect ratio):"
   ]
  },
  {
   "cell_type": "code",
   "execution_count": null,
   "metadata": {},
   "outputs": [],
   "source": [
    "def plot_price_evolution():\n",
    "    plt.plot(years, price)\n",
    "    plt.gca().set_yticklabels([f'${y:.0f}' for y in plt.gca().get_yticks()])\n",
    "    plt.ylabel('Price')\n",
    "\n",
    "plt.figure(figsize=(3, 7))  # in \"inches\"\n",
    "plot_price_evolution()\n",
    "plt.title('Elongated')\n",
    "\n",
    "plt.figure(figsize=(8, 1.5))\n",
    "plot_price_evolution()\n",
    "plt.title('Widened');"
   ]
  },
  {
   "cell_type": "markdown",
   "metadata": {},
   "source": [
    "**ℹ️ Tip**: Line charts show a trend. Stretching the height of the graph can overblow the message, while stretching the width can understate it. This leads to misleading the audience."
   ]
  },
  {
   "cell_type": "markdown",
   "metadata": {},
   "source": [
    "#### Derivative Chart Types"
   ]
  },
  {
   "cell_type": "markdown",
   "metadata": {},
   "source": [
    "The basic charts can be expanded with options into derivative ones"
   ]
  },
  {
   "cell_type": "markdown",
   "metadata": {},
   "source": [
    "##### Stacked Bar Charts"
   ]
  },
  {
   "cell_type": "markdown",
   "metadata": {},
   "source": [
    "Show two series for the same index:"
   ]
  },
  {
   "cell_type": "code",
   "execution_count": null,
   "metadata": {},
   "outputs": [],
   "source": [
    "companies = ['Stark Ind.', 'Wayne Ent.', 'Lexcorp', 'Oscorp', 'ACME']\n",
    "valuation = [31, 27, 21, 19, 17]\n",
    "potential = [ 3,  9,  6,  6,  4]"
   ]
  },
  {
   "cell_type": "code",
   "execution_count": null,
   "metadata": {},
   "outputs": [],
   "source": [
    "plt.bar(companies, valuation, label='worth')\n",
    "plt.bar(companies, potential, bottom=valuation, label='growth')\n",
    "\n",
    "plt.legend();"
   ]
  },
  {
   "cell_type": "markdown",
   "metadata": {},
   "source": [
    "##### Grouped Bar Charts"
   ]
  },
  {
   "cell_type": "markdown",
   "metadata": {},
   "source": [
    "Same data, but highlight differences in the second series, not in the overall sum:"
   ]
  },
  {
   "cell_type": "code",
   "execution_count": null,
   "metadata": {},
   "outputs": [],
   "source": [
    "width = .3\n",
    "x = np.arange(len(companies))\n",
    "\n",
    "plt.bar(x,         valuation, width=width, label='worth')\n",
    "plt.bar(x + width, potential, width=width, label='growth')\n",
    "\n",
    "plt.gca().set_xticks(x + width / 2)\n",
    "plt.gca().set_xticklabels(companies)\n",
    "plt.legend();"
   ]
  },
  {
   "cell_type": "markdown",
   "metadata": {},
   "source": [
    "##### Area Chart"
   ]
  },
  {
   "cell_type": "markdown",
   "metadata": {},
   "source": [
    "Line chart where the bottom is filled:"
   ]
  },
  {
   "cell_type": "code",
   "execution_count": null,
   "metadata": {},
   "outputs": [],
   "source": [
    "plt.fill_between(years, price)\n",
    "plt.ylim(min(price) * .9);"
   ]
  },
  {
   "cell_type": "markdown",
   "metadata": {},
   "source": [
    "##### Stacked Area Chart"
   ]
  },
  {
   "cell_type": "markdown",
   "metadata": {},
   "source": [
    "Similar to stacked bar charts, but for continously-indexed series:"
   ]
  },
  {
   "cell_type": "code",
   "execution_count": null,
   "metadata": {},
   "outputs": [],
   "source": [
    "years = [2015, 2016, 2017, 2018, 2019, 2020]\n",
    "price = [  70,   72,   79,   80,   85,   77]\n",
    "tax   = [   2,    4,    3,    9,    1,    2]"
   ]
  },
  {
   "cell_type": "code",
   "execution_count": null,
   "metadata": {},
   "outputs": [],
   "source": [
    "plt.stackplot(years, price, tax, \n",
    "              labels=['price', 'tax'])\n",
    "\n",
    "plt.ylim(min(price) * .9)\n",
    "plt.legend();"
   ]
  },
  {
   "cell_type": "markdown",
   "metadata": {},
   "source": [
    "### Multiple Plots"
   ]
  },
  {
   "cell_type": "markdown",
   "metadata": {},
   "source": [
    "Chart multiple sets of data at once, either in the same figure, different ones, or composite figures."
   ]
  },
  {
   "cell_type": "markdown",
   "metadata": {},
   "source": [
    "#### Same figure"
   ]
  },
  {
   "cell_type": "markdown",
   "metadata": {},
   "source": [
    "Plot multiple lines/points in a single figure by placing multiple statements in the same cell (or between `plt.show()` calls):"
   ]
  },
  {
   "cell_type": "code",
   "execution_count": null,
   "metadata": {},
   "outputs": [],
   "source": [
    "plt.plot([0, 9])\n",
    "plt.plot([5, 2]);"
   ]
  },
  {
   "cell_type": "markdown",
   "metadata": {},
   "source": [
    "#### Multiple Figures"
   ]
  },
  {
   "cell_type": "markdown",
   "metadata": {},
   "source": [
    "Preserve the same Y-axis limits:"
   ]
  },
  {
   "cell_type": "code",
   "execution_count": null,
   "metadata": {},
   "outputs": [],
   "source": [
    "plt.plot([0, 9])\n",
    "y_limits = plt.ylim()\n",
    "plt.show()\n",
    "\n",
    "plt.ylim(y_limits)\n",
    "plt.plot([5, 2], c='C1');"
   ]
  },
  {
   "cell_type": "markdown",
   "metadata": {},
   "source": [
    "#### Subplots"
   ]
  },
  {
   "cell_type": "markdown",
   "metadata": {},
   "source": [
    "A figure is composed of one or more axes. When only one is present, `plt.` refers to it, otherwise it refers to the current figure & axis. You can get the figure & axis handles either by instantiating a new figure with `fig = plt.figure()`, creating subplots (see below) or directly from traces, `ax = plt.plot(...)`."
   ]
  },
  {
   "cell_type": "code",
   "execution_count": null,
   "metadata": {},
   "outputs": [],
   "source": [
    "fig, (ax1, ax2) = plt.subplots(nrows=1, ncols=2, \n",
    "                               sharey=True, # size of the entire figure, not of individual plots\n",
    "                               figsize=(12, 4))\n",
    "\n",
    "ax1.plot([0, 9])  # note that we plot using `ax.plot` not `plt.plot`\n",
    "ax2.plot([5, 2], c='C1')\n",
    "\n",
    "plt.subplots_adjust(wspace=.3)\n",
    "\n",
    "ax1.set_title('Left Title')  # note the slightly changed syntax `ax.set_title(...)` instead of `plt.title(...)`\n",
    "ax2.set_title('Right Title')\n",
    "plt.suptitle('Super Title');"
   ]
  },
  {
   "cell_type": "markdown",
   "metadata": {},
   "source": [
    "**ℹ️ Tip**: get the current axis with `plt.gca()` and the current figure with `plt.gcf()`."
   ]
  },
  {
   "cell_type": "markdown",
   "metadata": {},
   "source": [
    "Alternatively, in short-form:"
   ]
  },
  {
   "cell_type": "code",
   "execution_count": null,
   "metadata": {},
   "outputs": [],
   "source": [
    "plt.subplot(121)  # now it's `subplot`, not `subplots`\n",
    "plt.plot([0, 9])  # now it's `plt.plot`\n",
    "plt.title('Left Title')\n",
    "\n",
    "plt.subplot(122)\n",
    "plt.plot([5, 2], c='C1');\n",
    "plt.title('Right Title')\n",
    "\n",
    "plt.suptitle('Super Title');"
   ]
  },
  {
   "cell_type": "markdown",
   "metadata": {},
   "source": [
    "**ℹ️ Tip**: read more about [working with multiple figures and axes](https://matplotlib.org/tutorials/introductory/pyplot.html#working-with-multiple-figures-and-axes)."
   ]
  },
  {
   "cell_type": "markdown",
   "metadata": {},
   "source": [
    "#### Twin Axes"
   ]
  },
  {
   "cell_type": "markdown",
   "metadata": {},
   "source": [
    "Plot two sets of data on completely different scales:"
   ]
  },
  {
   "cell_type": "code",
   "execution_count": null,
   "metadata": {},
   "outputs": [],
   "source": [
    "x = np.linspace(0, 10, 100)\n",
    "y1 = np.exp(x)\n",
    "y2 = np.sin(x)\n",
    "\n",
    "fig, ax1 = plt.subplots()\n",
    "ax2 = ax1.twinx()\n",
    "\n",
    "ax1.plot(x, y1, 'C0')\n",
    "ax1.set_ylabel('exp', color='C0')\n",
    "ax1.tick_params('y', colors='C0')\n",
    "\n",
    "ax2.plot(x, y2, 'C3')\n",
    "ax2.set_ylabel('sin', color='C3')\n",
    "ax2.tick_params('y', colors='C3')"
   ]
  },
  {
   "cell_type": "markdown",
   "metadata": {},
   "source": [
    "**ℹ️ Tip**: charting with two different scales can be confusing and suggest a relationship that may not exist. The viewer compares the magnitude of values between the two sets of data, which is meaningless given that the scales (and potentially units) are different."
   ]
  },
  {
   "cell_type": "markdown",
   "metadata": {},
   "source": [
    "**👾 Trivia**: check out more (oftentimes humorous) [spurious correlations](http://www.tylervigen.com/spurious-correlations) such as this one:\n",
    "\n",
    "![a](http://www.tylervigen.com/chart-pngs/2.png)"
   ]
  },
  {
   "cell_type": "markdown",
   "metadata": {},
   "source": [
    "---"
   ]
  },
  {
   "cell_type": "markdown",
   "metadata": {},
   "source": [
    "**ℹ️ Tip**: simplicity is most effective, remove anything that doesn't support the message and design for comprehension. Matplotlib provides sensible defaults, but exessive coloring and other customizations can still degrade a chart.\n",
    "\n",
    "Example transformation (could also reduce the precision, and do away with the color):\n",
    "\n",
    "![pic](https://132q6j40a81047nmwg1az6v8-wpengine.netdna-ssl.com/wp-content/uploads/2017/06/data-visualization-design-5-1.png)"
   ]
  },
  {
   "cell_type": "markdown",
   "metadata": {},
   "source": [
    "---"
   ]
  },
  {
   "cell_type": "markdown",
   "metadata": {},
   "source": [
    "Save a figure to disk `plt.savefig(path, dpi, format)`, or drag-n-drop it directly from the Jupyter interface."
   ]
  },
  {
   "cell_type": "markdown",
   "metadata": {},
   "source": [
    "## Seaborn"
   ]
  },
  {
   "cell_type": "markdown",
   "metadata": {},
   "source": [
    "Seaborn is a library for statistical data visualization, built on top of Matplotlib. It provides a higher-level interface for more complex visualizations, and a slightly changed style."
   ]
  },
  {
   "cell_type": "code",
   "execution_count": null,
   "metadata": {},
   "outputs": [],
   "source": [
    "import seaborn as sns\n",
    "sns.set()  # apply Seaborn's style to future charts"
   ]
  },
  {
   "cell_type": "markdown",
   "metadata": {},
   "source": [
    "- Relationship\n",
    " - scatter\n",
    " - line\n",
    "- Categorical\n",
    " - between categories\n",
    " - within a category"
   ]
  },
  {
   "cell_type": "markdown",
   "metadata": {},
   "source": [
    "TODO: \n",
    " - talk about seaborn' default style\n",
    " - example of sns despine"
   ]
  },
  {
   "cell_type": "markdown",
   "metadata": {},
   "source": [
    "### Relationship Plots"
   ]
  },
  {
   "cell_type": "markdown",
   "metadata": {},
   "source": [
    "To make examples more meaningful, throughout this section, we'll plot actual datasets. One such dataset is the `tips` one, which logs the bills and tips in a restaurant:"
   ]
  },
  {
   "cell_type": "code",
   "execution_count": null,
   "metadata": {},
   "outputs": [],
   "source": [
    "tips = sns.load_dataset('tips')\n",
    "tips.head()"
   ]
  },
  {
   "cell_type": "markdown",
   "metadata": {},
   "source": [
    "#### Scatter"
   ]
  },
  {
   "cell_type": "markdown",
   "metadata": {},
   "source": [
    "Similar to Matplotlib's counterpart, but with a slightly changed style:"
   ]
  },
  {
   "cell_type": "code",
   "execution_count": null,
   "metadata": {},
   "outputs": [],
   "source": [
    "sns.relplot(data=tips, x='total_bill', y='tip');"
   ]
  },
  {
   "cell_type": "markdown",
   "metadata": {},
   "source": [
    "Quickly add additional information such as the time of the meal (color), the customer's gender (shape) and the party size (size of marker), from the underlying dataset:"
   ]
  },
  {
   "cell_type": "code",
   "execution_count": null,
   "metadata": {},
   "outputs": [],
   "source": [
    "sns.relplot(\n",
    "    data=tips,\n",
    "    x='total_bill', \n",
    "    y='tip', \n",
    "    hue='time',\n",
    "    style='sex',\n",
    "    size='size',\n",
    ");"
   ]
  },
  {
   "cell_type": "markdown",
   "metadata": {},
   "source": [
    "#### Line"
   ]
  },
  {
   "cell_type": "markdown",
   "metadata": {},
   "source": [
    "Another example dataset, of continuous measurements (over time):"
   ]
  },
  {
   "cell_type": "code",
   "execution_count": null,
   "metadata": {},
   "outputs": [],
   "source": [
    "fmri = sns.load_dataset('fmri')\n",
    "fmri.head()"
   ]
  },
  {
   "cell_type": "code",
   "execution_count": null,
   "metadata": {},
   "outputs": [],
   "source": [
    "sns.relplot(data=fmri, x='timepoint', y='signal');"
   ]
  },
  {
   "cell_type": "markdown",
   "metadata": {},
   "source": [
    "Aggregating it into a line, with mean and confidence interval (95%) is more informative:"
   ]
  },
  {
   "cell_type": "code",
   "execution_count": null,
   "metadata": {},
   "outputs": [],
   "source": [
    "sns.relplot(data=fmri, x='timepoint', y='signal', kind='line');"
   ]
  },
  {
   "cell_type": "markdown",
   "metadata": {},
   "source": [
    "Show additional information: the region (color) and event (line style):"
   ]
  },
  {
   "cell_type": "code",
   "execution_count": null,
   "metadata": {},
   "outputs": [],
   "source": [
    "sns.relplot(\n",
    "    kind='line',\n",
    "    data=fmri,\n",
    "    x='timepoint',\n",
    "    y='signal',\n",
    "    hue='region',\n",
    "    style='event',\n",
    "    alpha=.75,\n",
    ");"
   ]
  },
  {
   "cell_type": "markdown",
   "metadata": {},
   "source": [
    "### Categorical plots"
   ]
  },
  {
   "cell_type": "markdown",
   "metadata": {},
   "source": [
    "We'll exemplify on the same, `tips` dataset"
   ]
  },
  {
   "cell_type": "markdown",
   "metadata": {},
   "source": [
    "#### Between categories"
   ]
  },
  {
   "cell_type": "markdown",
   "metadata": {},
   "source": [
    "The x axis is categorical, so points are grouped together and are jittered a little as to not overlap, but still show the amount of points in each category/total bill segment. This is called a swarmplot:"
   ]
  },
  {
   "cell_type": "code",
   "execution_count": null,
   "metadata": {},
   "outputs": [],
   "source": [
    "sns.catplot(x='day', y='total_bill', kind='swarm', data=tips, color='C0');"
   ]
  },
  {
   "cell_type": "markdown",
   "metadata": {},
   "source": [
    "Show additional information:"
   ]
  },
  {
   "cell_type": "code",
   "execution_count": null,
   "metadata": {},
   "outputs": [],
   "source": [
    "sns.catplot(\n",
    "    kind='swarm',\n",
    "    data=tips,\n",
    "    x='day',\n",
    "    y='total_bill',\n",
    "    hue='time',\n",
    ");"
   ]
  },
  {
   "cell_type": "markdown",
   "metadata": {},
   "source": [
    "#### Distribution"
   ]
  },
  {
   "cell_type": "markdown",
   "metadata": {},
   "source": [
    "Boxplot: the box shows the three quartiles, and whiskers extend to show the smallest and largest values, excepting outliers which are plotted separatedly"
   ]
  },
  {
   "cell_type": "markdown",
   "metadata": {},
   "source": [
    "The three quartiles are:\n",
    " 1. lower quartile (25% of elements are less than it)\n",
    " 2. median (50% of elements are less than it)\n",
    " 3. upper quartile (75% elements are less than it)\n",
    " \n",
    "A point is considered an outlier if it is farther than 1.5 IQR from the lower and upper quartiles.\n",
    "IQR, the inter-quartile range, is simply the distance between the lower and upper quartiles."
   ]
  },
  {
   "cell_type": "code",
   "execution_count": null,
   "metadata": {},
   "outputs": [],
   "source": [
    "tips.groupby('day').total_bill.describe()"
   ]
  },
  {
   "cell_type": "code",
   "execution_count": null,
   "metadata": {},
   "outputs": [],
   "source": [
    "sns.catplot(kind='box', data=tips, x='day', y='total_bill');"
   ]
  },
  {
   "cell_type": "markdown",
   "metadata": {},
   "source": [
    "Similar to the boxplot, but shows more information about the distribution. Instead of the quartiles and ranges, it shows a KDE. Think of it as a continuous histogram. Its shape allows it to show data for two types of observations for each x-axis categorical value:"
   ]
  },
  {
   "cell_type": "code",
   "execution_count": null,
   "metadata": {},
   "outputs": [],
   "source": [
    "sns.catplot(\n",
    "    kind='violin',\n",
    "    split=True,\n",
    "    \n",
    "    data=tips,\n",
    "    x='day',\n",
    "    y='total_bill',\n",
    "    hue='sex',\n",
    "    scale='count',\n",
    ");"
   ]
  },
  {
   "cell_type": "markdown",
   "metadata": {},
   "source": [
    "The width of each KDE shows the amount of observations falling in that segment"
   ]
  },
  {
   "cell_type": "markdown",
   "metadata": {},
   "source": [
    "### Distributions"
   ]
  },
  {
   "cell_type": "markdown",
   "metadata": {},
   "source": [
    "We'll exemplify on the famous `iris` dataset, containing measurements of various species of flowers:"
   ]
  },
  {
   "cell_type": "code",
   "execution_count": null,
   "metadata": {},
   "outputs": [],
   "source": [
    "iris = sns.load_dataset('iris')\n",
    "iris.head()"
   ]
  },
  {
   "cell_type": "markdown",
   "metadata": {},
   "source": [
    "#### Univariate"
   ]
  },
  {
   "cell_type": "markdown",
   "metadata": {},
   "source": [
    "A **histogram** (the columns) shows how many observations fall in each _bin_.\n",
    "\n",
    "A **KDE**, Kernel Density Estimation, fits a probability density function over the distribution. You can think of it as a continuous approximation of the histogram."
   ]
  },
  {
   "cell_type": "code",
   "execution_count": null,
   "metadata": {},
   "outputs": [],
   "source": [
    "sns.distplot(iris.sepal_length)\n",
    "plt.gca().xaxis.grid(False)\n",
    "plt.ylabel('% Samples');"
   ]
  },
  {
   "cell_type": "markdown",
   "metadata": {},
   "source": [
    "**ℹ️ Tip**: It seems like our distribution is made up of multiple composing distributions. Since the data comes from natural phenomena, we expect it to be somewhat normally shaped. Plotting the KDE for each species reveals the underlying distributions:"
   ]
  },
  {
   "cell_type": "code",
   "execution_count": null,
   "metadata": {},
   "outputs": [],
   "source": [
    "for species, sub_df in iris.groupby('species'):\n",
    "    sns.kdeplot(sub_df.sepal_length, label=species)\n",
    "\n",
    "plt.legend(title='Species')\n",
    "plt.xlabel('Sepal length')\n",
    "plt.ylabel('Amount of samples')\n",
    "plt.yticks([])\n",
    "plt.title('Length Distribution by Species');"
   ]
  },
  {
   "cell_type": "markdown",
   "metadata": {},
   "source": [
    "#### Bivariate"
   ]
  },
  {
   "cell_type": "markdown",
   "metadata": {},
   "source": [
    "Scatterplot in the center with univariate histograms on the sides:"
   ]
  },
  {
   "cell_type": "code",
   "execution_count": null,
   "metadata": {},
   "outputs": [],
   "source": [
    "sns.jointplot(data=iris, x='sepal_length', y='sepal_width');"
   ]
  },
  {
   "cell_type": "markdown",
   "metadata": {},
   "source": [
    "Bivariate (2D) analogous of KDE:"
   ]
  },
  {
   "cell_type": "code",
   "execution_count": null,
   "metadata": {},
   "outputs": [],
   "source": [
    "sns.jointplot(kind='kde', data=iris, x='sepal_length', y='sepal_width', shade_lowest=False);"
   ]
  },
  {
   "cell_type": "markdown",
   "metadata": {},
   "source": [
    "Similarly, we can decompose the distributions:"
   ]
  },
  {
   "cell_type": "code",
   "execution_count": null,
   "metadata": {},
   "outputs": [],
   "source": [
    "with sns.axes_style('white'):\n",
    "    for species, sub_df in iris.groupby('species'):\n",
    "        sns.kdeplot(sub_df.sepal_length, sub_df.sepal_width,  label=species, \n",
    "                    shade=True, shade_lowest=False, alpha=.5)\n",
    "\n",
    "plt.legend(title='Species')\n",
    "plt.title('Length and Width Distribution by Species');"
   ]
  },
  {
   "cell_type": "markdown",
   "metadata": {},
   "source": [
    "More than two variables: just have multiple pairwise plots"
   ]
  },
  {
   "cell_type": "code",
   "execution_count": null,
   "metadata": {},
   "outputs": [],
   "source": [
    "g = sns.PairGrid(iris, diag_sharey=False, hue='species')\n",
    "\n",
    "g.map_diag(sns.kdeplot)\n",
    "g.map_upper(plt.scatter, alpha=.5)\n",
    "g.map_lower(sns.kdeplot, alpha=.75, shade=True, shade_lowest=False)\n",
    "\n",
    "g.add_legend(title='Species');"
   ]
  },
  {
   "cell_type": "markdown",
   "metadata": {},
   "source": [
    "#### Linear relationships"
   ]
  },
  {
   "cell_type": "markdown",
   "metadata": {},
   "source": [
    "Best-fit line and confidence interval:"
   ]
  },
  {
   "cell_type": "code",
   "execution_count": null,
   "metadata": {},
   "outputs": [],
   "source": [
    "sns.regplot(data=tips, x='total_bill', y='tip');"
   ]
  },
  {
   "cell_type": "markdown",
   "metadata": {},
   "source": [
    "Show histograms on the sides:"
   ]
  },
  {
   "cell_type": "code",
   "execution_count": null,
   "metadata": {},
   "outputs": [],
   "source": [
    "sns.jointplot(kind='reg', data=tips, x='total_bill', y='tip');"
   ]
  },
  {
   "cell_type": "markdown",
   "metadata": {},
   "source": [
    "#### Heatmaps"
   ]
  },
  {
   "cell_type": "markdown",
   "metadata": {},
   "source": [
    "We'll use the `flights` dataset, which contains the number of passagers for some flights over a period of time:"
   ]
  },
  {
   "cell_type": "code",
   "execution_count": null,
   "metadata": {},
   "outputs": [],
   "source": [
    "flights = sns.load_dataset('flights').pivot('month', 'year', 'passengers')"
   ]
  },
  {
   "cell_type": "markdown",
   "metadata": {},
   "source": [
    "Present data in three dimensions. The z-axis (color intensity) represents the number of passengers:"
   ]
  },
  {
   "cell_type": "code",
   "execution_count": null,
   "metadata": {},
   "outputs": [],
   "source": [
    "sns.heatmap(flights, cbar_kws=dict(label='# Passangers'));"
   ]
  },
  {
   "cell_type": "markdown",
   "metadata": {},
   "source": [
    "**ℹ️ Tip**: it is intuitive to represent larger values by darker colors:"
   ]
  },
  {
   "cell_type": "code",
   "execution_count": null,
   "metadata": {},
   "outputs": [],
   "source": [
    "sns.heatmap(\n",
    "    flights, \n",
    "    cbar_kws=dict(label='# Passangers'),\n",
    "    cmap='Blues',\n",
    ");"
   ]
  },
  {
   "cell_type": "markdown",
   "metadata": {},
   "source": [
    "**ℹ️ Tip**: Reverse any colormap by appending `_r` to its name."
   ]
  },
  {
   "cell_type": "markdown",
   "metadata": {},
   "source": [
    "Other sequential colormaps:\n",
    "\n",
    "![pic](https://i.imgur.com/oqfPvJX.png)"
   ]
  },
  {
   "cell_type": "markdown",
   "metadata": {},
   "source": [
    "---"
   ]
  },
  {
   "cell_type": "markdown",
   "metadata": {},
   "source": [
    "Sometimes you have diverging data, such as the correlation: two variables can be correlated either positively (both increase and decrease at the same time) or negatively (when one increases, the other decreases). So we adapt to a diverging colormap."
   ]
  },
  {
   "cell_type": "code",
   "execution_count": null,
   "metadata": {},
   "outputs": [],
   "source": [
    "crashes = sns.load_dataset('car_crashes')\n",
    "crashes.head()"
   ]
  },
  {
   "cell_type": "code",
   "execution_count": null,
   "metadata": {},
   "outputs": [],
   "source": [
    "corr = crashes.corr()\n",
    "\n",
    "mask = np.zeros_like(corr)\n",
    "mask[np.triu_indices_from(mask)] = True\n",
    "\n",
    "with sns.axes_style(\"white\"):\n",
    "    ax = sns.heatmap(corr, \n",
    "                     mask=mask,\n",
    "                     cbar_kws=dict(label='Correlation'),\n",
    "                     cmap='RdYlGn', \n",
    "                     center=0, #vmin=-.5,\n",
    "                     annot=True, \n",
    "                     fmt='.1f', \n",
    "                     lw=1,\n",
    "                     square=True)"
   ]
  },
  {
   "cell_type": "markdown",
   "metadata": {},
   "source": [
    "Other diverging colormaps:\n",
    "\n",
    "![pic](https://i.imgur.com/9H9J71j.png)"
   ]
  },
  {
   "cell_type": "markdown",
   "metadata": {},
   "source": [
    "**ℹ️ Tip**: see the rest of available colormaps and color palettes: [matplotlib](https://matplotlib.org/tutorials/colors/colormaps.html), [seaborn](https://seaborn.pydata.org/tutorial/color_palettes.html). Use tools such as [Color Brewer](http://colorbrewer2.org) to help pick color schemes. [Adobe Color Wheel](https://color.adobe.com/create/color-wheel/) is a good tool for general-purpose palette selection. Online [palette generators](https://coolors.co/app) make exploring colors easy."
   ]
  },
  {
   "cell_type": "markdown",
   "metadata": {},
   "source": [
    "---"
   ]
  },
  {
   "cell_type": "markdown",
   "metadata": {},
   "source": [
    "Set the syle back to the original Matplotlib defaults:"
   ]
  },
  {
   "cell_type": "code",
   "execution_count": null,
   "metadata": {},
   "outputs": [],
   "source": [
    "sns.reset_orig()"
   ]
  },
  {
   "cell_type": "markdown",
   "metadata": {},
   "source": [
    "## Pandas"
   ]
  },
  {
   "cell_type": "code",
   "execution_count": null,
   "metadata": {},
   "outputs": [],
   "source": [
    "import pandas as pd"
   ]
  },
  {
   "cell_type": "code",
   "execution_count": null,
   "metadata": {},
   "outputs": [],
   "source": [
    "weather = pd.read_csv('example_files/weather.csv')\n",
    "\n",
    "month_names = 'January February March April May June July August September Octomber November December'.split()\n",
    "cities = ['New York City', 'Los Angeles']"
   ]
  },
  {
   "cell_type": "markdown",
   "metadata": {},
   "source": [
    "### Plotting Shortcuts"
   ]
  },
  {
   "cell_type": "markdown",
   "metadata": {},
   "source": [
    "Pandas DataFrames integrates directly with Matplotlib, providing convenient plotting shortcuts:"
   ]
  },
  {
   "cell_type": "code",
   "execution_count": null,
   "metadata": {},
   "outputs": [],
   "source": [
    "weather[weather.month == 1][cities].plot()\n",
    "\n",
    "# continue customizing the chart\n",
    "plt.title('January Temperature')\n",
    "plt.xlabel('Day of Month')\n",
    "plt.ylabel('Temperature (°F)');"
   ]
  },
  {
   "cell_type": "markdown",
   "metadata": {},
   "source": [
    "They make labeling, grouping and other tedious tasks easier:"
   ]
  },
  {
   "cell_type": "code",
   "execution_count": null,
   "metadata": {},
   "outputs": [],
   "source": [
    "weather.groupby('month')[cities].mean().plot(\n",
    "    kind='barh',  # horizontal bar chart\n",
    "    figsize=(4, 7),\n",
    "    title='Average Temperatures',\n",
    ")\n",
    "\n",
    "plt.gca().set_yticklabels(month_names)\n",
    "plt.xlabel('Temperature (°F)');"
   ]
  },
  {
   "cell_type": "markdown",
   "metadata": {},
   "source": [
    "Most non-specialty chart types are supported:"
   ]
  },
  {
   "cell_type": "code",
   "execution_count": null,
   "metadata": {},
   "outputs": [],
   "source": [
    "weather['Los Angeles'].plot(kind='hist')\n",
    "\n",
    "plt.title('Year-long Temperature Distribution')\n",
    "plt.xlabel('Temperature (°F)')\n",
    "plt.ylabel('#Days observed');"
   ]
  },
  {
   "cell_type": "markdown",
   "metadata": {},
   "source": [
    "**ℹ️ Tip**: [read more](https://pandas.pydata.org/pandas-docs/stable/reference/api/pandas.DataFrame.plot.html) about supported chart types and options"
   ]
  },
  {
   "cell_type": "markdown",
   "metadata": {},
   "source": [
    "### Table Styling"
   ]
  },
  {
   "cell_type": "markdown",
   "metadata": {},
   "source": [
    "Lightweight visualizations can also be incorporated directly inside tables"
   ]
  },
  {
   "cell_type": "code",
   "execution_count": null,
   "metadata": {},
   "outputs": [],
   "source": [
    "df = pd.DataFrame(np.random.randn(7, 3), columns=list('ABC'))\n",
    "df.iloc[1, 1] = np.nan\n",
    "\n",
    "df"
   ]
  },
  {
   "cell_type": "markdown",
   "metadata": {},
   "source": [
    "Set a caption for your table:"
   ]
  },
  {
   "cell_type": "code",
   "execution_count": null,
   "metadata": {},
   "outputs": [],
   "source": [
    "df.style.set_caption('Example Data')"
   ]
  },
  {
   "cell_type": "markdown",
   "metadata": {},
   "source": [
    "Modify the precision:"
   ]
  },
  {
   "cell_type": "code",
   "execution_count": null,
   "metadata": {},
   "outputs": [],
   "source": [
    "df.round(3)"
   ]
  },
  {
   "cell_type": "markdown",
   "metadata": {},
   "source": [
    "Set global options:"
   ]
  },
  {
   "cell_type": "code",
   "execution_count": null,
   "metadata": {},
   "outputs": [],
   "source": [
    "pd.set_option('precision', 2)"
   ]
  },
  {
   "cell_type": "markdown",
   "metadata": {},
   "source": [
    "**ℹ️ Tip**: [read more](https://pandas.pydata.org/pandas-docs/stable/user_guide/options.html) about Pandas options"
   ]
  },
  {
   "cell_type": "markdown",
   "metadata": {},
   "source": [
    "---"
   ]
  },
  {
   "cell_type": "markdown",
   "metadata": {},
   "source": [
    "Change the style of specific elements:"
   ]
  },
  {
   "cell_type": "code",
   "execution_count": null,
   "metadata": {},
   "outputs": [],
   "source": [
    "df.style.highlight_null()"
   ]
  },
  {
   "cell_type": "markdown",
   "metadata": {},
   "source": [
    "Restrict to only a subset of rows/columns:"
   ]
  },
  {
   "cell_type": "code",
   "execution_count": null,
   "metadata": {},
   "outputs": [],
   "source": [
    "df.style.highlight_max(subset=['A', 'B'], axis=0)"
   ]
  },
  {
   "cell_type": "markdown",
   "metadata": {},
   "source": [
    "Arbitrary functions and function chaining:"
   ]
  },
  {
   "cell_type": "code",
   "execution_count": null,
   "metadata": {},
   "outputs": [],
   "source": [
    "def highlight_negatives(val):\n",
    "    \"\"\" Make negative values bold red \"\"\"\n",
    "    color = 'red' if val < 0 else 'black'\n",
    "    weight = 'bold' if val < 0 else 'normal'\n",
    "    return f'color: {color}; font-weight: {weight}'  # css syntax"
   ]
  },
  {
   "cell_type": "code",
   "execution_count": null,
   "metadata": {},
   "outputs": [],
   "source": [
    "df.style\\\n",
    "    .set_precision(3)\\\n",
    "    .applymap(highlight_negatives)"
   ]
  },
  {
   "cell_type": "markdown",
   "metadata": {},
   "source": [
    "---"
   ]
  },
  {
   "cell_type": "markdown",
   "metadata": {},
   "source": [
    "Even inline charts:"
   ]
  },
  {
   "cell_type": "code",
   "execution_count": null,
   "metadata": {},
   "outputs": [],
   "source": [
    "df.style.bar(subset='C')"
   ]
  },
  {
   "cell_type": "code",
   "execution_count": null,
   "metadata": {},
   "outputs": [],
   "source": [
    "df.style.background_gradient(cmap='Greens')"
   ]
  },
  {
   "cell_type": "markdown",
   "metadata": {},
   "source": [
    "**ℹ️ Tip**: read more about [table styling](https://pandas.pydata.org/pandas-docs/stable/user_guide/style.html)"
   ]
  },
  {
   "cell_type": "markdown",
   "metadata": {},
   "source": [
    "**ℹ️ Tip**: watch a [short animation](http://i.imgur.com/ZY8dKpA.gif) on (slightly overdone) table styling"
   ]
  },
  {
   "cell_type": "markdown",
   "metadata": {},
   "source": [
    "## Other Packages"
   ]
  },
  {
   "cell_type": "markdown",
   "metadata": {},
   "source": [
    "While Matplotlib is the most widely used library (seconded by Seaborn), there are many other ones, most with overlapping functionality (line, bar charts etc). But there are also those that offer specific kinds of visualizations"
   ]
  },
  {
   "cell_type": "markdown",
   "metadata": {},
   "source": [
    "### Joyplots"
   ]
  },
  {
   "cell_type": "markdown",
   "metadata": {},
   "source": [
    "Joyplots show distributions over an ordinal variable or discretized time:"
   ]
  },
  {
   "cell_type": "markdown",
   "metadata": {},
   "source": [
    "### Venn Diagrams"
   ]
  },
  {
   "cell_type": "markdown",
   "metadata": {},
   "source": [
    "Show logical relations between a finite collection of sets:"
   ]
  },
  {
   "cell_type": "code",
   "execution_count": null,
   "metadata": {},
   "outputs": [],
   "source": [
    "from matplotlib_venn import venn2"
   ]
  },
  {
   "cell_type": "code",
   "execution_count": null,
   "metadata": {},
   "outputs": [],
   "source": [
    "venn2(subsets = (10, 5, 2), set_labels = ('Group A', 'Group B'));"
   ]
  },
  {
   "cell_type": "code",
   "execution_count": null,
   "metadata": {},
   "outputs": [],
   "source": [
    "from joypy import joyplot"
   ]
  },
  {
   "cell_type": "markdown",
   "metadata": {},
   "source": [
    "**👾 Trivia**: they got their name from Joy Division's [album](https://itunes.apple.com/us/album/unknown-pleasures-remastered/544363171) that used such a plot on as their cover. Otherwise known as a ridgeplot. More recently popularized by Tensorflow's display of weights distributions over time."
   ]
  },
  {
   "cell_type": "code",
   "execution_count": null,
   "metadata": {},
   "outputs": [],
   "source": [
    "fig, axes = joyplot(\n",
    "    weather, by='month', column=['New York City', 'Los Angeles'],\n",
    "    alpha=.75, range_style='own', grid='y', linecolor='white', \n",
    "    figsize=(6, 6), title='Monthly Temperature', legend=True,\n",
    ")\n",
    "\n",
    "axes[-1].set_xlabel('Temperature (°F)')\n",
    "for month, ax in zip(month_names, axes):\n",
    "    ax.set_yticklabels([month])"
   ]
  },
  {
   "cell_type": "markdown",
   "metadata": {},
   "source": [
    "### Network Graphs"
   ]
  },
  {
   "cell_type": "markdown",
   "metadata": {},
   "source": [
    "NetworkX is the de-facto library for storing graphs"
   ]
  },
  {
   "cell_type": "code",
   "execution_count": null,
   "metadata": {},
   "outputs": [],
   "source": [
    "import networkx as nx"
   ]
  },
  {
   "cell_type": "markdown",
   "metadata": {},
   "source": [
    "Provides simple plotting:"
   ]
  },
  {
   "cell_type": "code",
   "execution_count": null,
   "metadata": {},
   "outputs": [],
   "source": [
    "G = nx.gnm_random_graph(7, 15)\n",
    "nx.draw(G)"
   ]
  },
  {
   "cell_type": "markdown",
   "metadata": {},
   "source": [
    "But also complex customizations:"
   ]
  },
  {
   "cell_type": "code",
   "execution_count": null,
   "metadata": {},
   "outputs": [],
   "source": [
    "G = nx.random_geometric_graph(200, 0.125)\n",
    "# position is stored as node attribute data for random_geometric_graph\n",
    "pos = nx.get_node_attributes(G, 'pos')\n",
    "\n",
    "# find node near center (0.5,0.5)\n",
    "dmin = 1\n",
    "ncenter = 0\n",
    "for n in pos:\n",
    "    x, y = pos[n]\n",
    "    d = (x - 0.5)**2 + (y - 0.5)**2\n",
    "    if d < dmin:\n",
    "        ncenter = n\n",
    "        dmin = d\n",
    "\n",
    "# color by path length from node near center\n",
    "p = dict(nx.single_source_shortest_path_length(G, ncenter))\n",
    "\n",
    "plt.figure(figsize=(8, 8))\n",
    "nx.draw_networkx_edges(G, pos, nodelist=[ncenter], alpha=0.4)\n",
    "nx.draw_networkx_nodes(G, pos, nodelist=list(p.keys()),\n",
    "                       node_size=80,\n",
    "                       node_color=list(p.values()),\n",
    "                       cmap=plt.cm.Reds_r)\n",
    "\n",
    "plt.xlim(-0.05, 1.05)\n",
    "plt.ylim(-0.05, 1.05)\n",
    "plt.axis('off');"
   ]
  },
  {
   "cell_type": "markdown",
   "metadata": {},
   "source": [
    "### More Types"
   ]
  },
  {
   "cell_type": "markdown",
   "metadata": {},
   "source": [
    "The largest areas we haven't touched upon are interactive charts and map charts.  While this workshop focused on static charts, we can take advantage of the Jupyter environment and plot these as well. \n",
    "\n",
    "The most widely used library for this is [Plotly](https://plot.ly/python/). Check out these features if interested:\n",
    " - [zooming, slicing, hover information](https://plot.ly/python/line-charts/)\n",
    " - [advanced Jupyter features](https://plot.ly/python/ipython-notebook-tutorial/)\n",
    " - more chart types: \n",
    "    - [3D scatterplot](https://plot.ly/python/3d-network-graph/) (navigatable)\n",
    "    - [sankey](https://plot.ly/python/parallel-categories-diagram/)\n",
    "    - [choropleth](https://plot.ly/python/maps/)\n",
    "    - [chord diagram](https://plot.ly/python/filled-chord-diagram/)\n",
    "    - [treemap](https://plot.ly/python/treemaps/)\n",
    "    - [wind rose](https://plot.ly/python/wind-rose-charts/)"
   ]
  },
  {
   "cell_type": "markdown",
   "metadata": {},
   "source": [
    "## Further Reading\n",
    " - Python Data Visualization Packages: [talk](https://www.youtube.com/watch?v=FytuB8nFHPQ)\n",
    " - Python Graphs: [gallery](https://python-graph-gallery.com) (not exclusively Matplotlib/Seaborn)\n",
    " - Articles providing concise and useful tips and caveats:\n",
    "  - https://www.geckoboard.com/learn/data-literacy/data-visualization-tips/\n",
    "  - https://www.data-to-viz.com/caveats.html\n",
    "  - https://www.columnfivemedia.com/25-tips-to-upgrade-your-data-visualization-design\n",
    "  - https://www.lovesdata.com/blog/data-visualization-tips\n",
    "  - https://www.tableau.com/about/blog/2016/5/5-tips-effective-visual-data-communication-54174\n",
    "  - https://www.dataquest.io/blog/design-tips-for-data-viz/\n",
    " - Collections of beautiful, effective visualizations:\n",
    "  - [r/DataIsBeautiful](https://www.reddit.com/r/dataisbeautiful/top/?sort=top&t=all) (user voted)\n",
    "  - [Tableau Gallery](https://public.tableau.com/en-us/s/gallery) (more intricate)\n",
    "  - [The Pudding](https://pudding.cool) (visual essays)\n",
    "  - [Seeing Theory](https://seeing-theory.brown.edu) (visual introduction to probability and statistics)\n",
    " - Books:\n",
    "  - [Edward Tufte](https://www.edwardtufte.com/tufte/books_vdqi) (renown statistician and data visualization pioneer)\n",
    "  - [How to Lie with Statistics](https://www.amazon.com/How-Lie-Statistics-Darrell-Huff/dp/0393310728) (explores mis-uses of data visualizations)\n",
    "  - [Universal Principles of Design](https://www.amazon.com/Universal-Principles-Design-William-Lidwell/dp/1592530079) (pertaining to an abundance of fields and contexts, not just data visualization)"
   ]
  }
 ],
 "metadata": {
  "kernelspec": {
   "display_name": "Python 3",
   "language": "python",
   "name": "python3"
  },
  "language_info": {
   "codemirror_mode": {
    "name": "ipython",
    "version": 3
   },
   "file_extension": ".py",
   "mimetype": "text/x-python",
   "name": "python",
   "nbconvert_exporter": "python",
   "pygments_lexer": "ipython3",
   "version": "3.7.0"
  }
 },
 "nbformat": 4,
 "nbformat_minor": 2
}
