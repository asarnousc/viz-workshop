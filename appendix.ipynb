{
 "cells": [
  {
   "cell_type": "markdown",
   "metadata": {},
   "source": [
    "# Appendix"
   ]
  },
  {
   "cell_type": "markdown",
   "metadata": {},
   "source": [
    "Contains tangential information, not essential to this workshop, but very useful in practice."
   ]
  },
  {
   "cell_type": "markdown",
   "metadata": {},
   "source": [
    "Contents:\n",
    "- [Managing Packages](#Managing-Packages)\n",
    "- [Style Guide](#Style-Guide)"
   ]
  },
  {
   "cell_type": "markdown",
   "metadata": {},
   "source": [
    "## Managing Packages\n",
    "Any Python project beyond basic makes use of external packages (also called libraries). Juggling them is not a pleasant task and can be made easier using package managers and virtual environments.\n",
    "\n",
    "A **package manager** makes it easy to install, manage and share libraries.\n",
    "\n",
    "A **virtual environment** makes it easy to keep packages separate between projects. It is useful because you don't want to install everything for every project, and also two projects might require different versions of the same package."
   ]
  },
  {
   "cell_type": "markdown",
   "metadata": {},
   "source": [
    "### The `pip` package manager\n",
    " 1. installation: _`pip` comes installed with Python >=3.4_\n",
    "   - upgrading: `pip install -U pip`\n",
    " 2. install a package: `pip install <package>`\n",
    "   - upgrade a package: `pip install -U <package>`\n",
    "   - install a specific version of a package: `pip install <package>==3.1.40` (add `--force-reinstall` to replace)\n",
    " 3. view all packages installed: `pip list`\n",
    " 4. export your installed packages and their versions: `pip freeze > requirements.txt` (the usual file name)\n",
    "   - the redirect operator (`>`) creates/overwrites the output of the command on the left to the path on the right\n",
    " 5. install packages from an exported list: `pip install -r requirements.txt`\n",
    " 6. uninstall a package: `pip uninstall <package>` "
   ]
  },
  {
   "cell_type": "markdown",
   "metadata": {},
   "source": [
    "### The `venv` virtual environment module\n",
    " 1. installation: _`venv` is part of the standard library as of Python 3.5_\n",
    " 2. create a new virtual environment: `python -m venv path/to/env`\n",
    "   - `python -m <module>` is the standard way of running a module in Python\n",
    "   - to create using a different version of Python: `python3.6 -m venv path/to/env`\n",
    " 3. activate a virtual environment: `source env/bin/activate`\n",
    "   - `source` is a shell command which executes the file passed as argument\n",
    "   - your command prompt should now start with `(env) ...$`\n",
    " 4. deactivate a virtual environment: enter `deactivate` anywhere, or exit your session\n",
    " 5. Note: you should not commit the `env` folder to version control platforms. The list of packages and their versions (`requirements.txt`) suffices."
   ]
  },
  {
   "cell_type": "markdown",
   "metadata": {},
   "source": [
    "### More tools\n",
    "- Upgrade your Python version (OS-specific so you might have to find the solution for your particular case):\n",
    " - MacOS: [brew](https://brew.sh)\n",
    " - Ubuntu: [apt-get guide](https://docs.python-guide.org/starting/install3/linux/)\n",
    " - Windows: no universally best method, try [anaconda](https://www.anaconda.com)\n",
    " - you always have the (messy) option of installing from source: [official repo](https://www.python.org/downloads/)\n",
    "- Multiple versions of Python: [pyenv](https://github.com/pyenv/pyenv)\n",
    "- More easily manage virtual environments: [virtualenvwrapper](https://virtualenvwrapper.readthedocs.io/en/latest/)"
   ]
  },
  {
   "cell_type": "markdown",
   "metadata": {},
   "source": [
    "## Style Guide\n",
    "\n",
    "Even though Python uses significant whitespace, there is still room for variation in how we write our code. Adopting best practices helps avoid human errors and allows other programmers to more quickly understand your code, and for you to understand theirs."
   ]
  },
  {
   "cell_type": "markdown",
   "metadata": {},
   "source": [
    "### Essential guidelines\n",
    "\n",
    "Very few essential rules.\n",
    "\n",
    "\n",
    "- Basic\n",
    " - indent with 4 tabs\n",
    " - keep lines under 120 characters long\n",
    " - one statement per line \n",
    "   - bad: `if a == 1: b = 5`\n",
    "   - good: \n",
    "   ``` \n",
    "   if a == 1:\n",
    "         b = 5\n",
    "   ```\n",
    "\n",
    "\n",
    "- Whitespace\n",
    " - leave one blank space between operators \n",
    "     - bad: `a+1`\n",
    "     - good: `a + 1`\n",
    " - leave one blank space after arguments/collection elements\n",
    "     - bad: `f(1,2,3)`\n",
    "     - good `f(1, 2, 3)`\n",
    " - no blank space after default/named arguments\n",
    "     - bad: `f(1, a = 2)`\n",
    "     - good `f(1, a=2)`\n",
    " - leave two blank spaces before inline comments and one after the `#` symbol (\n",
    "     - bad: `x = 1#comment`\n",
    "     - good: `x = 1  # comment`\n",
    " - leave trailing commas (better for version control)\n",
    "     - bad:\n",
    "     ``` \n",
    "     l = [\n",
    "             1, \n",
    "             2,\n",
    "             3\n",
    "         ]\n",
    "     ```\n",
    "     - good:\n",
    "     ``` \n",
    "     l = [\n",
    "             1, \n",
    "             2,\n",
    "             3,  # note the extra comma\n",
    "         ]\n",
    "     ```\n",
    "     \n",
    "\n",
    "- Naming\n",
    " - always give variables descriptive names\n",
    " - name variables in `snake_case`\n",
    " - constants in `ALL_CAPS`\n",
    " - use `_` for ignored variable values\n",
    " \n",
    "\n",
    "- Idioms\n",
    " - don't double-check booleans \n",
    "   - bad: `if all_good is True: ...`\n",
    "   - good: `if all_good: ...`\n",
    " - use the op-assigment operators:\n",
    "   - bad: `a = a + b`\n",
    "   - good: `a += b`\n",
    " - always remember to close files (it's simpler if using the `with` construct)"
   ]
  },
  {
   "cell_type": "markdown",
   "metadata": {},
   "source": [
    "### Comprehensive guides\n",
    "- official standard: [PEP8's basic](https://www.python.org/dev/peps/pep-0008/)\n",
    "- in depth (using linters as well): [Google's PyGuide](http://google.github.io/styleguide/pyguide.html)\n",
    "- also contains common conventions: [guide](https://docs.python-guide.org/writing/style/)"
   ]
  },
  {
   "cell_type": "markdown",
   "metadata": {},
   "source": [
    "---"
   ]
  },
  {
   "cell_type": "code",
   "execution_count": null,
   "metadata": {},
   "outputs": [],
   "source": [
    "import this  # an easter-egg for more pythonic code"
   ]
  },
  {
   "cell_type": "markdown",
   "metadata": {},
   "source": [
    "---"
   ]
  },
  {
   "cell_type": "markdown",
   "metadata": {},
   "source": [
    "**👾 Trivia**: careful when running the command below, Python is pretty powerful!"
   ]
  },
  {
   "cell_type": "code",
   "execution_count": null,
   "metadata": {},
   "outputs": [],
   "source": [
    "import antigravity"
   ]
  }
 ],
 "metadata": {
  "kernelspec": {
   "display_name": "Python 3",
   "language": "python",
   "name": "python3"
  },
  "language_info": {
   "codemirror_mode": {
    "name": "ipython",
    "version": 3
   },
   "file_extension": ".py",
   "mimetype": "text/x-python",
   "name": "python",
   "nbconvert_exporter": "python",
   "pygments_lexer": "ipython3",
   "version": "3.7.0"
  }
 },
 "nbformat": 4,
 "nbformat_minor": 2
}
