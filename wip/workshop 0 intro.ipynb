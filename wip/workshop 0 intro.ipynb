{
 "cells": [
  {
   "cell_type": "markdown",
   "metadata": {},
   "source": [
    "# Data Visualization Workshop\n",
    "\n",
    "Designed to give you a basic literacy in working with data in Python and plotting. Goes over not only the _how_ and the the _why_, but also gives practical experience as well. Not a comprehensive guide for everything, instead focuses on essential concepts."
   ]
  },
  {
   "cell_type": "markdown",
   "metadata": {},
   "source": [
    "## Content\n",
    "\n",
    "The workshops are split into four sessions, each one being a (soft) pre-requisite for the next one:\n",
    "\n",
    "1. Environment basics (Python and Jupyter): the language and environment we'll use\n",
    "2. Data wrangling (NumPy and Pandas): the tools used to handle the data that we will plot\n",
    "3. Plotting (Matplotlib and Seaborn): what are the various types of charts and when to use them\n",
    "4. Real-world dataset: putting it all together and learning to deal with real-world complications that arise"
   ]
  },
  {
   "cell_type": "markdown",
   "metadata": {},
   "source": [
    "## Motivation"
   ]
  },
  {
   "cell_type": "markdown",
   "metadata": {},
   "source": [
    "Why the topics in this workshop are relevant in today's environment"
   ]
  },
  {
   "cell_type": "markdown",
   "metadata": {},
   "source": [
    "why data viz? easier to interpret large amounts of data, makes your message more compelling"
   ]
  },
  {
   "cell_type": "markdown",
   "metadata": {},
   "source": [
    "---"
   ]
  },
  {
   "cell_type": "markdown",
   "metadata": {},
   "source": [
    "Why use Python for data analysis? Because it is _the_ language of choice for Data Science:"
   ]
  },
  {
   "cell_type": "markdown",
   "metadata": {},
   "source": [
    "<img src=\"https://i.imgur.com/QJ4itIj.png\" \n",
    "     style=\"width: 700px\"\n",
    "     ></img>"
   ]
  },
  {
   "cell_type": "markdown",
   "metadata": {},
   "source": [
    "Chart source: [2018 Kaggle Machine Learning and Data Science survey](https://www.houseofbots.com/news-detail/4527-1-most-used-programming-languages-and-recommended-by-data-scientists-expert) (contains many other aspects as well)"
   ]
  },
  {
   "cell_type": "markdown",
   "metadata": {},
   "source": [
    "It is also the area Python sees most use in (but other areas see a lot of use as well, so learning this can lead to transferrable skills):"
   ]
  },
  {
   "cell_type": "markdown",
   "metadata": {},
   "source": [
    "<img src=\"https://i.imgur.com/sRNRvDc.png\" \n",
    "     style=\"width: 600px\"\n",
    "     ></img>"
   ]
  },
  {
   "cell_type": "markdown",
   "metadata": {},
   "source": [
    "Chart source: [2018 Python Developers Survey](https://www.jetbrains.com/research/python-developers-survey-2018/) (contains many other aspects as well)"
   ]
  },
  {
   "cell_type": "markdown",
   "metadata": {},
   "source": [
    "Why visualize data? The following table shows the exact same data, but is much harder to digest compared to the graphical representation above."
   ]
  },
  {
   "cell_type": "markdown",
   "metadata": {},
   "source": [
    "<table class=\"table table-bordered table-hover table-condensed\">\n",
    "<thead><tr><th title=\"Field #1\"> </th>\n",
    "<th title=\"Field #2\">Main</th>\n",
    "<th title=\"Field #3\">Secondary</th>\n",
    "</tr></thead>\n",
    "<tbody><tr>\n",
    "<td>Data analysis</td>\n",
    "<td align=\"right\">58</td>\n",
    "<td align=\"right\">50</td>\n",
    "</tr>\n",
    "<tr>\n",
    "<td>Web development</td>\n",
    "<td align=\"right\">52</td>\n",
    "<td align=\"right\">49</td>\n",
    "</tr>\n",
    "<tr>\n",
    "<td>DevOps / System administration / Writing automation scripts</td>\n",
    "<td align=\"right\">43</td>\n",
    "<td align=\"right\">35</td>\n",
    "</tr>\n",
    "<tr>\n",
    "<td>Machine learning</td>\n",
    "<td align=\"right\">38</td>\n",
    "<td align=\"right\">31</td>\n",
    "</tr>\n",
    "<tr>\n",
    "<td>Programming of web parsers / scrapers / crawlers</td>\n",
    "<td align=\"right\">37</td>\n",
    "<td align=\"right\">32</td>\n",
    "</tr>\n",
    "<tr>\n",
    "<td>Software testing / Writing automated tests</td>\n",
    "<td align=\"right\">32</td>\n",
    "<td align=\"right\">26</td>\n",
    "</tr>\n",
    "<tr>\n",
    "<td>Educational purposes</td>\n",
    "<td align=\"right\">28</td>\n",
    "<td align=\"right\">28</td>\n",
    "</tr>\n",
    "<tr>\n",
    "<td>Software prototyping</td>\n",
    "<td align=\"right\">27</td>\n",
    "<td align=\"right\">22</td>\n",
    "</tr>\n",
    "<tr>\n",
    "<td>Network programming</td>\n",
    "<td align=\"right\">20</td>\n",
    "<td align=\"right\">21</td>\n",
    "</tr>\n",
    "<tr>\n",
    "<td>Desktop development</td>\n",
    "<td align=\"right\">19</td>\n",
    "<td align=\"right\">20</td>\n",
    "</tr>\n",
    "<tr>\n",
    "<td>Computer graphics</td>\n",
    "<td align=\"right\">9</td>\n",
    "<td align=\"right\">10</td>\n",
    "</tr>\n",
    "<tr>\n",
    "<td>Embedded development</td>\n",
    "<td align=\"right\">8</td>\n",
    "<td align=\"right\">7</td>\n",
    "</tr>\n",
    "<tr>\n",
    "<td>Game development</td>\n",
    "<td align=\"right\">6</td>\n",
    "<td align=\"right\">9</td>\n",
    "</tr>\n",
    "<tr>\n",
    "<td>Mobile development</td>\n",
    "<td align=\"right\">5</td>\n",
    "<td align=\"right\">6</td>\n",
    "</tr>\n",
    "<tr>\n",
    "<td>Multimedia applications development</td>\n",
    "<td align=\"right\">3</td>\n",
    "<td align=\"right\">3</td>\n",
    "</tr>\n",
    "<tr>\n",
    "<td>Other</td>\n",
    "<td align=\"right\">7</td>\n",
    "<td align=\"right\">7</td>\n",
    "</tr>\n",
    "</tbody></table>"
   ]
  },
  {
   "cell_type": "markdown",
   "metadata": {},
   "source": [
    "### Data\n",
    "\n",
    "Why learn to work with data? Because we have so so so much of it, and making use of it can lead to great results:\n",
    "\n",
    "<img src=\"http://www.clivemaxfield.com/area51/do-not-delete/lar-0011n-eet-03-lg.jpg\" \n",
    "     style=\"width: 700px\"\n",
    "     ></img>\n",
    "     \n",
    "Chart source: [2016 EE Times article](https://www.eetimes.com/author.asp?section_id=36&doc_id=1330462) (contains other charts as well)\n",
    "\n",
    "\n",
    "> Between the dawn of civilization and 2003, we only created five exabytes [5 million terabytes]; now we're creating that amount every two days. \n",
    "> By 2020, that figure is predicted to sit at 53 zettabytes [53 billion terabytes] — an increase of 50 times.\n",
    "> \n",
    "> _Hal Varian, Chief Economist at Google_"
   ]
  },
  {
   "cell_type": "markdown",
   "metadata": {},
   "source": [
    "---"
   ]
  },
  {
   "cell_type": "markdown",
   "metadata": {},
   "source": [
    "Why learn this technology stack? Because it is the most popular, and best the ecosystem has to offer, both in terms of functionality and ease-of-use but also community support:"
   ]
  },
  {
   "cell_type": "markdown",
   "metadata": {},
   "source": [
    "<img src=\"https://imgur.com/l4Rj1KT.png\" \n",
    "     style=\"width: 400px\"\n",
    "     ></img>"
   ]
  },
  {
   "cell_type": "markdown",
   "metadata": {},
   "source": [
    "Chart source: [2018 State of Developer Ecosystem](https://www.jetbrains.com/research/devecosystem-2018/python/)"
   ]
  },
  {
   "cell_type": "markdown",
   "metadata": {},
   "source": [
    "<img src=\"https://i.imgur.com/W8SuhXT.png\" \n",
    "     style=\"width: 700px\"\n",
    "     ></img>\n",
    "        \n",
    "Chart source [2018 Python Developers Survey](https://www.jetbrains.com/research/python-developers-survey-2018/) (contains many other aspects)"
   ]
  },
  {
   "cell_type": "markdown",
   "metadata": {},
   "source": [
    "### Real Datasets"
   ]
  },
  {
   "cell_type": "markdown",
   "metadata": {},
   "source": [
    "Why learn to explore datasets? You might be:\n",
    "- curious to find out more about a dataset\n",
    "- work on an open-ended task such as \"find out interesting things about the data\"\n",
    "- take the form of more in-depth statistical analysis\n",
    "- use it as a preparation step to understand the data for downstream prediction\n",
    "\n",
    "Why learn about real datasets? Because real data seldom comes in such sterile formats as teaching examples make it to be. Effectively working with the messiness of reality requires overcoming complications that arise in the process."
   ]
  },
  {
   "cell_type": "markdown",
   "metadata": {},
   "source": [
    "## Format\n",
    "- There are four sessions (each Tuesday of February)\n",
    "  - Same place (Leavey 3rd floor)\n",
    "  - Same time (11am - 12 noon)\n",
    "\n",
    "\n",
    "- Each session lasts for approximately one hour\n",
    "- Each session presents concepts and demonstrates their implementation\n",
    "  - Exercises (marked with 💪) are present at the end of each section to make sure you understood it\n",
    "  - Tips (marked with ℹ️) give useful advice about discussed concepts\n",
    "  - Trivia (marked with 👾) present some fun tidbits \n",
    "- Besides the presenter, two more librarians will be present to assist you\n",
    "\n",
    "\n",
    "- Questions are encouraged during the workshop\n",
    "- The presenter is available after the workshop for any questions\n",
    "- If you missed some exercises during the workshop, or wish to check your answer, each notebook will also have another version with all cells ran and exercises filled in\n",
    "\n",
    "\n",
    "- All files and documents are always available online in [this repo](https://github.com/stefan-niculae/viz-workshop)\n",
    "- Video recordings of the workshop may come in the future"
   ]
  },
  {
   "cell_type": "markdown",
   "metadata": {},
   "source": [
    "## Presenter relevance\n",
    "\n",
    "During years of experience in the industry and academia, these are the concepts the presenter and his colleagues use most frequently, found most useful and keep coming back to."
   ]
  },
  {
   "cell_type": "markdown",
   "metadata": {},
   "source": [
    "---"
   ]
  },
  {
   "cell_type": "markdown",
   "metadata": {},
   "source": [
    "TODO: add to \"where to find pretty visualizations\"\n",
    "- http://hint.fm\n",
    "- https://d3js.org"
   ]
  }
 ],
 "metadata": {
  "kernelspec": {
   "display_name": "Python 3",
   "language": "python",
   "name": "python3"
  },
  "language_info": {
   "codemirror_mode": {
    "name": "ipython",
    "version": 3
   },
   "file_extension": ".py",
   "mimetype": "text/x-python",
   "name": "python",
   "nbconvert_exporter": "python",
   "pygments_lexer": "ipython3",
   "version": "3.7.0"
  }
 },
 "nbformat": 4,
 "nbformat_minor": 2
}
